{
 "cells": [
  {
   "cell_type": "markdown",
   "id": "00453283",
   "metadata": {},
   "source": [
    "# <font color='red'> <b> <center> TRANSFORMER </center> </b> </font>"
   ]
  },
  {
   "cell_type": "markdown",
   "id": "0a4abf77",
   "metadata": {},
   "source": [
    "## Table of Contents\n",
    "\n",
    "- [Packages](#0)\n",
    "- [1 - Positional Encoding](#1)\n",
    "    - [1.1 - Sine and Cosine Angles](#1-1)\n",
    "        - [Exercise 1 - get_angles](#ex-1)\n",
    "    - [1.2 - Sine and Cosine Positional Encodings](#1-2)\n",
    "        - [Exercise 2 - positional_encoding](#ex-2)\n",
    "- [2 - Masking](#2)\n",
    "    - [2.1 - Padding Mask](#2-1)\n",
    "    - [2.2 - Look-ahead Mask](#2-2)\n",
    "- [3 - Self-Attention](#3)\n",
    "    - [Exercise 3 - scaled_dot_product_attention](#ex-3)\n",
    "- [4 - Encoder](#4)\n",
    "    - [4.1 Encoder Layer](#4-1)\n",
    "        - [Exercise 4 - EncoderLayer](#ex-4)\n",
    "    - [4.2 - Full Encoder](#4-2)\n",
    "        - [Exercise 5 - Encoder](#ex-5)\n",
    "- [5 - Decoder](#5)\n",
    "    - [5.1 - Decoder Layer](#5-1)\n",
    "        - [Exercise 6 - DecoderLayer](#ex-6)\n",
    "    - [5.2 - Full Decoder](#5-2)\n",
    "        - [Exercise 7 - Decoder](#ex-7)\n",
    "- [6 - Transformer](#6)\n",
    "    - [Exercise 8 - Transformer](#ex-8)\n",
    "- [7 - References](#7)"
   ]
  },
  {
   "cell_type": "markdown",
   "id": "5fd1b6da",
   "metadata": {},
   "source": [
    "<a name=\"1\"></a>\n",
    "## <font color='red'> <b>  1. Intro </b> </font>\n",
    "\n",
    "This notebook is dedicated to implementing a Transformer model from scratch, following the architecture described in the groundbreaking paper \"Attention Is All You Need\" by Vaswani et al. The primary objective of this implementation is to learn and understand the inner workings of Transformers, rather than simply using prebuilt libraries.\n",
    "\n",
    "I am going to cover key components such as:\n",
    "\n",
    "- Positional Encoding: Injecting order into sequences.\n",
    "- Scaled Dot-Product Attention: The core mechanism behind attention.\n",
    "- Multi-Head Attention: Learning diverse relationships in data.\n",
    "- Feed-Forward Networks: Extending attention's capabilities.\n",
    "- Layer Normalization and Residual Connections: Stabilizing and enhancing learning.\n",
    "- Encoder-Decoder Structure: Processing input and generating output.\n",
    "\n",
    "By the end of this notebook, you should gain a conceptual understanding of each component and how they fit together to form the Transformer. This hands-on approach will help demystify the architecture and prepare you to adapt or experiment with it for your own projects."
   ]
  },
  {
   "cell_type": "markdown",
   "id": "2dc891d8",
   "metadata": {},
   "source": [
    "<a name=\"2\"></a>\n",
    "## <font color='red'> <b>  2. Setup </b> </font>"
   ]
  },
  {
   "cell_type": "code",
   "execution_count": 2,
   "id": "4d678e38",
   "metadata": {},
   "outputs": [],
   "source": [
    "import tensorflow as tf\n",
    "import pandas as pd\n",
    "import time\n",
    "import numpy as np\n",
    "import matplotlib.pyplot as plt\n",
    "\n",
    "from tensorflow.keras.layers import Embedding, MultiHeadAttention, Dense, Input, Dropout, LayerNormalization\n",
    "from transformers import DistilBertTokenizerFast #, TFDistilBertModel\n",
    "from transformers import TFDistilBertForTokenClassification\n",
    "from tqdm import tqdm_notebook as tqdm"
   ]
  },
  {
   "cell_type": "code",
   "execution_count": 60,
   "id": "3aacec8b",
   "metadata": {},
   "outputs": [],
   "source": [
    "# Set the print options\n",
    "np.set_printoptions(precision=3)"
   ]
  },
  {
   "cell_type": "markdown",
   "id": "f69acea5",
   "metadata": {},
   "source": [
    "<a name=\"3\"></a>\n",
    "## <font color='red'> <b>  3. Positional Encoding </b> </font>\n",
    "\n",
    "<a name=\"3.1\"></a>\n",
    "### <font color='orange'> <b> 3.1. Concept and motivation </b> </font>\n",
    "\n",
    "\n",
    "In sequence to sequence tasks, the relative order of your data is extremely important to its meaning. When you were training sequential neural networks such as RNNs, you fed your inputs into the network in order. Information about the order of your data was automatically fed into your model.  However, when you train a Transformer network, you feed your data into the model all at once. While this dramatically reduces training time, there is no information about the order of your data. This is where positional encoding is useful - you can specifically encode the positions of your inputs and pass them into the network.\n",
    "\n",
    "\n",
    "There are various types of positional encoding, for example:\n",
    "\n",
    "- Sinusoidal encoding\n",
    "- Learned Positional Encoding\n",
    "- Relative Positional encoding\n",
    "\n",
    "\n",
    "In this notebook I will use the sinusoidal encoding, given by the following formulas:\n",
    "\n",
    "$$\n",
    "PE_{(pos, 2i)}= sin\\left(\\frac{pos}{{n}^{\\frac{2i}{d}}}\\right)\n",
    "\\tag{1}$$\n",
    "<br>\n",
    "$$\n",
    "PE_{(pos, 2i+1)}= cos\\left(\\frac{pos}{{n}^{\\frac{2i}{d}}}\\right)\n",
    "\\tag{2}$$\n",
    "\n",
    "\n",
    "where:\n",
    "\n",
    "* $d$ is the dimension of the word embedding and positional encoding\n",
    "* $pos$ is the position of the word.\n",
    "* $i$ refers to each of the different dimensions of the positional encoding.\n",
    "* $n$ is a user defined scalar (10000 in the paper)\n",
    "\n",
    "\n",
    "The values of the sine and cosine equations are small enough (between -1 and 1) that when you add the positional encoding to a word embedding, the word embedding is not significantly distorted. The sum of the positional encoding and word embeding is ultimately what is fed into the model. Using a combination of these two equations helps your Transformer network attend to the relative positions of your input data. \n",
    "\n",
    "In this notebook I am going to use horizontal vectors, that's why all the matrix multiplications should be adjusted accordingly."
   ]
  },
  {
   "cell_type": "markdown",
   "id": "4fb63d2b",
   "metadata": {},
   "source": [
    "Let’s clarify the **number of positions in the sequence** with an example.\n",
    "\n",
    "\n",
    "Imagine you have a sequence of words:\n",
    "[\"The\", \"cat\", \"sat\", \"on\", \"the\", \"mat\"].\n",
    "\n",
    "Here:\n",
    "\n",
    "- Each word in the sequence corresponds to a position.\n",
    "- The total number of positions is the number of words in the sequence, which is 6 in this case.\n",
    "\n",
    "Now, if you're embedding these words (e.g., using word embeddings), you might represent the sequence as a matrix where:\n",
    "\n",
    "- Rows correspond to positions in the sequence (one row for each word).\n",
    "- Columns correspond to the embedding dimensions (let’s assume d=4 for simplicity).\n"
   ]
  },
  {
   "cell_type": "markdown",
   "id": "f8b735c3",
   "metadata": {},
   "source": [
    "<a name=\"3.2\"></a>\n",
    "### <font color='orange'> <b> 3.2. Implementation </b> </font>"
   ]
  },
  {
   "cell_type": "code",
   "execution_count": 3,
   "id": "2b5601a2",
   "metadata": {},
   "outputs": [],
   "source": [
    "# helper function: get the angles for the positional encoding\n",
    "def get_angles(pos, i, d, n=10000):\n",
    "    \"\"\"\n",
    "    Get the angles for the positional encoding\n",
    "    \n",
    "    Arguments:\n",
    "        pos -- Column vector containing the positions [[0], [1], ...,[N-1]]\n",
    "        i --   Row vector containing the dimension span [[0, 1, 2, ..., d-1]]\n",
    "        d(integer) -- Encoding size\n",
    "        n -- user defined scalar\n",
    "    \n",
    "    Returns:\n",
    "        angles -- (pos, d) numpy array \n",
    "    \"\"\"\n",
    "    angles = pos/ (np.power(n, (2 * (i//2)) / np.float32(d)))\n",
    "\n",
    "    \n",
    "    return angles"
   ]
  },
  {
   "cell_type": "code",
   "execution_count": 4,
   "id": "4a3cb324",
   "metadata": {},
   "outputs": [
    {
     "name": "stdout",
     "output_type": "stream",
     "text": [
      "If i = 0 -> i//2 = 0\n",
      "If i = 1 -> i//2 = 0\n",
      "If i = 2 -> i//2 = 1\n",
      "If i = 3 -> i//2 = 1\n"
     ]
    }
   ],
   "source": [
    "# NOTE\n",
    "for i in range(4):\n",
    "    print(f\"If i = {i} -> i//2 = {i//2}\")"
   ]
  },
  {
   "cell_type": "markdown",
   "id": "a09e7168",
   "metadata": {},
   "source": [
    "Let's try our function.\n",
    "\n",
    "First let's remember that we can use np.newaxis to add an extra dimension to a numpy array.\n",
    "\n",
    "For example, in np.arange(7)[:, np.newaxis], [:, np.newaxis] adds a new axis (dimension) to the array along the columns, essentially converting the 1D array into a 2D column vector.\n",
    "\n",
    "In the case of np.arange(3)[np.newaxis, :], the new axis is added along the rows, resulting in a row vector.\n"
   ]
  },
  {
   "cell_type": "code",
   "execution_count": 5,
   "id": "e5245bda",
   "metadata": {},
   "outputs": [
    {
     "data": {
      "text/plain": [
       "((7,), (7, 1), (3,), (1, 3))"
      ]
     },
     "execution_count": 5,
     "metadata": {},
     "output_type": "execute_result"
    }
   ],
   "source": [
    "np.arange(7).shape, np.arange(7)[:, np.newaxis].shape, np.arange(3).shape,  np.arange(3)[np.newaxis, :].shape"
   ]
  },
  {
   "cell_type": "code",
   "execution_count": 6,
   "id": "bb099cdb",
   "metadata": {},
   "outputs": [
    {
     "data": {
      "text/plain": [
       "(array([0, 1, 2, 3, 4, 5, 6]),\n",
       " array([[0],\n",
       "        [1],\n",
       "        [2],\n",
       "        [3],\n",
       "        [4],\n",
       "        [5],\n",
       "        [6]]))"
      ]
     },
     "execution_count": 6,
     "metadata": {},
     "output_type": "execute_result"
    }
   ],
   "source": [
    "np.arange(7), np.arange(7)[:, np.newaxis]"
   ]
  },
  {
   "cell_type": "code",
   "execution_count": 7,
   "id": "5748742f",
   "metadata": {},
   "outputs": [
    {
     "data": {
      "text/plain": [
       "(array([0, 1, 2]), array([[0, 1, 2]]))"
      ]
     },
     "execution_count": 7,
     "metadata": {},
     "output_type": "execute_result"
    }
   ],
   "source": [
    "np.arange(3), np.arange(3)[np.newaxis, :]"
   ]
  },
  {
   "cell_type": "code",
   "execution_count": 8,
   "id": "13af562e",
   "metadata": {},
   "outputs": [
    {
     "name": "stdout",
     "output_type": "stream",
     "text": [
      "(7, 3)\n"
     ]
    },
    {
     "data": {
      "text/plain": [
       "array([[0.  , 0.  , 0.  ],\n",
       "       [1.  , 1.  , 0.01],\n",
       "       [2.  , 2.  , 0.02],\n",
       "       [3.  , 3.  , 0.03],\n",
       "       [4.  , 4.  , 0.04],\n",
       "       [5.  , 5.  , 0.05],\n",
       "       [6.  , 6.  , 0.06]])"
      ]
     },
     "execution_count": 8,
     "metadata": {},
     "output_type": "execute_result"
    }
   ],
   "source": [
    "example = get_angles(np.arange(7)[:, np.newaxis], np.arange(3)[np.newaxis, :], 4)\n",
    "print(example.shape)\n",
    "example"
   ]
  },
  {
   "cell_type": "markdown",
   "id": "abad6f37",
   "metadata": {},
   "source": [
    "Now, let's implement the positional encoding. We have to use the sine equation when $i$ is an even number and the cosine equation when $i$ is an odd number."
   ]
  },
  {
   "cell_type": "code",
   "execution_count": 9,
   "id": "9c540b85",
   "metadata": {},
   "outputs": [],
   "source": [
    "def positional_encoding(positions, d):\n",
    "    \"\"\"\n",
    "    Precomputes a matrix with all the positional encodings \n",
    "    \n",
    "    Arguments:\n",
    "        positions (int) -- Maximum number of positions to be encoded \n",
    "        d (int) -- Encoding size \n",
    "    \n",
    "    Returns:\n",
    "        pos_encoding -- (1, position, d_model) A matrix with the positional encodings\n",
    "    \"\"\"\n",
    "    # initialize a matrix angle_rads of all the angles \n",
    "    angle_rads = get_angles(np.arange(positions)[:, np.newaxis],\n",
    "                            np.arange(d)[ np.newaxis,:],\n",
    "                            d)\n",
    "      \n",
    "    # -> angle_rads has dim (positions,d)\n",
    "    \n",
    "    # apply sin to even indices in the array; 2i\n",
    "    angle_rads[:, 0::2] = np.sin(angle_rads[:, 0::2])\n",
    "  \n",
    "    # apply cos to odd indices in the array; 2i+1\n",
    "    angle_rads[:, 1::2] = np.cos(angle_rads[:, 1::2])\n",
    "\n",
    "    # #  add an extra dimension at the beginning of the array, \n",
    "    # so the final shape of pos_encoding becomes (1, positions, d)\n",
    "    pos_encoding = angle_rads[np.newaxis, ...]\n",
    "    \n",
    "    return tf.cast(pos_encoding, dtype=tf.float32)"
   ]
  },
  {
   "cell_type": "markdown",
   "id": "7d1e10d5",
   "metadata": {},
   "source": [
    "**Note.**. Let's talk a little bit more about the line \"pos_encoding = angle_rads[np.newaxis, ...]\". The purpose of np.newaxis is to add an extra dimension at the beginning of the array, so the final shape of pos_encoding becomes (1, positions, d). This means the positional encoding has an additional dimension at the start, representing a \"batch\" of size 1 (this is typical in TensorFlow and other deep learning frameworks).\n",
    "\n",
    "For example, if positions = 3 and d = 4, the shape of pos_encoding will be (1, 3, 4).\n",
    "\n",
    "- 1 represents the batch size (in this case, just one sequence set).\n",
    "- 3 is the number of positions in the sequence.\n",
    "- 4 is the size of the embedding vectors.\n",
    "\n",
    "To retrieve the positional encoding for the positions, you can take pos_encoding[0], which selects the matrix with dimensions (3, 4). This is the positional encoding to be added to your input embeddings, representing the application of positional encoding to your input sequence."
   ]
  },
  {
   "cell_type": "markdown",
   "id": "b8b607f1",
   "metadata": {},
   "source": [
    "Let's try our function."
   ]
  },
  {
   "cell_type": "code",
   "execution_count": 10,
   "id": "b8e8a447",
   "metadata": {},
   "outputs": [
    {
     "data": {
      "text/plain": [
       "<tf.Tensor: shape=(1, 8, 3), dtype=float32, numpy=\n",
       "array([[[ 0.        ,  1.        ,  0.        ],\n",
       "        [ 0.84147096,  0.5403023 ,  0.00215443],\n",
       "        [ 0.9092974 , -0.41614684,  0.00430886],\n",
       "        [ 0.14112   , -0.9899925 ,  0.00646326],\n",
       "        [-0.7568025 , -0.6536436 ,  0.00861763],\n",
       "        [-0.9589243 ,  0.2836622 ,  0.01077196],\n",
       "        [-0.2794155 ,  0.96017027,  0.01292625],\n",
       "        [ 0.6569866 ,  0.75390226,  0.01508047]]], dtype=float32)>"
      ]
     },
     "execution_count": 10,
     "metadata": {},
     "output_type": "execute_result"
    }
   ],
   "source": [
    "# 8 positions with an embedding size of 3\n",
    "example = positional_encoding(8, 3)\n",
    "example"
   ]
  },
  {
   "cell_type": "code",
   "execution_count": 11,
   "id": "8468ff0d",
   "metadata": {},
   "outputs": [
    {
     "data": {
      "text/plain": [
       "<tf.Tensor: shape=(8, 3), dtype=float32, numpy=\n",
       "array([[ 0.        ,  1.        ,  0.        ],\n",
       "       [ 0.84147096,  0.5403023 ,  0.00215443],\n",
       "       [ 0.9092974 , -0.41614684,  0.00430886],\n",
       "       [ 0.14112   , -0.9899925 ,  0.00646326],\n",
       "       [-0.7568025 , -0.6536436 ,  0.00861763],\n",
       "       [-0.9589243 ,  0.2836622 ,  0.01077196],\n",
       "       [-0.2794155 ,  0.96017027,  0.01292625],\n",
       "       [ 0.6569866 ,  0.75390226,  0.01508047]], dtype=float32)>"
      ]
     },
     "execution_count": 11,
     "metadata": {},
     "output_type": "execute_result"
    }
   ],
   "source": [
    "example[0]"
   ]
  },
  {
   "cell_type": "markdown",
   "id": "43604db5",
   "metadata": {},
   "source": [
    "Let's plot our positional encodings."
   ]
  },
  {
   "cell_type": "code",
   "execution_count": 12,
   "id": "7e2888e1",
   "metadata": {},
   "outputs": [
    {
     "name": "stdout",
     "output_type": "stream",
     "text": [
      "(1, 50, 512)\n"
     ]
    },
    {
     "data": {
      "image/png": "[encoded data removed]",
      "text/plain": [
       "<Figure size 640x480 with 2 Axes>"
      ]
     },
     "metadata": {},
     "output_type": "display_data"
    }
   ],
   "source": [
    "num_positions = 50\n",
    "d = 512\n",
    "\n",
    "pos_encoding = positional_encoding(num_positions, d)\n",
    "\n",
    "print (pos_encoding.shape)\n",
    "\n",
    "plt.pcolormesh(pos_encoding[0], cmap='RdBu') # we take pos_encoding[0] (we remove batch dimension)\n",
    "plt.xlabel('d')\n",
    "plt.xlim((0, d))\n",
    "plt.ylabel('Position')\n",
    "plt.colorbar()\n",
    "plt.show()"
   ]
  },
  {
   "cell_type": "markdown",
   "id": "b014364d",
   "metadata": {},
   "source": [
    "Each row represents a positional encoding - notice how none of the rows are identical! We have created a unique positional encoding for each of the words."
   ]
  },
  {
   "cell_type": "markdown",
   "id": "64d29500",
   "metadata": {},
   "source": [
    "Finally, let's look at an example where we add the positional encoding to the word embeddings.\n",
    "\n",
    "<img src=\"images/PosEncoding.png\"/>"
   ]
  },
  {
   "cell_type": "code",
   "execution_count": 13,
   "id": "95c679e0",
   "metadata": {},
   "outputs": [
    {
     "name": "stdout",
     "output_type": "stream",
     "text": [
      "\u001b[1mInput embedding:\u001b[0m\n",
      "tf.Tensor(\n",
      "[[0.1 0.2 0.3 0.4]\n",
      " [0.5 0.6 0.7 0.8]\n",
      " [0.9 1.  1.1 1.2]], shape=(3, 4), dtype=float32)\n",
      "\u001b[1m\n",
      "Positional Encoding:\u001b[0m\n",
      "tf.Tensor(\n",
      "[[[ 0.          1.          0.          1.        ]\n",
      "  [ 0.84147096  0.5403023   0.00999983  0.99995   ]\n",
      "  [ 0.9092974  -0.41614684  0.01999867  0.9998    ]]], shape=(1, 3, 4), dtype=float32)\n",
      "\u001b[1m\n",
      "Sum of the embedding with positional encoding:\u001b[0m\n",
      "tf.Tensor(\n",
      "[[0.1       1.2       0.3       1.4      ]\n",
      " [1.341471  1.1403023 0.7099998 1.79995  ]\n",
      " [1.8092973 0.5838531 1.1199987 2.1998   ]], shape=(3, 4), dtype=float32)\n"
     ]
    }
   ],
   "source": [
    "# Let' say that we have an embedding with 3 tokens and 4 dimensions\n",
    "\n",
    "\n",
    "# input text: \"I am happy\"\n",
    "embedding = np.array([[0.1, 0.2, 0.3, 0.4], # corresponds to \"I\"\n",
    "                     [0.5, 0.6, 0.7, 0.8],  # corresponds to \"am\"\n",
    "                     [0.9, 1.0, 1.1, 1.2]]) # corresponds to \"happy\"\n",
    "\n",
    "embedding = tf.constant(embedding, dtype=tf.float32)\n",
    "\n",
    "# Positional encoding for a sequence of length 3 and embedding size 4\n",
    "pos_encoding = positional_encoding(3, 4)\n",
    "\n",
    "# sum of embedding with positional encoding\n",
    "encoded_input = embedding + pos_encoding[0]\n",
    "\n",
    "# Results\n",
    "print(\"\\033[1mInput embedding:\\033[0m\")\n",
    "print(embedding)\n",
    "\n",
    "print(\"\\033[1m\\nPositional Encoding:\\033[0m\")\n",
    "print(pos_encoding)\n",
    "\n",
    "print(\"\\033[1m\\nSum of the embedding with positional encoding:\\033[0m\")\n",
    "print(encoded_input)\n"
   ]
  },
  {
   "cell_type": "markdown",
   "id": "c2e5b752",
   "metadata": {},
   "source": [
    "<a name=\"4\"></a>\n",
    "## <font color='red'> <b>  4. Masking </b> </font>\n",
    "\n",
    "There are two types of masks that are useful when building your Transformer network: \n",
    "\n",
    "- The *padding mask*\n",
    "- The *look-ahead mask*\n",
    "\n",
    "Both help the softmax computation give the appropriate weights to the words in your input sentence. "
   ]
  },
  {
   "cell_type": "markdown",
   "id": "54a71e83",
   "metadata": {},
   "source": [
    "<a name=\"4.1\"></a>\n",
    "### <font color='orange'> <b> 4.1. Padding mask </b> </font>"
   ]
  },
  {
   "cell_type": "markdown",
   "id": "d991f41c",
   "metadata": {},
   "source": [
    "Oftentimes your input sequence will exceed the maximum length of a sequence your network can process. Let's say the maximum length of your model is five, it is fed the following sequences:\n",
    "\n",
    "    [[\"Do\", \"you\", \"know\", \"when\", \"Jane\", \"is\", \"going\", \"to\", \"visit\", \"Africa\"], \n",
    "     [\"Jane\", \"visits\", \"Africa\", \"in\", \"September\" ],\n",
    "     [\"Exciting\", \"!\"]\n",
    "    ]\n",
    "\n",
    "which might get vectorized as:\n",
    "\n",
    "    [[ 71, 121, 4, 56, 99, 2344, 345, 1284, 15],\n",
    "     [ 56, 1285, 15, 181, 545],\n",
    "     [ 87, 600]\n",
    "    ]\n",
    "    \n",
    "When passing sequences into a transformer model, it is important that they are of uniform length. You can achieve this by padding the sequence with zeros, and truncating sentences that exceed the maximum length of your model:\n",
    "\n",
    "    [[ 71, 121, 4, 56, 99],\n",
    "     [ 2344, 345, 1284, 15, 0],\n",
    "     [ 56, 1285, 15, 181, 545],\n",
    "     [ 87, 600, 0, 0, 0],\n",
    "    ]\n",
    "    \n",
    "Sequences longer than the maximum length of five will be truncated, and zeros will be added to the truncated sequence to achieve uniform length. Similarly, for sequences shorter than the maximum length, they zeros will also be added for padding. However, these zeros will affect the softmax calculation - this is when a padding mask comes in handy! By multiplying a padding mask by a small negative number (for example -1e9) and adding it to your sequence, you mask out the zeros by setting them to close to negative infinity.\n",
    "\n",
    "After masking, your input should go from `[87, 600, 0, 0, 0]` to `[87, 600, -1e9, -1e9, -1e9]`, so that when you take the softmax, the zeros don't affect the score."
   ]
  },
  {
   "cell_type": "markdown",
   "id": "f283a014",
   "metadata": {},
   "source": [
    "Let's remember that in in a softmax function, when x approach to -infinity, the value tends to 0.\n",
    "\n",
    "<img src=\"images/softmax.png\"/>"
   ]
  },
  {
   "cell_type": "markdown",
   "id": "f87c2a64",
   "metadata": {},
   "source": [
    "We will use [tf.math.equal](https://www.tensorflow.org/api_docs/python/tf/math/equal)"
   ]
  },
  {
   "cell_type": "code",
   "execution_count": 66,
   "id": "db8e4a2f",
   "metadata": {},
   "outputs": [
    {
     "name": "stdout",
     "output_type": "stream",
     "text": [
      "Original data:\n",
      " [[1 0 3]\n",
      " [4 0 6]]\n",
      "\n",
      " Mask:\n",
      " [[False  True False]\n",
      " [False  True False]]\n",
      "\n",
      " Mask Float:\n",
      " [[0. 1. 0.]\n",
      " [0. 1. 0.]]\n"
     ]
    }
   ],
   "source": [
    "# Example sequence\n",
    "seq = tf.constant([[1, 0, 3], [4, 0, 6]])\n",
    "print(f\"Original data:\\n {seq}\")\n",
    "\n",
    "# Check where elements are equal to 0\n",
    "mask = tf.math.equal(seq, 0)  # Result: [[False, True, False], [False, True, False]]\n",
    "print(f\"\\n Mask:\\n {mask}\")\n",
    "\n",
    "# Convert to float32\n",
    "mask_float = tf.cast(mask, tf.float32)  # Result: [[0.0, 1.0, 0.0], [0.0, 1.0, 0.0]]\n",
    "\n",
    "print(f\"\\n Mask Float:\\n {mask_float}\")"
   ]
  },
  {
   "cell_type": "code",
   "execution_count": 42,
   "id": "9c57fc30",
   "metadata": {},
   "outputs": [],
   "source": [
    "def create_padding_mask(seq):\n",
    "    \"\"\"\n",
    "    Creates a matrix mask for the padding cells\n",
    "    \n",
    "    Arguments:\n",
    "        seq -- (n, m) matrix\n",
    "    \n",
    "    Returns:\n",
    "        mask -- (n, 1, 1, m) binary tensor\n",
    "    \"\"\"\n",
    "    seq = tf.cast(tf.math.equal(seq, 0), tf.float32)\n",
    "  \n",
    "    # add extra dimensions to add the padding\n",
    "    # to the attention logits.\n",
    "    return seq[:, tf.newaxis, tf.newaxis, :] # shape (n, 1, 1, m)"
   ]
  },
  {
   "cell_type": "code",
   "execution_count": 43,
   "id": "797089cd",
   "metadata": {},
   "outputs": [
    {
     "name": "stdout",
     "output_type": "stream",
     "text": [
      "tf.Tensor(\n",
      "[[[[0. 0. 1. 1. 0.]]]\n",
      "\n",
      "\n",
      " [[[0. 0. 0. 1. 1.]]]\n",
      "\n",
      "\n",
      " [[[1. 1. 1. 0. 0.]]]], shape=(3, 1, 1, 5), dtype=float32)\n"
     ]
    }
   ],
   "source": [
    "# Let's try our function\n",
    "\n",
    "x = tf.constant([[7., 6., 0., 0., 1.], [1., 2., 3., 0., 0.], [0., 0., 0., 4., 5.]])\n",
    "print(create_padding_mask(x))"
   ]
  },
  {
   "cell_type": "markdown",
   "id": "26c93471",
   "metadata": {},
   "source": [
    "We can see that in every place where there was a number other than 0, it was changed to 0, and in the places where there was a 1, it was changed to 1."
   ]
  },
  {
   "cell_type": "markdown",
   "id": "6618dca1",
   "metadata": {},
   "source": [
    "Let's multiply this by a small number (1e-9 in this example):"
   ]
  },
  {
   "cell_type": "code",
   "execution_count": 44,
   "id": "d592bf53",
   "metadata": {},
   "outputs": [
    {
     "data": {
      "text/plain": [
       "<tf.Tensor: shape=(3, 1, 1, 5), dtype=float32, numpy=\n",
       "array([[[[-0.e+00, -0.e+00, -1.e+09, -1.e+09, -0.e+00]]],\n",
       "\n",
       "\n",
       "       [[[-0.e+00, -0.e+00, -0.e+00, -1.e+09, -1.e+09]]],\n",
       "\n",
       "\n",
       "       [[[-1.e+09, -1.e+09, -1.e+09, -0.e+00, -0.e+00]]]], dtype=float32)>"
      ]
     },
     "execution_count": 44,
     "metadata": {},
     "output_type": "execute_result"
    }
   ],
   "source": [
    "create_padding_mask(x) * -1.0e9"
   ]
  },
  {
   "cell_type": "markdown",
   "id": "bb306f16",
   "metadata": {},
   "source": [
    "We will now see that the difference between the softmax of x and that of x added to this mask is very small."
   ]
  },
  {
   "cell_type": "code",
   "execution_count": 51,
   "id": "ed902c1f",
   "metadata": {},
   "outputs": [
    {
     "data": {
      "text/plain": [
       "<tf.Tensor: shape=(3, 5), dtype=float32, numpy=\n",
       "array([[7.288e-01, 2.681e-01, 6.645e-04, 6.645e-04, 1.806e-03],\n",
       "       [8.444e-02, 2.295e-01, 6.239e-01, 3.106e-02, 3.106e-02],\n",
       "       [4.854e-03, 4.854e-03, 4.854e-03, 2.650e-01, 7.204e-01]],\n",
       "      dtype=float32)>"
      ]
     },
     "execution_count": 51,
     "metadata": {},
     "output_type": "execute_result"
    }
   ],
   "source": [
    "tf.keras.activations.softmax(x) "
   ]
  },
  {
   "cell_type": "code",
   "execution_count": 59,
   "id": "44b8030c",
   "metadata": {},
   "outputs": [
    {
     "data": {
      "text/plain": [
       "<tf.Tensor: shape=(3, 1, 3, 5), dtype=float32, numpy=\n",
       "array([[[[0.09 , 0.245, 0.665, 0.   , 0.   ],\n",
       "         [0.016, 0.117, 0.867, 0.   , 0.   ],\n",
       "         [0.844, 0.114, 0.042, 0.   , 0.   ]]],\n",
       "\n",
       "\n",
       "       [[[0.   , 0.259, 0.705, 0.035, 0.   ],\n",
       "         [0.   , 0.114, 0.844, 0.042, 0.   ],\n",
       "         [0.   , 0.576, 0.212, 0.212, 0.   ]]],\n",
       "\n",
       "\n",
       "       [[[0.245, 0.665, 0.   , 0.   , 0.09 ],\n",
       "         [0.107, 0.787, 0.   , 0.   , 0.107],\n",
       "         [0.665, 0.09 , 0.   , 0.   , 0.245]]]], dtype=float32)>"
      ]
     },
     "execution_count": 59,
     "metadata": {},
     "output_type": "execute_result"
    }
   ],
   "source": [
    "tf.keras.activations.softmax(x + create_padding_mask(x) * -1.0e9, axis=-1)"
   ]
  },
  {
   "cell_type": "markdown",
   "id": "28af314c",
   "metadata": {},
   "source": [
    "**Summary**\n",
    "\n",
    "- Padding Mask\n",
    "    - A mask that indicates which elements in the sequence are padding and which are not.\n",
    "- Usage in Attention.\n",
    "    - It ensures that padding values do not affect the attention scores and, therefore, the result of the softmax.\n",
    "- Effect: \n",
    "    - Padding values do not influence the calculation of the output representations, allowing the model to focus only on the relevant parts of the sequence.\n",
    "This is crucial for proper training and for preventing the model from being \"confused\" by the artificially added zeros."
   ]
  },
  {
   "cell_type": "markdown",
   "id": "903e3e34",
   "metadata": {},
   "source": [
    "<a name=\"4.2\"></a>\n",
    "### <font color='orange'> <b> 4.2. Look-ahead mask </b> </font>"
   ]
  },
  {
   "cell_type": "markdown",
   "id": "fbe8e4c7",
   "metadata": {},
   "source": [
    "The look-ahead mask (or causal mask) is a special type of mask used in the Transformer, especially in the context of the decoder. Its main function is to prevent the model from using future information when predicting the next word or token in a sequence, ensuring that the model is autoregressive.\n",
    "\n",
    "Why is it used? The purpose of the look-ahead mask is to prevent the model from seeing the future when generating an output sequence. This means that when the model is predicting the token at position i, it should not \"see\" tokens at later positions (i+1, i+2, ...). This is crucial during both training and inference because, during inference, the model does not have access to future sequence information.\n",
    "\n",
    "How does it work? The look-ahead mask is a lower triangular matrix (with 1s in the lower part and 0s in the upper part), which is applied to the attention scores. This mask ensures that the attention values corresponding to future tokens in the sequence are masked.\n",
    "\n",
    "During the attention calculation, the attention scores for elements at future positions are set to a very negative value (e.g., negative infinity), so that after applying softmax, these positions do not influence the probability calculation."
   ]
  },
  {
   "cell_type": "markdown",
   "id": "ec7997dd",
   "metadata": {},
   "source": [
    "For example, if the expected correct output is `[1, 2, 3]` and you wanted to see if given that the model correctly predicted the first value it could predict the second value, you would mask out the second and third values. So you would input the masked sequence `[1, -1e9, -1e9]` and see if it could generate `[1, 2, -1e9]`."
   ]
  },
  {
   "cell_type": "markdown",
   "id": "765213c1",
   "metadata": {},
   "source": [
    "For the implementation we will use [tf.linalg.band_part](https://www.tensorflow.org/api_docs/python/tf/linalg/band_part).\n",
    "\n",
    "More specifically:\n",
    "\n",
    "tf.linalg.band_part(matrix, -1, 0):\n",
    "\n",
    "This is a function that extracts the lower triangular part of a matrix, with the specific options given:\n",
    "\n",
    "- matrix: The matrix to extract from, which is the matrix of ones in this case.\n",
    "\n",
    "- -1: The number of diagonals to include below the main diagonal. A value of -1 means all diagonals below the main diagonal.\n",
    "\n",
    "- 0: The number of diagonals to include above the main diagonal. A value of 0 means no diagonals above the main diagonal are included.\n",
    "\n",
    "So, it creates a lower triangular matrix, meaning it keeps the elements below and on the main diagonal, and sets all the elements above the main diagonal to 0."
   ]
  },
  {
   "cell_type": "code",
   "execution_count": 67,
   "id": "c5f2b8bc",
   "metadata": {},
   "outputs": [],
   "source": [
    "def create_look_ahead_mask(size):\n",
    "    \"\"\"\n",
    "    Returns an upper triangular matrix filled with ones\n",
    "    \n",
    "    Arguments:\n",
    "        size -- matrix size\n",
    "    \n",
    "    Returns:\n",
    "        mask -- (size, size) tensor\n",
    "    \"\"\"\n",
    "    mask = tf.linalg.band_part(tf.ones((size, size)), -1, 0)\n",
    "    return mask "
   ]
  },
  {
   "cell_type": "code",
   "execution_count": 70,
   "id": "4c27b245",
   "metadata": {},
   "outputs": [
    {
     "data": {
      "text/plain": [
       "<tf.Tensor: shape=(3, 3), dtype=float32, numpy=\n",
       "array([[1., 0., 0.],\n",
       "       [1., 1., 0.],\n",
       "       [1., 1., 1.]], dtype=float32)>"
      ]
     },
     "execution_count": 70,
     "metadata": {},
     "output_type": "execute_result"
    }
   ],
   "source": [
    "# Let's try\n",
    "x = tf.random.uniform((1, 3))\n",
    "temp = create_look_ahead_mask(x.shape[1])\n",
    "\n",
    "temp"
   ]
  },
  {
   "cell_type": "markdown",
   "id": "7a71b172",
   "metadata": {},
   "source": [
    "**Summary**\n",
    "\n",
    "- Look-ahead mask: \n",
    "    - A mask used in the decoder to prevent the model from seeing future tokens when making predictions in a sequence. \n",
    "\n",
    "- Purpose: \n",
    "    - Ensure that the model is autoregressive and generates tokens in sequential order, without accessing future information."
   ]
  },
  {
   "cell_type": "markdown",
   "id": "d45e22d2",
   "metadata": {},
   "source": [
    "<a name=\"5\"></a>\n",
    "## <font color='red'> <b>  5. Attention</b> </font>"
   ]
  },
  {
   "cell_type": "code",
   "execution_count": null,
   "id": "4ad454cc",
   "metadata": {},
   "outputs": [],
   "source": []
  },
  {
   "cell_type": "code",
   "execution_count": null,
   "id": "d4021286",
   "metadata": {},
   "outputs": [],
   "source": []
  },
  {
   "cell_type": "code",
   "execution_count": null,
   "id": "a50ef339",
   "metadata": {},
   "outputs": [],
   "source": []
  },
  {
   "cell_type": "markdown",
   "id": "38dd9cd1",
   "metadata": {},
   "source": [
    "<a name=\"5.1\"></a>\n",
    "### <font color='orange'> <b> 5.1. Types of Attention </b> </font>\n",
    "\n",
    "The 3 main types of attention in the transformer model are:\n",
    "\n",
    "- Encoder-decoder attention.\n",
    "- Self-Attention\n",
    "- Masked Self-Attention"
   ]
  },
  {
   "cell_type": "markdown",
   "id": "5cab8bc4",
   "metadata": {},
   "source": [
    "### The 3 Main Types of Attention in the Transformer Model:\n",
    "\n",
    "1. **Encoder-Decoder Attention**:\n",
    "   - This occurs in the decoder and allows the decoder to attend to all positions in the encoder's output. \n",
    "   - It is crucial for tasks like translation, where the decoder generates words based on the source sentence encoded by the encoder.\n",
    "\n",
    "2. **Self-Attention**:\n",
    "   - Used in both the encoder and decoder.\n",
    "   - Each token in the input sequence attends to all other tokens in the same sequence, enabling the model to capture dependencies between words.\n",
    "\n",
    "3. **Masked Self-Attention**:\n",
    "   - A variation of self-attention, used in the decoder.\n",
    "   - It prevents the decoder from attending to future tokens (positions ahead of the current token) during training.\n",
    "   - This is achieved by applying a look-ahead mask to the attention mechanism.\n"
   ]
  },
  {
   "cell_type": "code",
   "execution_count": null,
   "id": "fe1defb1",
   "metadata": {},
   "outputs": [],
   "source": []
  },
  {
   "cell_type": "code",
   "execution_count": null,
   "id": "ff0c5c60",
   "metadata": {},
   "outputs": [],
   "source": []
  },
  {
   "cell_type": "markdown",
   "id": "41af0693",
   "metadata": {},
   "source": [
    "### Encoder decoder-attention"
   ]
  },
  {
   "cell_type": "code",
   "execution_count": null,
   "id": "7136ccab",
   "metadata": {},
   "outputs": [],
   "source": []
  },
  {
   "cell_type": "code",
   "execution_count": null,
   "id": "c8dbc628",
   "metadata": {},
   "outputs": [],
   "source": []
  },
  {
   "cell_type": "code",
   "execution_count": null,
   "id": "509219e4",
   "metadata": {},
   "outputs": [],
   "source": []
  },
  {
   "cell_type": "code",
   "execution_count": null,
   "id": "91f367d6",
   "metadata": {},
   "outputs": [],
   "source": []
  },
  {
   "cell_type": "code",
   "execution_count": null,
   "id": "34427698",
   "metadata": {},
   "outputs": [],
   "source": []
  },
  {
   "cell_type": "code",
   "execution_count": null,
   "id": "6d5e9d06",
   "metadata": {},
   "outputs": [],
   "source": []
  },
  {
   "cell_type": "markdown",
   "id": "f2cd9a19",
   "metadata": {},
   "source": [
    "### Scaled dot-product attention"
   ]
  },
  {
   "cell_type": "markdown",
   "id": "dd5c4195",
   "metadata": {},
   "source": [
    "In scale dot-products attention:\n",
    "\n",
    "- We have queries, keys and values.\n",
    "- The attention layer outputs context vectors for each query.\n",
    "     - The context vectors are weighted sums of the values where the similarity between the queries and keys determines the weights assigned to each value.\n",
    "- The softmax ensures that the weights add up to 1.\n",
    "- The division by the square roots of the dimension of the key factors is used to improve performance.\n",
    "\n",
    "\n",
    "Mathematically:\n",
    "\n",
    "$$\n",
    "\\text { Attention }(Q, K, V)=\\operatorname{softmax}\\left(\\frac{Q K^{T}}{\\sqrt{d_{k}}}\\right) V\\tag{4}\\\n",
    "$$\n",
    "\n",
    "* $Q$ is the matrix of queries \n",
    "* $K$ is the matrix of keys\n",
    "* $V$ is the matrix of values\n",
    "* ${d_k}$ is the dimension of the keys, which is used to scale everything down so the softmax doesn't explode.\n",
    "\n",
    "\n",
    "The scale dot-product attention mechanism is very efficient since it relies only on matrix multiplication and a softmax. Additionally, we can implement this attention mechanism to run on GPUs or TPUs to speed up training.\n"
   ]
  },
  {
   "cell_type": "markdown",
   "id": "b01d4450",
   "metadata": {},
   "source": [
    "To get the query, key and value matrices, you must first transform the words in your sequences toward embeddings.\n",
    "\n",
    "- Let 's take the sentence \"Soy feliz\" as the source for the queries. \n",
    "    - You'll need to get the embedding vector for the words \"Soy\" and \"feliz\".\n",
    "    - The query matrix will contain all of these embedding vectors as rows.\n",
    "    - The matrix size is given by the size of the word embeddings and the length of the sequence. \n",
    "        - If the word embbedimgs size is for example d=4, then, in this example, the size will be 4x2 (because the length of our sequence (\"Soy feliz\") is 2).\n",
    "- To get the key matrix, let's use the sentence “I am happy”. You will get the embedding for each word in the sentence and stack them together to form the key matrix.\n",
    "    - The size will be: sequence length of the keys x dimension of the embedding (3 x 4 in this example).\n",
    "\n",
    "You will generally use the same vectors used for the key matrix for the value matrix. But you could also transform them first.\n",
    "\n",
    "Note that the number of vectors used to form the key and value matrix must be the same. \n",
    "\n",
    "\n",
    "\n"
   ]
  },
  {
   "cell_type": "markdown",
   "id": "70bcfaf8",
   "metadata": {},
   "source": [
    "<img src=\"images/scaled_dot_product.png\"/>"
   ]
  },
  {
   "cell_type": "markdown",
   "id": "451b88fa",
   "metadata": {},
   "source": [
    "Now, we can implement the formula.\n",
    "\n",
    "- First, you compute the matrix products between the query and the transpose of the key matrix. You scale it by the inverse of the square of the dimension of the key vectors, dk and calculate the softmax. \n",
    "    - This computation will give you a matrix with the weights for each key per query. Therefore the weight matrix will have a total number of elements equal to the number of queries times the number of keys.\n",
    "        - For example, the third element in the second row would correspond to the weights assigned to the third key for the second query.\n",
    "- After the computation of the weights matrix, you can multiply it with the value matrix to get a matrix that has rows and the context vector corresponding to each query. \n",
    "    - The number of columns on this matrix is equal to the size of the value vectors, which is often the same as the embedding size.\n",
    "\n"
   ]
  },
  {
   "cell_type": "markdown",
   "id": "7ba115e3",
   "metadata": {},
   "source": [
    "<img src=\"images/math_scd.png\"/>"
   ]
  },
  {
   "cell_type": "code",
   "execution_count": 78,
   "id": "3a52c794",
   "metadata": {},
   "outputs": [],
   "source": [
    "def scaled_dot_product_attention_v0(q, k, v):\n",
    "    \"\"\"\n",
    "    Calculate the attention weights.\n",
    "      q, k, v must have matching leading dimensions.\n",
    "      k, v must have matching penultimate dimension, i.e.: seq_len_k = seq_len_v.\n",
    "      The mask has different shapes depending on its type(padding or look ahead) \n",
    "      but it must be broadcastable for addition.\n",
    "\n",
    "    Arguments:\n",
    "        q -- query shape == (..., seq_len_q, depth)\n",
    "        k -- key shape == (..., seq_len_k, depth)\n",
    "        v -- value shape == (..., seq_len_v, depth_v)\n",
    "\n",
    "    Returns:\n",
    "        output -- attention_weights\n",
    "    \"\"\"\n",
    "    \n",
    "    # Q*K'\n",
    "    matmul_qk = tf.matmul(q, k, transpose_b=True)\n",
    "\n",
    "    # scale matmul_qk\n",
    "    dk = tf.cast(tf.shape(k)[-1], tf.float32)\n",
    "    scaled_attention_logits = matmul_qk / tf.math.sqrt(dk)\n",
    "\n",
    "    # softmax is normalized on the last axis (seq_len_k) so that the scores\n",
    "    # add up to 1.\n",
    "    attention_weights = tf.nn.softmax(scaled_attention_logits, axis=-1)  # (..., seq_len_q, seq_len_k)\n",
    "    \n",
    "    # attention_weights * V\n",
    "    output = tf.matmul(attention_weights, v)   # (..., seq_len_q, depth_v)\n",
    "    \n",
    "    return output, attention_weights"
   ]
  },
  {
   "cell_type": "markdown",
   "id": "c0306cc0",
   "metadata": {},
   "source": [
    "**Note.** About the ellipsis in the docstring.\n",
    "\n",
    "The ... (ellipsis) represents the batch dimensions and any additional dimensions (e.g., for multi-head attention or hierarchical models). In simpler cases, this is just the batch size. For example:\n",
    "\n",
    "- In a single-head attention scenario, the shape might be (batch_size,).\n",
    "- In a multi-head attention scenario, the shape might be (batch_size, num_heads).\n",
    "\n"
   ]
  },
  {
   "cell_type": "code",
   "execution_count": 79,
   "id": "2bb019ca",
   "metadata": {},
   "outputs": [
    {
     "name": "stdout",
     "output_type": "stream",
     "text": [
      "\u001b[1mQuery shape:\u001b[0m (2, 3, 5)\n",
      "\u001b[1mKey shape:\u001b[0m (2, 4, 5)\n",
      "\u001b[1mValue shape:\u001b[0m (2, 4, 6)\n",
      "\u001b[1mOutput shape:\u001b[0m (2, 3, 6)\n",
      "\u001b[1mAttention weights shape:\u001b[0m (2, 3, 4)\n",
      "\n",
      "\u001b[1mAttention Weights:\u001b[0m\n",
      " tf.Tensor(\n",
      "[[[0.273 0.215 0.305 0.207]\n",
      "  [0.258 0.219 0.284 0.239]\n",
      "  [0.246 0.23  0.282 0.242]]\n",
      "\n",
      " [[0.215 0.239 0.25  0.296]\n",
      "  [0.227 0.24  0.249 0.283]\n",
      "  [0.239 0.228 0.224 0.309]]], shape=(2, 3, 4), dtype=float32)\n",
      "\n",
      "\u001b[1mOutput:\u001b[0m\n",
      " tf.Tensor(\n",
      "[[[0.49  0.527 0.654 0.747 0.213 0.49 ]\n",
      "  [0.465 0.527 0.631 0.751 0.219 0.489]\n",
      "  [0.454 0.527 0.629 0.746 0.219 0.489]]\n",
      "\n",
      " [[0.273 0.125 0.413 0.323 0.479 0.443]\n",
      "  [0.273 0.124 0.415 0.334 0.487 0.438]\n",
      "  [0.287 0.117 0.431 0.336 0.494 0.438]]], shape=(2, 3, 6), dtype=float32)\n"
     ]
    }
   ],
   "source": [
    "# Example: Query, Key, Value tensors\n",
    "batch_size = 2  # Number of sequences in the batch\n",
    "seq_len_q = 3   # Length of the query sequence\n",
    "seq_len_kv = 4  # Length of the key and value sequences\n",
    "depth = 5       # Embedding size for query/key\n",
    "depth_v = 6     # Embedding size for value\n",
    "\n",
    "# Generate random tensors for q, k, v\n",
    "q = tf.random.uniform((batch_size, seq_len_q, depth))   # Shape: (2, 3, 5)\n",
    "k = tf.random.uniform((batch_size, seq_len_kv, depth))  # Shape: (2, 4, 5)\n",
    "v = tf.random.uniform((batch_size, seq_len_kv, depth_v))  # Shape: (2, 4, 6)\n",
    "\n",
    "# Apply scaled dot-product attention\n",
    "output, attention_weights = scaled_dot_product_attention_v0(q, k, v)\n",
    "\n",
    "# Print shapes and results\n",
    "print(\"\\033[1mQuery shape:\\033[0m\", q.shape)\n",
    "print(\"\\033[1mKey shape:\\033[0m\", k.shape)\n",
    "print(\"\\033[1mValue shape:\\033[0m\", v.shape)\n",
    "print(\"\\033[1mOutput shape:\\033[0m\", output.shape)  # Should match (batch_size, seq_len_q, depth_v)\n",
    "print(\"\\033[1mAttention weights shape:\\033[0m\", attention_weights.shape)  # Should match (batch_size, seq_len_q, seq_len_kv)\n",
    "\n",
    "# Print the tensors (optional)\n",
    "print(\"\\n\\033[1mAttention Weights:\\033[0m\\n\", attention_weights)\n",
    "print(\"\\n\\033[1mOutput:\\033[0m\\n\", output)\n"
   ]
  },
  {
   "cell_type": "markdown",
   "id": "c81a9771",
   "metadata": {},
   "source": [
    "Now, let's generalize the previous function to include an optional mask that will allow us to implement masked self-attention.\n",
    "\n",
    "Mathematicaly:\n",
    "\n",
    "$$\n",
    "\\text { Attention }(Q, K, V)=\\operatorname{softmax}\\left(\\frac{Q K^{T}}{\\sqrt{d_{k}}}+{M}\\right) V\\tag{4}\\\n",
    "$$\n",
    "\n",
    "* $Q$ is the matrix of queries \n",
    "* $K$ is the matrix of keys\n",
    "* $V$ is the matrix of values\n",
    "* $M$ is the optional mask you choose to apply \n",
    "* ${d_k}$ is the dimension of the keys, which is used to scale everything down so the softmax doesn't explode.\n"
   ]
  },
  {
   "cell_type": "markdown",
   "id": "4df77c5c",
   "metadata": {},
   "source": [
    "<img src=\"images/math_scdt_mask.png\"/>"
   ]
  },
  {
   "cell_type": "code",
   "execution_count": 81,
   "id": "5fe40ee4",
   "metadata": {},
   "outputs": [],
   "source": [
    "def scaled_dot_product_attention(q, k, v, mask):\n",
    "    \"\"\"\n",
    "    Calculate the attention weights.\n",
    "      q, k, v must have matching leading dimensions.\n",
    "      k, v must have matching penultimate dimension, i.e.: seq_len_k = seq_len_v.\n",
    "      The mask has different shapes depending on its type(padding or look ahead) \n",
    "      but it must be broadcastable for addition.\n",
    "\n",
    "    Arguments:\n",
    "        q -- query shape == (..., seq_len_q, depth)\n",
    "        k -- key shape == (..., seq_len_k, depth)\n",
    "        v -- value shape == (..., seq_len_v, depth_v)\n",
    "        mask: Float tensor with shape broadcastable \n",
    "              to (..., seq_len_q, seq_len_k). Defaults to None.\n",
    "\n",
    "    Returns:\n",
    "        output -- attention_weights\n",
    "    \"\"\"\n",
    "    \n",
    "    # Q*K'\n",
    "    matmul_qk = tf.matmul(q, k, transpose_b=True)\n",
    "\n",
    "    # scale matmul_qk\n",
    "    dk = tf.cast(tf.shape(k)[-1], tf.float32)\n",
    "    scaled_attention_logits = matmul_qk / tf.math.sqrt(dk)\n",
    "\n",
    "    # add the mask to the scaled tensor.\n",
    "    if mask is not None:\n",
    "        scaled_attention_logits += (mask * -1e9)\n",
    "\n",
    "    # softmax is normalized on the last axis (seq_len_k) so that the scores\n",
    "    # add up to 1.\n",
    "    attention_weights = tf.nn.softmax(scaled_attention_logits, axis=-1)  # (..., seq_len_q, seq_len_k)\n",
    "    # attention_weights * V\n",
    "    output = tf.matmul(attention_weights, v)   # (..., seq_len_q, depth_v)\n",
    "\n",
    "    return output, attention_weights"
   ]
  },
  {
   "cell_type": "code",
   "execution_count": 82,
   "id": "c85e37a7",
   "metadata": {},
   "outputs": [
    {
     "name": "stdout",
     "output_type": "stream",
     "text": [
      "\u001b[1mQuery shape:\u001b[0m (2, 3, 5)\n",
      "\u001b[1mKey shape:\u001b[0m (2, 4, 5)\n",
      "\u001b[1mValue shape:\u001b[0m (2, 4, 6)\n",
      "\u001b[1mMask shape:\u001b[0m (2, 1, 1, 4)\n",
      "\u001b[1mOutput shape:\u001b[0m (2, 2, 3, 6)\n",
      "\u001b[1mAttention weights shape:\u001b[0m (2, 2, 3, 4)\n",
      "\n",
      "\u001b[1mAttention Weights:\u001b[0m\n",
      " tf.Tensor(\n",
      "[[[[0.346 0.309 0.345 0.   ]\n",
      "   [0.332 0.312 0.356 0.   ]\n",
      "   [0.331 0.292 0.376 0.   ]]\n",
      "\n",
      "  [[0.358 0.306 0.336 0.   ]\n",
      "   [0.35  0.324 0.326 0.   ]\n",
      "   [0.32  0.352 0.328 0.   ]]]\n",
      "\n",
      "\n",
      " [[[0.332 0.    0.331 0.337]\n",
      "   [0.313 0.    0.336 0.352]\n",
      "   [0.318 0.    0.361 0.322]]\n",
      "\n",
      "  [[0.357 0.    0.335 0.309]\n",
      "   [0.355 0.    0.331 0.315]\n",
      "   [0.362 0.    0.371 0.266]]]], shape=(2, 2, 3, 4), dtype=float32)\n",
      "\n",
      "\u001b[1mOutput:\u001b[0m\n",
      " tf.Tensor(\n",
      "[[[[0.507 0.418 0.349 0.552 0.775 0.377]\n",
      "   [0.513 0.416 0.35  0.547 0.77  0.371]\n",
      "   [0.502 0.421 0.334 0.543 0.762 0.366]]\n",
      "\n",
      "  [[0.67  0.493 0.661 0.743 0.67  0.357]\n",
      "   [0.671 0.485 0.662 0.736 0.678 0.35 ]\n",
      "   [0.683 0.472 0.665 0.725 0.687 0.336]]]\n",
      "\n",
      "\n",
      " [[[0.361 0.411 0.183 0.57  0.739 0.426]\n",
      "   [0.367 0.406 0.184 0.567 0.735 0.422]\n",
      "   [0.363 0.414 0.177 0.561 0.728 0.413]]\n",
      "\n",
      "  [[0.74  0.433 0.692 0.858 0.601 0.479]\n",
      "   [0.741 0.429 0.693 0.859 0.602 0.479]\n",
      "   [0.736 0.456 0.688 0.856 0.588 0.475]]]], shape=(2, 2, 3, 6), dtype=float32)\n"
     ]
    }
   ],
   "source": [
    "# Example: Query, Key, Value tensors and Mask\n",
    "batch_size = 2  # Number of sequences in the batch\n",
    "seq_len_q = 3   # Length of the query sequence\n",
    "seq_len_kv = 4  # Length of the key and value sequences\n",
    "depth = 5       # Embedding size for query/key\n",
    "depth_v = 6     # Embedding size for value\n",
    "\n",
    "# Generate random tensors for q, k, v\n",
    "q = tf.random.uniform((batch_size, seq_len_q, depth))   # Shape: (2, 3, 5)\n",
    "k = tf.random.uniform((batch_size, seq_len_kv, depth))  # Shape: (2, 4, 5)\n",
    "v = tf.random.uniform((batch_size, seq_len_kv, depth_v))  # Shape: (2, 4, 6)\n",
    "\n",
    "# Generate a mask (e.g., padding mask)\n",
    "mask = tf.constant([[0, 0, 0, 1], [0, 1, 0, 0]], dtype=tf.float32)  # Shape: (2, 4)\n",
    "mask = tf.reshape(mask, (batch_size, 1, 1, seq_len_kv))  # Reshape to broadcast shape\n",
    "\n",
    "# Apply scaled dot-product attention with masking\n",
    "output, attention_weights = scaled_dot_product_attention(q, k, v, mask)\n",
    "\n",
    "# Print shapes and results\n",
    "print(\"\\033[1mQuery shape:\\033[0m\", q.shape)\n",
    "print(\"\\033[1mKey shape:\\033[0m\", k.shape)\n",
    "print(\"\\033[1mValue shape:\\033[0m\", v.shape)\n",
    "print(\"\\033[1mMask shape:\\033[0m\", mask.shape)\n",
    "print(\"\\033[1mOutput shape:\\033[0m\", output.shape)  # Should match (batch_size, seq_len_q, depth_v)\n",
    "print(\"\\033[1mAttention weights shape:\\033[0m\", attention_weights.shape)  # Should match (batch_size, seq_len_q, seq_len_kv)\n",
    "\n",
    "# Print the tensors (optional)\n",
    "print(\"\\n\\033[1mAttention Weights:\\033[0m\\n\", attention_weights)\n",
    "print(\"\\n\\033[1mOutput:\\033[0m\\n\", output)"
   ]
  },
  {
   "cell_type": "code",
   "execution_count": null,
   "id": "3a373413",
   "metadata": {},
   "outputs": [],
   "source": []
  },
  {
   "cell_type": "code",
   "execution_count": null,
   "id": "be582656",
   "metadata": {},
   "outputs": [],
   "source": []
  },
  {
   "cell_type": "code",
   "execution_count": null,
   "id": "34a6cd7b",
   "metadata": {},
   "outputs": [],
   "source": []
  },
  {
   "cell_type": "code",
   "execution_count": null,
   "id": "b5c9bebc",
   "metadata": {},
   "outputs": [],
   "source": []
  },
  {
   "cell_type": "code",
   "execution_count": null,
   "id": "23d6d35f",
   "metadata": {},
   "outputs": [],
   "source": []
  },
  {
   "cell_type": "code",
   "execution_count": null,
   "id": "7a58d929",
   "metadata": {},
   "outputs": [],
   "source": []
  },
  {
   "cell_type": "code",
   "execution_count": null,
   "id": "7c93bcd3",
   "metadata": {},
   "outputs": [],
   "source": []
  },
  {
   "cell_type": "code",
   "execution_count": null,
   "id": "3f3b3004",
   "metadata": {},
   "outputs": [],
   "source": []
  },
  {
   "cell_type": "code",
   "execution_count": null,
   "id": "dbad32af",
   "metadata": {},
   "outputs": [],
   "source": []
  },
  {
   "cell_type": "code",
   "execution_count": null,
   "id": "4a2a30ae",
   "metadata": {},
   "outputs": [],
   "source": []
  },
  {
   "cell_type": "markdown",
   "id": "20e9e799",
   "metadata": {},
   "source": [
    "<a name='3'></a>\n",
    "## 3 - Self-Attention\n",
    "\n",
    "As the authors of the Transformers paper state, \"Attention is All You Need\". \n",
    "\n",
    "<img src=\"self-attention.png\" alt=\"Encoder\" width=\"600\"/>\n",
    "<caption><center><font color='purple'><b>Figure 1: Self-Attention calculation visualization</font></center></caption>\n",
    "    \n",
    "The use of self-attention paired with traditional convolutional networks allows for the parallization which speeds up training. You will implement **scaled dot product attention** which takes in a query, key, value, and a mask as inputs to returns rich, attention-based vector representations of the words in your sequence. This type of self-attention can be mathematically expressed as:\n",
    "$$\n",
    "\\text { Attention }(Q, K, V)=\\operatorname{softmax}\\left(\\frac{Q K^{T}}{\\sqrt{d_{k}}}+{M}\\right) V\\tag{4}\\\n",
    "$$\n",
    "\n",
    "* $Q$ is the matrix of queries \n",
    "* $K$ is the matrix of keys\n",
    "* $V$ is the matrix of values\n",
    "* $M$ is the optional mask you choose to apply \n",
    "* ${d_k}$ is the dimension of the keys, which is used to scale everything down so the softmax doesn't explode\n",
    "    \n",
    "    \n",
    "   \n",
    "    \n",
    "    <font color='red'> poner las dimensiones de las matrices y la foto  </font>\n",
    "    \n",
    "\n",
    "<a name='ex-3'></a>\n",
    "### Exercise 3 - scaled_dot_product_attention \n",
    "\n",
    "    Implement the function `scaled_dot_product_attention()` to create attention-based representations\n",
    "**Reminder**: The boolean mask parameter can be passed in as `none` or as either padding or look-ahead. Multiply it by -1e9 before applying the softmax. \n"
   ]
  },
  {
   "cell_type": "markdown",
   "id": "59e917da",
   "metadata": {},
   "source": [
    "Cuando en la documentación de TensorFlow o NumPy ves algo como (..., seq_len, depth), no es un caso específico de indexación, sino una convención para describir tensores. En este contexto:\n",
    "\n",
    "La elipsis ... indica que puede haber dimensiones adicionales antes de seq_len y depth.\n",
    "Por ejemplo:\n",
    "(..., seq_len, depth) podría representar batch_size x num_heads x seq_len x depth si hay dimensiones de batch y de atención multi-cabeza.\n"
   ]
  },
  {
   "cell_type": "code",
   "execution_count": 21,
   "id": "903988de",
   "metadata": {},
   "outputs": [],
   "source": [
    "def scaled_dot_product_attention(q, k, v, mask, verbose=False): # verbose\n",
    "    \"\"\"\n",
    "    Calculate the attention weights.\n",
    "      q, k, v must have matching leading dimensions.\n",
    "      k, v must have matching penultimate dimension, i.e.: seq_len_k = seq_len_v.\n",
    "      The mask has different shapes depending on its type(padding or look ahead) \n",
    "      but it must be broadcastable for addition.\n",
    "\n",
    "    Arguments:\n",
    "        q -- query shape == (..., seq_len_q, depth)\n",
    "        k -- key shape == (..., seq_len_k, depth)\n",
    "        v -- value shape == (..., seq_len_v, depth_v)\n",
    "        mask: Float tensor with shape broadcastable \n",
    "              to (..., seq_len_q, seq_len_k). Defaults to None.\n",
    "\n",
    "    Returns:\n",
    "        output -- attention_weights\n",
    "    \"\"\"\n",
    "    \n",
    "    # Q*K'\n",
    "    matmul_qk = tf.matmul(q, k, transpose_b=True)\n",
    "\n",
    "    # scale matmul_qk\n",
    "    dk = tf.cast(tf.shape(k)[-1], tf.float32)\n",
    "    scaled_attention_logits = matmul_qk / tf.math.sqrt(dk)\n",
    "\n",
    "    # add the mask to the scaled tensor.\n",
    "    if mask is not None:\n",
    "        scaled_attention_logits += (mask * -1e9)\n",
    "\n",
    "    # softmax is normalized on the last axis (seq_len_k) so that the scores\n",
    "    # add up to 1.\n",
    "    attention_weights = tf.nn.softmax(scaled_attention_logits, axis=-1)  # (..., seq_len_q, seq_len_k)\n",
    "    # attention_weights * V\n",
    "    output = tf.matmul(attention_weights, v)   # (..., seq_len_q, depth_v)\n",
    "    \n",
    "    #\n",
    "    if verbose:\n",
    "        print(matmul_qk)\n",
    "        print(dk)\n",
    "        print(scaled_attention_logits)\n",
    "        print(attention_weights)\n",
    "        print(output)\n",
    "    \n",
    "\n",
    "    return output, attention_weights"
   ]
  },
  {
   "cell_type": "code",
   "execution_count": 22,
   "id": "28156408",
   "metadata": {},
   "outputs": [
    {
     "name": "stdout",
     "output_type": "stream",
     "text": [
      "tf.Tensor(\n",
      "[[[2.279387   1.825793   0.63186634 1.8834672 ]\n",
      "  [2.052302   1.8852794  1.0053144  1.7148666 ]\n",
      "  [3.4180002  3.1079035  1.5024791  2.8961418 ]\n",
      "  [2.9149811  2.2005377  1.0817361  2.4234016 ]]\n",
      "\n",
      " [[2.116521   1.5778772  2.4985871  1.7644594 ]\n",
      "  [1.5468688  2.1394327  2.2381554  1.2607064 ]\n",
      "  [2.2123241  1.8038421  2.423389   1.9076121 ]\n",
      "  [1.1489832  1.3651273  1.2714128  0.96710193]]], shape=(2, 4, 4), dtype=float32)\n",
      "tf.Tensor(8.0, shape=(), dtype=float32)\n",
      "tf.Tensor(\n",
      "[[[-1.0000000e+09  6.4551532e-01  2.2339849e-01  6.6590625e-01]\n",
      "  [-1.0000000e+09 -1.0000000e+09  3.5543230e-01  6.0629690e-01]\n",
      "  [-1.0000000e+09 -1.0000000e+09 -1.0000000e+09  1.0239408e+00]\n",
      "  [-1.0000000e+09 -1.0000000e+09 -1.0000000e+09 -1.0000000e+09]]\n",
      "\n",
      " [[-1.0000000e+09  5.5786383e-01  8.8338399e-01  6.2383062e-01]\n",
      "  [-1.0000000e+09 -1.0000000e+09  7.9130745e-01  4.4572705e-01]\n",
      "  [-1.0000000e+09 -1.0000000e+09 -1.0000000e+09  6.7444271e-01]\n",
      "  [-1.0000000e+09 -1.0000000e+09 -1.0000000e+09 -1.0000000e+09]]], shape=(2, 4, 4), dtype=float32)\n",
      "tf.Tensor(\n",
      "[[[0.         0.37365612 0.24499042 0.38135353]\n",
      "  [0.         0.         0.4376107  0.5623893 ]\n",
      "  [0.         0.         0.         0.99999994]\n",
      "  [0.24999999 0.24999999 0.24999999 0.24999999]]\n",
      "\n",
      " [[0.         0.2896081  0.401035   0.3093568 ]\n",
      "  [0.         0.         0.5855454  0.41445458]\n",
      "  [0.         0.         0.         0.99999994]\n",
      "  [0.24999999 0.24999999 0.24999999 0.24999999]]], shape=(2, 4, 4), dtype=float32)\n",
      "tf.Tensor(\n",
      "[[[0.29261336 0.64584213 0.51472086 0.50637573 0.25639287 0.8927281\n",
      "   0.42770582 0.12196278 0.671261   0.5080507  0.43207064 0.49039036\n",
      "   0.50862706 0.55751455 0.77940774 0.2476519 ]\n",
      "  [0.17242122 0.85290194 0.3390094  0.31038782 0.06826868 0.92711407\n",
      "   0.31345698 0.1750462  0.52686274 0.37120757 0.65300053 0.7184882\n",
      "   0.4290567  0.42024097 0.6834776  0.37660035]\n",
      "  [0.10508799 0.9509441  0.10184347 0.29983863 0.07333135 0.9251179\n",
      "   0.01105356 0.10428309 0.3034663  0.44025478 0.7376397  0.6211514\n",
      "   0.39170882 0.13091873 0.5138349  0.3293154 ]\n",
      "  [0.33506998 0.57535976 0.59100395 0.37981403 0.33571663 0.7510025\n",
      "   0.5387277  0.33165675 0.6729842  0.5059224  0.46411175 0.42616862\n",
      "   0.58122283 0.6134159  0.6461593  0.21963981]]\n",
      "\n",
      " [[0.23208578 0.501287   0.5318092  0.52097696 0.49544936 0.38445038\n",
      "   0.24096185 0.6683731  0.3396231  0.6471406  0.36714303 0.65330774\n",
      "   0.60848564 0.75363004 0.25903597 0.33985057]\n",
      "  [0.07244253 0.49966514 0.73109066 0.46881995 0.48221862 0.32165167\n",
      "   0.32467854 0.52624094 0.42988163 0.8078637  0.20328626 0.6717726\n",
      "   0.54130745 0.8279036  0.26763028 0.35756764]\n",
      "  [0.12006497 0.29757234 0.87238795 0.07725393 0.8209589  0.55903405\n",
      "   0.4048985  0.96170753 0.10955559 0.99574536 0.35682043 0.4157276\n",
      "   0.7003005  0.65392894 0.19503592 0.8193812 ]\n",
      "  [0.4094275  0.41658548 0.6046822  0.42107826 0.48319775 0.3581132\n",
      "   0.4078126  0.5858355  0.31546727 0.6272345  0.41144893 0.71988374\n",
      "   0.6459741  0.7265859  0.19448115 0.43993694]]], shape=(2, 4, 16), dtype=float32)\n",
      "\n",
      "Salida:\n",
      "output shape: (2, 4, 16)\n",
      "attention_weights shape: (2, 4, 4)\n"
     ]
    }
   ],
   "source": [
    "# Define parámetros de prueba\n",
    "batch_size = 2\n",
    "seq_len_q = 4\n",
    "seq_len_k = 4\n",
    "depth = 8\n",
    "depth_v = 16\n",
    "\n",
    "# Generar datos aleatorios para q, k y v\n",
    "q = tf.random.uniform((batch_size, seq_len_q, depth), dtype=tf.float32)\n",
    "k = tf.random.uniform((batch_size, seq_len_k, depth), dtype=tf.float32)\n",
    "v = tf.random.uniform((batch_size, seq_len_k, depth_v), dtype=tf.float32)\n",
    "\n",
    "# Crear una máscara de ejemplo (por ejemplo, para una máscara de atención futura)\n",
    "mask = tf.linalg.band_part(tf.ones((seq_len_q, seq_len_k)), -1, 0)  # Triangular inferior\n",
    "mask = tf.expand_dims(mask, axis=0)  # Agregar dimensión batch\n",
    "mask = tf.cast(mask, dtype=tf.float32)  # Asegurar que sea flotante\n",
    "\n",
    "# Activar modo verbose\n",
    "verbose = True\n",
    "\n",
    "\n",
    "# Ejecutar prueba\n",
    "output, attention_weights = scaled_dot_product_attention(q, k, v, mask, verbose=verbose)\n",
    "\n",
    "# Imprimir formas de salida para confirmar\n",
    "print(\"\\nSalida:\")\n",
    "print(\"output shape:\", output.shape)\n",
    "print(\"attention_weights shape:\", attention_weights.shape)"
   ]
  },
  {
   "cell_type": "markdown",
   "id": "92d75780",
   "metadata": {},
   "source": [
    "q (query):\n",
    "\n",
    "Forma: (..., seq_len_q, depth)\n",
    "Representa el query o consulta en el mecanismo de atención.\n",
    "Es un tensor que contiene las representaciones del input que queremos comparar con las keys (k).\n",
    "seq_len_q es la longitud de la secuencia del query, y depth es la dimensionalidad de la representación.\n",
    "\n",
    "\n",
    "k (key):\n",
    "\n",
    "Forma: (..., seq_len_k, depth)\n",
    "Representa las keys que se utilizan para calcular la similitud con el query.\n",
    "seq_len_k es la longitud de la secuencia de las keys. Debe coincidir con la longitud de las values (v).\n",
    "depth debe coincidir con la dimensión del query para permitir la multiplicación.\n",
    "\n",
    "\n",
    "v (value):\n",
    "\n",
    "Forma: (..., seq_len_v, depth_v)\n",
    "Representa los valores asociados a las keys.\n",
    "seq_len_v (longitud de la secuencia de valores) debe ser igual a seq_len_k, ya que cada key tiene un valor asociado.\n",
    "depth_v es la dimensionalidad de cada valor. Puede ser diferente de depth.\n",
    "mask:\n",
    "\n",
    "Forma: Broadcastable a (..., seq_len_q, seq_len_k)\n",
    "Es una máscara opcional que se aplica a las similitudes calculadas (logits) para ignorar ciertos elementos en la atención.\n",
    "Tipos de máscaras:\n",
    "Máscara de relleno: Se utiliza para ignorar tokens de relleno (padding) en secuencias más cortas.\n",
    "Máscara de atención futura: Se utiliza en modelos como transformers para evitar que un token preste atención a tokens futuros.\n",
    "\n",
    "Si tienes una secuencia de palabras de longitud 5 (seq_len_q=5) con representaciones de 8 dimensiones (depth=8), y estás usando un conjunto de keys y values de longitud 6 (seq_len_k=6 y seq_len_v=6), las formas serían:\n",
    "\n",
    "q: (batch_size, 5, 8)\n",
    "k: (batch_size, 6, 8)\n",
    "v: (batch_size, 6, depth_v) (por ejemplo, depth_v=16).\n",
    "mask: Broadcastable a (batch_size, 5, 6).\n",
    "Esta flexibilidad permite que la función maneje diferentes longitudes de secuencia y dimensiones de representación según la arquitectura del modelo."
   ]
  },
  {
   "cell_type": "markdown",
   "id": "a64a6a6d",
   "metadata": {},
   "source": [
    "seq_len_q y seq_len_k\n",
    "seq_len_q (Sequence Length of Query):\n",
    "\n",
    "Es la longitud de la secuencia del query (q).\n",
    "Representa cuántos tokens, palabras o elementos hay en la secuencia que queremos evaluar en términos de atención.\n",
    "Ejemplo:\n",
    "Si estás procesando una frase con 5 palabras como consulta, seq_len_q = 5.\n",
    "seq_len_k (Sequence Length of Key/Value):\n",
    "\n",
    "Es la longitud de la secuencia de las keys (k) y values (v).\n",
    "\n",
    "Representa cuántos tokens, palabras o elementos están disponibles como contexto para la atención.\n",
    "\n",
    "Regla importante: seq_len_k debe ser igual a seq_len_v, ya que cada key tiene un value asociado.\n",
    "\n",
    "Ejemplo:\n",
    "\n",
    "Si tienes una frase de 7 palabras como contexto, seq_len_k = 7 y seq_len_v = 7."
   ]
  },
  {
   "cell_type": "markdown",
   "id": "f8f32749",
   "metadata": {},
   "source": [
    "Elipsis (...):\n",
    "\n",
    "Representa dimensiones adicionales opcionales al principio del tensor.\n",
    "Permite trabajar con entradas que tienen diferentes niveles de jerarquía, como lotes de datos (batch) o niveles de anidación.\n",
    "Ejemplo de forma (..., seq_len_q, depth):\n",
    "\n",
    "Caso 1: Sin lotes (batch_size = 1):\n",
    "\n",
    "Si procesas una sola secuencia, el tensor podría tener la forma (seq_len_q, depth).\n",
    "Ejemplo: (5, 8) para 5 tokens con representaciones de 8 dimensiones cada uno.\n",
    "Caso 2: Con lotes (batch_size = 2):\n",
    "\n",
    "Para procesar múltiples secuencias en paralelo, ... puede ser el tamaño del lote.\n",
    "Ejemplo: (batch_size, seq_len_q, depth) → (2, 5, 8).\n",
    "Caso 3: Dimensiones más complejas:\n",
    "\n",
    "Si trabajas con datos anidados o multi-modales, ... podría incluir más dimensiones adicionales.\n",
    "Ejemplo: (num_heads, batch_size, seq_len_q, depth)."
   ]
  },
  {
   "cell_type": "markdown",
   "id": "d01591fd",
   "metadata": {},
   "source": [
    "Supongamos que trabajamos con un modelo que analiza secuencias de texto en lotes:\n",
    "\n",
    "Un lote tiene 2 secuencias.\n",
    "Cada secuencia tiene:\n",
    "4 palabras como query (seq_len_q=4).\n",
    "6 palabras como contexto (seq_len_k=6).\n",
    "Las representaciones tienen una dimensionalidad de 8 (depth=8).\n",
    "Las formas de los tensores serían:\n",
    "\n",
    "q: (2, 4, 8) → 2 secuencias, 4 palabras de query, 8 dimensiones.\n",
    "k: (2, 6, 8) → 2 secuencias, 6 palabras de key, 8 dimensiones.\n",
    "v: (2, 6, depth_v) (por ejemplo, depth_v=16) → Valores asociados a las keys.\n",
    "Con esta estructura, la función calcula cómo cada palabra de las queries se relaciona con cada palabra de las keys, y luego aplica los pesos a los valores para generar la salida final."
   ]
  },
  {
   "cell_type": "code",
   "execution_count": null,
   "id": "77c26b33",
   "metadata": {},
   "outputs": [],
   "source": []
  },
  {
   "cell_type": "code",
   "execution_count": null,
   "id": "8beff47c",
   "metadata": {},
   "outputs": [],
   "source": []
  },
  {
   "cell_type": "markdown",
   "id": "39373dd0",
   "metadata": {},
   "source": [
    "## Multi-head attention\n",
    "\n",
    " you can think of as computing the self-attention several times to detect different features.\n",
    " \n",
    " \n",
    " ----------->>>> FOTO\n",
    " \n",
    " We will use the Keras implementation."
   ]
  },
  {
   "cell_type": "markdown",
   "id": "82c83918",
   "metadata": {},
   "source": [
    "### masked multi-head attention"
   ]
  },
  {
   "cell_type": "code",
   "execution_count": null,
   "id": "c239b27b",
   "metadata": {},
   "outputs": [],
   "source": []
  },
  {
   "cell_type": "code",
   "execution_count": null,
   "id": "0ab57325",
   "metadata": {},
   "outputs": [],
   "source": []
  },
  {
   "cell_type": "code",
   "execution_count": null,
   "id": "cb0d63f1",
   "metadata": {},
   "outputs": [],
   "source": []
  },
  {
   "cell_type": "markdown",
   "id": "71d57c84",
   "metadata": {},
   "source": [
    "### Feed forward network\n",
    "\n",
    "It will contain 2 Dense layers."
   ]
  },
  {
   "cell_type": "code",
   "execution_count": 23,
   "id": "45fd8361",
   "metadata": {},
   "outputs": [],
   "source": [
    "def FullyConnected(embedding_dim, fully_connected_dim):\n",
    "    return tf.keras.Sequential([\n",
    "        tf.keras.layers.Dense(fully_connected_dim, activation='relu'),  # (batch_size, seq_len, dff)\n",
    "        tf.keras.layers.Dense(embedding_dim)  # (batch_size, seq_len, d_model)\n",
    "    ])"
   ]
  },
  {
   "cell_type": "code",
   "execution_count": null,
   "id": "78ed17f3",
   "metadata": {},
   "outputs": [],
   "source": []
  },
  {
   "cell_type": "code",
   "execution_count": null,
   "id": "558ceaf7",
   "metadata": {},
   "outputs": [],
   "source": []
  },
  {
   "cell_type": "code",
   "execution_count": null,
   "id": "dd448c02",
   "metadata": {},
   "outputs": [],
   "source": []
  },
  {
   "cell_type": "code",
   "execution_count": null,
   "id": "3581794b",
   "metadata": {},
   "outputs": [],
   "source": []
  },
  {
   "cell_type": "code",
   "execution_count": null,
   "id": "14367a84",
   "metadata": {},
   "outputs": [],
   "source": []
  },
  {
   "cell_type": "code",
   "execution_count": null,
   "id": "dacee2c4",
   "metadata": {},
   "outputs": [],
   "source": []
  },
  {
   "cell_type": "markdown",
   "id": "126c26c4",
   "metadata": {},
   "source": [
    "## Encoder\n",
    "\n",
    "\n",
    "The Transformer Encoder layer pairs self-attention and convolutional neural network style of processing to improve the speed of training and passes K and V matrices to the Decoder, which you'll build later in the assignment. You will implement the Encoder by pairing multi-head attention and a feed forward neural network (Figure 2a). \n",
    "<img src=\"encoder_layer.png\" alt=\"Encoder\" width=\"250\"/>\n",
    "<caption><center><font color='purple'><b>Figure 2a: Transformer encoder layer</font></center></caption>\n",
    "\n",
    "    \n",
    "\n",
    "Your input sentence first passes through a *multi-head attention layer*, where the encoder looks at other words in the input sentence as it encodes a specific word. The outputs of the multi-head attention layer are then fed to a *feed forward neural network*. The exact same feed forward network is independently applied to each position.\n"
   ]
  },
  {
   "cell_type": "markdown",
   "id": "8bab54bd",
   "metadata": {},
   "source": [
    "### Encoder layer\n",
    "\n",
    "\n",
    "Now you can pair multi-head attention and feed forward neural network together in an encoder layer! You will also use residual connections and layer normalization to help speed up training.\n",
    "\n",
    "In this exercise, you will implement one encoder block (Figure 2) using the `call()` method. The function should perform the following steps: \n",
    "1. You will pass the Q, V, K matrices and a boolean mask to a multi-head attention layer. Remember that to compute *self*-attention Q, V and K should be the same.\n",
    "2. Next, you will pass the output of the multi-head attention layer to a dropout layer. Don't forget to use the `training` parameter to set the mode of your model. \n",
    "3. Now add a skip connection by adding your original input `x` and the output of the dropout layer. \n",
    "4. After adding the skip connection, pass the output through the first layer normalization.\n",
    "5. Finally, repeat steps 1-4 but with the feed forward neural network instead of the multi-head attention layer.\n",
    "\n",
    "**Additional Hints**:\n",
    "* The `__init__` method creates all the layers that will be accesed by the the `call` method. Wherever you want to use a layer defined inside  the `__init__`  method you will have to use the syntax `self.[insert layer name]`. \n",
    "* You will find the documentation of [MultiHeadAttention](https://www.tensorflow.org/api_docs/python/tf/keras/layers/MultiHeadAttention) helpful. *Note that if query, key and value are the same, then this function performs self-attention.*"
   ]
  },
  {
   "cell_type": "code",
   "execution_count": 24,
   "id": "aaf6fd5b",
   "metadata": {},
   "outputs": [],
   "source": [
    "class EncoderLayer(tf.keras.layers.Layer):\n",
    "    \"\"\"\n",
    "    The encoder layer is composed by a multi-head self-attention mechanism,\n",
    "    followed by a simple, positionwise fully connected feed-forward network. \n",
    "    This archirecture includes a residual connection around each of the two \n",
    "    sub-layers, followed by layer normalization.\n",
    "    \"\"\"\n",
    "    def __init__(self, embedding_dim, num_heads, fully_connected_dim, dropout_rate=0.1, layernorm_eps=1e-6):\n",
    "        super(EncoderLayer, self).__init__()\n",
    "\n",
    "        self.mha = MultiHeadAttention(num_heads=num_heads,\n",
    "                                      key_dim=embedding_dim)\n",
    "\n",
    "        self.ffn = FullyConnected(embedding_dim=embedding_dim,\n",
    "                                  fully_connected_dim=fully_connected_dim)\n",
    "\n",
    "        self.layernorm1 = LayerNormalization(epsilon=layernorm_eps)\n",
    "        self.layernorm2 = LayerNormalization(epsilon=layernorm_eps)\n",
    "\n",
    "        self.dropout1 = Dropout(dropout_rate)\n",
    "        self.dropout2 = Dropout(dropout_rate)\n",
    "    \n",
    "    def call(self, x, training, mask):\n",
    "        \"\"\"\n",
    "        Forward pass for the Encoder Layer\n",
    "        \n",
    "        Arguments:\n",
    "            x -- Tensor of shape (batch_size, input_seq_len, embedding_dim)\n",
    "            training -- Boolean, set to true to activate\n",
    "                        the training mode for dropout layers\n",
    "            mask -- Boolean mask to ensure that the padding is not \n",
    "                    treated as part of the input\n",
    "        Returns:\n",
    "            out2 -- Tensor of shape (batch_size, input_seq_len, embedding_dim)\n",
    "        \"\"\"\n",
    "        # calculate self-attention using mha(~1 line)\n",
    "        #-> To compute self-attention Q, V and K should be the same (x)\n",
    "        self_attn_output = self.mha(x, x, x, mask) # Self attention (batch_size, input_seq_len, embedding_dim)\n",
    "        \n",
    "        # apply dropout layer to the self-attention output (~1 line)\n",
    "        self_attn_output = self.dropout1(self_attn_output, training=training)\n",
    "        \n",
    "        # apply layer normalization on sum of the input and the attention output to get the  \n",
    "        # output of the multi-head attention layer (~1 line)\n",
    "        mult_attn_out = self.layernorm1(x + self_attn_output)  # (batch_size, input_seq_len, embedding_dim)\n",
    "\n",
    "        # pass the output of the multi-head attention layer through a ffn (~1 line)\n",
    "        ffn_output = self.ffn(mult_attn_out)  # (batch_size, input_seq_len, embedding_dim)\n",
    "        \n",
    "        # apply dropout layer to ffn output (~1 line)\n",
    "        ffn_output = self.dropout2(ffn_output, training=training)\n",
    "        \n",
    "        # apply layer normalization on sum of the output from multi-head attention and ffn output to get the\n",
    "        # output of the encoder layer (~1 line)\n",
    "        encoder_layer_out = self.layernorm2(ffn_output + mult_attn_out)  # (batch_size, input_seq_len, embedding_dim)\n",
    "        \n",
    "        return encoder_layer_out"
   ]
  },
  {
   "cell_type": "markdown",
   "id": "be5b4c4d",
   "metadata": {},
   "source": [
    "### Full encoder\n",
    "\n",
    "Now you're ready to build the full Transformer Encoder (Figure 2b), where you will embedd your input and add the positional encodings you calculated. You will then feed your encoded embeddings to a stack of Encoder layers. \n",
    "\n",
    "<img src=\"encoder.png\" alt=\"Encoder\" width=\"330\"/>\n",
    "<caption><center><font color='purple'><b>Figure 2b: Transformer Encoder</font></center></caption>\n",
    "\n",
    "\n",
    "<a name='ex-5'></a>\n",
    "### Exercise 5 - Encoder\n",
    "\n",
    "Complete the `Encoder()` function using the `call()` method to embed your input, add positional encoding, and implement multiple encoder layers \n",
    "\n",
    "In this exercise, you will initialize your Encoder with an Embedding layer, positional encoding, and multiple EncoderLayers. Your `call()` method will perform the following steps: \n",
    "1. Pass your input through the Embedding layer.\n",
    "2. Scale your embedding by multiplying it by the square root of your embedding dimension. Remember to cast the embedding dimension to data type `tf.float32` before computing the square root.\n",
    "3. Add the position encoding: self.pos_encoding `[:, :seq_len, :]` to your embedding.\n",
    "4. Pass the encoded embedding through a dropout layer, remembering to use the `training` parameter to set the model training mode. \n",
    "5. Pass the output of the dropout layer through the stack of encoding layers using a for loop."
   ]
  },
  {
   "cell_type": "code",
   "execution_count": 27,
   "id": "507c6bde",
   "metadata": {},
   "outputs": [],
   "source": [
    "class Encoder(tf.keras.layers.Layer):\n",
    "    \"\"\"\n",
    "    The entire Encoder starts by passing the input to an embedding layer \n",
    "    and using positional encoding to then pass the output through a stack of\n",
    "    encoder Layers\n",
    "        \n",
    "    \"\"\"   \n",
    "    def __init__(self, num_layers, embedding_dim, num_heads, fully_connected_dim, input_vocab_size,\n",
    "               maximum_position_encoding, dropout_rate=0.1, layernorm_eps=1e-6):\n",
    "        super(Encoder, self).__init__()\n",
    "\n",
    "        self.embedding_dim = embedding_dim\n",
    "        self.num_layers = num_layers\n",
    "\n",
    "        self.embedding = Embedding(input_vocab_size, self.embedding_dim)\n",
    "        self.pos_encoding = positional_encoding(maximum_position_encoding, \n",
    "                                                self.embedding_dim)\n",
    "\n",
    "\n",
    "        self.enc_layers = [EncoderLayer(embedding_dim=self.embedding_dim,\n",
    "                                        num_heads=num_heads,\n",
    "                                        fully_connected_dim=fully_connected_dim,\n",
    "                                        dropout_rate=dropout_rate,\n",
    "                                        layernorm_eps=layernorm_eps) \n",
    "                           for _ in range(self.num_layers)]\n",
    "\n",
    "        self.dropout = Dropout(dropout_rate)\n",
    "        \n",
    "    def call(self, x, training, mask):\n",
    "        \"\"\"\n",
    "        Forward pass for the Encoder\n",
    "        \n",
    "        Arguments:\n",
    "            x -- Tensor of shape (batch_size, input_seq_len)\n",
    "            training -- Boolean, set to true to activate\n",
    "                        the training mode for dropout layers\n",
    "            mask -- Boolean mask to ensure that the padding is not \n",
    "                    treated as part of the input\n",
    "        Returns:\n",
    "            out2 -- Tensor of shape (batch_size, input_seq_len, embedding_dim)\n",
    "        \"\"\"\n",
    "\n",
    "        seq_len = tf.shape(x)[1]\n",
    "        \n",
    "\n",
    "        # Pass input through the Embedding layer\n",
    "        x = self.embedding(x)  # (batch_size, input_seq_len, embedding_dim)\n",
    "        # Scale embedding by multiplying it by the square root of the embedding dimension\n",
    "        x *= tf.math.sqrt(tf.cast(self.embedding_dim,tf.float32))\n",
    "        # Add the position encoding to embedding\n",
    "        x += self.pos_encoding[:, :seq_len, :]\n",
    "        # Pass the encoded embedding through a dropout layer\n",
    "        x = self.dropout(x, training=training)\n",
    "        # Pass the output through the stack of encoding layers \n",
    "        for i in range(self.num_layers):\n",
    "            x = self.enc_layers[i](x,training, mask)\n",
    "\n",
    "\n",
    "        return x  # (batch_size, input_seq_len, embedding_dim)"
   ]
  },
  {
   "cell_type": "code",
   "execution_count": null,
   "id": "5c18757f",
   "metadata": {},
   "outputs": [],
   "source": []
  },
  {
   "cell_type": "code",
   "execution_count": null,
   "id": "cf35b0e7",
   "metadata": {},
   "outputs": [],
   "source": []
  },
  {
   "cell_type": "code",
   "execution_count": null,
   "id": "95126964",
   "metadata": {},
   "outputs": [],
   "source": []
  },
  {
   "cell_type": "code",
   "execution_count": null,
   "id": "15bf3877",
   "metadata": {},
   "outputs": [],
   "source": []
  },
  {
   "cell_type": "code",
   "execution_count": null,
   "id": "1a43cb82",
   "metadata": {},
   "outputs": [],
   "source": []
  },
  {
   "cell_type": "code",
   "execution_count": null,
   "id": "d0e6e297",
   "metadata": {},
   "outputs": [],
   "source": []
  },
  {
   "cell_type": "code",
   "execution_count": null,
   "id": "aca9198c",
   "metadata": {},
   "outputs": [],
   "source": []
  },
  {
   "cell_type": "code",
   "execution_count": null,
   "id": "457cdb39",
   "metadata": {},
   "outputs": [],
   "source": []
  },
  {
   "cell_type": "code",
   "execution_count": null,
   "id": "5c6579c5",
   "metadata": {},
   "outputs": [],
   "source": []
  },
  {
   "cell_type": "code",
   "execution_count": null,
   "id": "60ab166f",
   "metadata": {},
   "outputs": [],
   "source": []
  },
  {
   "cell_type": "code",
   "execution_count": null,
   "id": "fb7e5158",
   "metadata": {},
   "outputs": [],
   "source": []
  },
  {
   "cell_type": "code",
   "execution_count": null,
   "id": "4ff24b9d",
   "metadata": {},
   "outputs": [],
   "source": []
  },
  {
   "cell_type": "code",
   "execution_count": null,
   "id": "ed85bb24",
   "metadata": {},
   "outputs": [],
   "source": []
  },
  {
   "cell_type": "code",
   "execution_count": null,
   "id": "1e05888f",
   "metadata": {},
   "outputs": [],
   "source": []
  },
  {
   "cell_type": "code",
   "execution_count": null,
   "id": "fadc16ac",
   "metadata": {},
   "outputs": [],
   "source": []
  },
  {
   "cell_type": "code",
   "execution_count": null,
   "id": "6ff0ce29",
   "metadata": {},
   "outputs": [],
   "source": []
  },
  {
   "cell_type": "code",
   "execution_count": null,
   "id": "1d666169",
   "metadata": {},
   "outputs": [],
   "source": []
  },
  {
   "cell_type": "code",
   "execution_count": null,
   "id": "079aa082",
   "metadata": {},
   "outputs": [],
   "source": []
  },
  {
   "cell_type": "markdown",
   "id": "4ab6d9a2",
   "metadata": {},
   "source": [
    "### Subclassing API"
   ]
  },
  {
   "cell_type": "code",
   "execution_count": 26,
   "id": "014fcbec",
   "metadata": {},
   "outputs": [
    {
     "name": "stdout",
     "output_type": "stream",
     "text": [
      "Epoch 1/5\n",
      "1/1 [==============================] - 0s 284ms/step - loss: 43.3206\n",
      "Epoch 2/5\n",
      "1/1 [==============================] - 0s 5ms/step - loss: 30.0862\n",
      "Epoch 3/5\n",
      "1/1 [==============================] - 0s 8ms/step - loss: 20.9029\n",
      "Epoch 4/5\n",
      "1/1 [==============================] - 0s 4ms/step - loss: 14.5307\n",
      "Epoch 5/5\n",
      "1/1 [==============================] - 0s 5ms/step - loss: 10.1090\n",
      "Predicción para 5.0: [[4.88076]]\n"
     ]
    }
   ],
   "source": [
    "import tensorflow as tf\n",
    "\n",
    "# Definimos una clase que hereda de tf.keras.Model\n",
    "class SimpleLinearModel(tf.keras.Model):\n",
    "    def __init__(self):\n",
    "        super(SimpleLinearModel, self).__init__()\n",
    "        # Agregamos una capa completamente conectada con 1 unidad\n",
    "        self.dense = tf.keras.layers.Dense(units=1)\n",
    "\n",
    "    def call(self, inputs):\n",
    "        # Implementamos el paso de inferencia del modelo\n",
    "        return self.dense(inputs)\n",
    "\n",
    "# Creamos una instancia del modelo\n",
    "model = SimpleLinearModel()\n",
    "\n",
    "# Datos de ejemplo\n",
    "x = tf.constant([[1.0], [2.0], [3.0], [4.0]])\n",
    "y = tf.constant([[2.0], [4.0], [6.0], [8.0]])\n",
    "\n",
    "# Compilamos el modelo\n",
    "model.compile(optimizer='sgd', loss='mse')\n",
    "\n",
    "# Entrenamos el modelo\n",
    "model.fit(x, y, epochs=5, verbose=0)\n",
    "\n",
    "# Hacemos una predicción\n",
    "predictions = model(tf.constant([[5.0]]))\n",
    "print(\"Predicción para 5.0:\", predictions.numpy())\n"
   ]
  },
  {
   "cell_type": "markdown",
   "id": "c1339297",
   "metadata": {},
   "source": [
    "class SimpleLinearModel(tf.keras.Model):\n",
    "\n",
    "Define una subclase personalizada que hereda de tf.keras.Model.\n",
    "Sirve para estructurar el modelo de forma más flexible.\n",
    "self.dense = tf.keras.layers.Dense(units=1):\n",
    "\n",
    "Creamos una capa densa con 1 unidad. Esto representa un modelo lineal.\n",
    "Método call:\n",
    "\n",
    "Es el método donde definimos cómo pasa la entrada a través del modelo (forward pass).\n",
    "Entrenamiento y predicción:\n",
    "\n",
    "El modelo funciona como cualquier otro modelo en Keras: lo compilamos, entrenamos y hacemos predicciones."
   ]
  },
  {
   "cell_type": "markdown",
   "id": "d58af4d7",
   "metadata": {},
   "source": [
    "En el constructor (__init__):\n",
    "\n",
    "Definimos las capas personalizadas o predefinidas que va a utilizar nuestro modelo.\n",
    "Esto incluye capas de Keras como Dense, Conv2D, o incluso nuestras propias capas personalizadas.\n",
    "En el método call:\n",
    "\n",
    "Construimos la arquitectura del modelo, especificando cómo fluyen los datos a través de las capas.\n",
    "Este método define el forward pass del modelo, es decir, cómo se transforma la entrada para producir la salida."
   ]
  },
  {
   "cell_type": "code",
   "execution_count": null,
   "id": "08f7166f",
   "metadata": {},
   "outputs": [],
   "source": []
  },
  {
   "cell_type": "code",
   "execution_count": null,
   "id": "e7a617d1",
   "metadata": {},
   "outputs": [],
   "source": []
  },
  {
   "cell_type": "code",
   "execution_count": null,
   "id": "eaedc653",
   "metadata": {},
   "outputs": [],
   "source": []
  },
  {
   "cell_type": "code",
   "execution_count": null,
   "id": "129be415",
   "metadata": {},
   "outputs": [],
   "source": []
  },
  {
   "cell_type": "code",
   "execution_count": null,
   "id": "cc58aef6",
   "metadata": {},
   "outputs": [],
   "source": []
  },
  {
   "cell_type": "code",
   "execution_count": null,
   "id": "e6e78986",
   "metadata": {},
   "outputs": [],
   "source": [
    "import numpy as np\n",
    "import tensorflow as tf\n",
    "import matplotlib.pyplot as plt\n",
    "\n",
    "# Generate logits for Category 1\n",
    "logits = np.linspace(-10, 10, 100)  # Logits from -10 to 10\n",
    "logits_matrix = np.stack([logits, np.zeros_like(logits), -logits], axis=1)  # Three categories\n",
    "\n",
    "# Convert logits to a TensorFlow tensor\n",
    "logits_tensor = tf.constant(logits_matrix, dtype=tf.float32)\n",
    "\n",
    "# Compute the softmax\n",
    "softmax_values = tf.nn.softmax(logits_tensor, axis=1).numpy()\n",
    "\n",
    "# Plot the softmax for Category 1\n",
    "plt.plot(logits, softmax_values[:, 0],  color=\"red\")\n",
    "\n",
    "# Add a vertical line at x=0\n",
    "plt.axvline(x=0, color=\"orange\")\n",
    "\n",
    "# Add labels and title\n",
    "plt.title(\"Softmax Function\")\n",
    "plt.xlabel(\"x\")\n",
    "plt.ylabel(\"y\")\n",
    "#plt.grid()\n",
    "plt.legend()\n",
    "plt.show()\n"
   ]
  }
 ],
 "metadata": {
  "kernelspec": {
   "display_name": "Python 3 (ipykernel)",
   "language": "python",
   "name": "python3"
  },
  "language_info": {
   "codemirror_mode": {
    "name": "ipython",
    "version": 3
   },
   "file_extension": ".py",
   "mimetype": "text/x-python",
   "name": "python",
   "nbconvert_exporter": "python",
   "pygments_lexer": "ipython3",
   "version": "3.10.12"
  }
 },
 "nbformat": 4,
 "nbformat_minor": 5
}
