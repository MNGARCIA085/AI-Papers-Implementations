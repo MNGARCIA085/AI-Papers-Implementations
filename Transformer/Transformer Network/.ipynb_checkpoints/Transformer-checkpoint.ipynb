{
 "cells": [
  {
   "cell_type": "markdown",
   "id": "00453283",
   "metadata": {},
   "source": [
    "# <font color='red'> <b> <center> TRANSFORMER </center> </b> </font>"
   ]
  },
  {
   "cell_type": "markdown",
   "id": "0a4abf77",
   "metadata": {},
   "source": [
    "## <font color='blue'> Table of contents </font>\n",
    "\n",
    "- [1 .Intro](#1)\n",
    "- [2. Setup](#2)\n",
    "- [3. Positional Encoding](#3) <br>\n",
    "    - [3.1. Concept and motivation](#3.1)\n",
    "    - [3.2. Implementation](#3.2)\n",
    "- [4. Masking](#4) <br>\n",
    "    - [4.1. Padding Mask](#4.1) <br>\n",
    "    - [4.2. Look Ahead Mask](#4.1) <br>\n",
    "- [5. Attention](#5) <br>\n",
    "    - [5.1. Types of Attention](#5.1) <br>\n",
    "    - [5.2. Scaled dot-product attention](#5.2) <br>\n",
    "    - [5.3. Multi-head Attention](#5.3) <br>\n",
    "    - [5.3. Multi-head Attention](#5.3) <br>\n",
    "- [6. Feed Forward Neural Network](#6) <br>\n",
    "- [7. Encoder](#7) <br>\n",
    "    - [7.1. Encoder Layer](#7.1) <br>\n",
    "    - [7.2. Full Encoder](#7.2) <br>\n",
    "- [8. Decoder](#8) <br>\n",
    "    - [8.1. Decoder Layer](#8.1) <br>\n",
    "    - [8.2. Full Decoder](#8.2) <br>\n",
    "- [9. Transformer](#9) <br>\n",
    "    - [9.1. Model](#9.1) <br>\n",
    "    - [9.2. Training and preidctions](#9.2) <br>\n",
    "- [ANNEX](#annex) <br>\n",
    "    - [Custom Training](#custom_training) <br>\n",
    "- [References](#references) <br>"
   ]
  },
  {
   "cell_type": "markdown",
   "id": "5fd1b6da",
   "metadata": {},
   "source": [
    "<a name=\"1\"></a>\n",
    "## <font color='red'> <b>  1. Intro </b> </font>\n",
    "\n",
    "This notebook is dedicated to implementing a Transformer model from scratch, following the architecture described in the groundbreaking paper \"Attention Is All You Need\" by Vaswani et al. The primary objective of this implementation is to learn and understand the inner workings of Transformers, rather than simply using prebuilt libraries.\n",
    "\n",
    "I am going to cover key components such as:\n",
    "\n",
    "- Positional Encoding: Injecting order into sequences.\n",
    "- Scaled Dot-Product Attention: The core mechanism behind attention.\n",
    "- Multi-Head Attention: Learning diverse relationships in data.\n",
    "- Feed-Forward Networks: Extending attention's capabilities.\n",
    "- Layer Normalization and Residual Connections: Stabilizing and enhancing learning.\n",
    "- Encoder-Decoder Structure: Processing input and generating output.\n",
    "\n",
    "By the end of this notebook, you should gain a conceptual understanding of each component and how they fit together to form the Transformer. This hands-on approach will help demystify the architecture and prepare you to adapt or experiment with it for your own projects."
   ]
  },
  {
   "cell_type": "markdown",
   "id": "2dc891d8",
   "metadata": {},
   "source": [
    "<a name=\"2\"></a>\n",
    "## <font color='red'> <b>  2. Setup </b> </font>"
   ]
  },
  {
   "cell_type": "code",
   "execution_count": 50,
   "id": "4d678e38",
   "metadata": {},
   "outputs": [],
   "source": [
    "import tensorflow as tf\n",
    "import pandas as pd\n",
    "import time\n",
    "import numpy as np\n",
    "import matplotlib.pyplot as plt\n",
    "\n",
    "from tensorflow.keras.layers import Embedding, MultiHeadAttention, Dense, Input, Dropout, LayerNormalization\n",
    "from transformers import DistilBertTokenizerFast #, TFDistilBertModel\n",
    "from transformers import TFDistilBertForTokenClassification\n",
    "from tqdm import tqdm_notebook as tqdm"
   ]
  },
  {
   "cell_type": "code",
   "execution_count": 2,
   "id": "3aacec8b",
   "metadata": {},
   "outputs": [],
   "source": [
    "# Set the print options\n",
    "np.set_printoptions(precision=3)"
   ]
  },
  {
   "cell_type": "markdown",
   "id": "f69acea5",
   "metadata": {},
   "source": [
    "<a name=\"3\"></a>\n",
    "## <font color='red'> <b>  3. Positional Encoding </b> </font>\n",
    "\n",
    "<a name=\"3.1\"></a>\n",
    "### <font color='orange'> <b> 3.1. Concept and motivation </b> </font>\n",
    "\n",
    "\n",
    "In sequence to sequence tasks, the relative order of your data is extremely important to its meaning. When you were training sequential neural networks such as RNNs, you fed your inputs into the network in order. Information about the order of your data was automatically fed into your model.  However, when you train a Transformer network, you feed your data into the model all at once. While this dramatically reduces training time, there is no information about the order of your data. This is where positional encoding is useful - you can specifically encode the positions of your inputs and pass them into the network.\n",
    "\n",
    "\n",
    "There are various types of positional encoding, for example:\n",
    "\n",
    "- Sinusoidal encoding\n",
    "- Learned Positional Encoding\n",
    "- Relative Positional encoding\n",
    "\n",
    "\n",
    "In this notebook I will use the sinusoidal encoding, given by the following formulas:\n",
    "\n",
    "$$\n",
    "PE_{(pos, 2i)}= sin\\left(\\frac{pos}{{n}^{\\frac{2i}{d}}}\\right)\n",
    "\\tag{1}$$\n",
    "<br>\n",
    "$$\n",
    "PE_{(pos, 2i+1)}= cos\\left(\\frac{pos}{{n}^{\\frac{2i}{d}}}\\right)\n",
    "\\tag{2}$$\n",
    "\n",
    "\n",
    "where:\n",
    "\n",
    "* $d$ is the dimension of the word embedding and positional encoding\n",
    "* $pos$ is the position of the word.\n",
    "* $i$ refers to each of the different dimensions of the positional encoding.\n",
    "* $n$ is a user defined scalar (10000 in the paper)\n",
    "\n",
    "\n",
    "The values of the sine and cosine equations are small enough (between -1 and 1) that when you add the positional encoding to a word embedding, the word embedding is not significantly distorted. The sum of the positional encoding and word embeding is ultimately what is fed into the model. Using a combination of these two equations helps your Transformer network attend to the relative positions of your input data. \n",
    "\n",
    "In this notebook I am going to use horizontal vectors, that's why all the matrix multiplications should be adjusted accordingly."
   ]
  },
  {
   "cell_type": "markdown",
   "id": "4fb63d2b",
   "metadata": {},
   "source": [
    "Let’s clarify the **number of positions in the sequence** with an example.\n",
    "\n",
    "\n",
    "Imagine you have a sequence of words:\n",
    "[\"The\", \"cat\", \"sat\", \"on\", \"the\", \"mat\"].\n",
    "\n",
    "Here:\n",
    "\n",
    "- Each word in the sequence corresponds to a position.\n",
    "- The total number of positions is the number of words in the sequence, which is 6 in this case.\n",
    "\n",
    "Now, if you're embedding these words (e.g., using word embeddings), you might represent the sequence as a matrix where:\n",
    "\n",
    "- Rows correspond to positions in the sequence (one row for each word).\n",
    "- Columns correspond to the embedding dimensions (let’s assume d=4 for simplicity).\n"
   ]
  },
  {
   "cell_type": "markdown",
   "id": "f8b735c3",
   "metadata": {},
   "source": [
    "<a name=\"3.2\"></a>\n",
    "### <font color='orange'> <b> 3.2. Implementation </b> </font>"
   ]
  },
  {
   "cell_type": "code",
   "execution_count": 3,
   "id": "2b5601a2",
   "metadata": {},
   "outputs": [],
   "source": [
    "# helper function: get the angles for the positional encoding\n",
    "def get_angles(pos, i, d, n=10000):\n",
    "    \"\"\"\n",
    "    Get the angles for the positional encoding\n",
    "    \n",
    "    Arguments:\n",
    "        pos -- Column vector containing the positions [[0], [1], ...,[N-1]]\n",
    "        i --   Row vector containing the dimension span [[0, 1, 2, ..., d-1]]\n",
    "        d(integer) -- Encoding size\n",
    "        n -- user defined scalar\n",
    "    \n",
    "    Returns:\n",
    "        angles -- (pos, d) numpy array \n",
    "    \"\"\"\n",
    "    angles = pos/ (np.power(n, (2 * (i//2)) / np.float32(d)))\n",
    "\n",
    "    \n",
    "    return angles"
   ]
  },
  {
   "cell_type": "code",
   "execution_count": 4,
   "id": "4a3cb324",
   "metadata": {},
   "outputs": [
    {
     "name": "stdout",
     "output_type": "stream",
     "text": [
      "If i = 0 -> i//2 = 0\n",
      "If i = 1 -> i//2 = 0\n",
      "If i = 2 -> i//2 = 1\n",
      "If i = 3 -> i//2 = 1\n"
     ]
    }
   ],
   "source": [
    "# NOTE\n",
    "for i in range(4):\n",
    "    print(f\"If i = {i} -> i//2 = {i//2}\")"
   ]
  },
  {
   "cell_type": "markdown",
   "id": "a09e7168",
   "metadata": {},
   "source": [
    "Let's try our function.\n",
    "\n",
    "First let's remember that we can use np.newaxis to add an extra dimension to a numpy array.\n",
    "\n",
    "For example, in np.arange(7)[:, np.newaxis], [:, np.newaxis] adds a new axis (dimension) to the array along the columns, essentially converting the 1D array into a 2D column vector.\n",
    "\n",
    "In the case of np.arange(3)[np.newaxis, :], the new axis is added along the rows, resulting in a row vector.\n"
   ]
  },
  {
   "cell_type": "code",
   "execution_count": 5,
   "id": "e5245bda",
   "metadata": {},
   "outputs": [
    {
     "data": {
      "text/plain": [
       "((7,), (7, 1), (3,), (1, 3))"
      ]
     },
     "execution_count": 5,
     "metadata": {},
     "output_type": "execute_result"
    }
   ],
   "source": [
    "np.arange(7).shape, np.arange(7)[:, np.newaxis].shape, np.arange(3).shape,  np.arange(3)[np.newaxis, :].shape"
   ]
  },
  {
   "cell_type": "code",
   "execution_count": 6,
   "id": "bb099cdb",
   "metadata": {},
   "outputs": [
    {
     "data": {
      "text/plain": [
       "(array([0, 1, 2, 3, 4, 5, 6]),\n",
       " array([[0],\n",
       "        [1],\n",
       "        [2],\n",
       "        [3],\n",
       "        [4],\n",
       "        [5],\n",
       "        [6]]))"
      ]
     },
     "execution_count": 6,
     "metadata": {},
     "output_type": "execute_result"
    }
   ],
   "source": [
    "np.arange(7), np.arange(7)[:, np.newaxis]"
   ]
  },
  {
   "cell_type": "code",
   "execution_count": 7,
   "id": "5748742f",
   "metadata": {},
   "outputs": [
    {
     "data": {
      "text/plain": [
       "(array([0, 1, 2]), array([[0, 1, 2]]))"
      ]
     },
     "execution_count": 7,
     "metadata": {},
     "output_type": "execute_result"
    }
   ],
   "source": [
    "np.arange(3), np.arange(3)[np.newaxis, :]"
   ]
  },
  {
   "cell_type": "code",
   "execution_count": 8,
   "id": "13af562e",
   "metadata": {},
   "outputs": [
    {
     "name": "stdout",
     "output_type": "stream",
     "text": [
      "(7, 3)\n"
     ]
    },
    {
     "data": {
      "text/plain": [
       "array([[0.  , 0.  , 0.  ],\n",
       "       [1.  , 1.  , 0.01],\n",
       "       [2.  , 2.  , 0.02],\n",
       "       [3.  , 3.  , 0.03],\n",
       "       [4.  , 4.  , 0.04],\n",
       "       [5.  , 5.  , 0.05],\n",
       "       [6.  , 6.  , 0.06]])"
      ]
     },
     "execution_count": 8,
     "metadata": {},
     "output_type": "execute_result"
    }
   ],
   "source": [
    "example = get_angles(np.arange(7)[:, np.newaxis], np.arange(3)[np.newaxis, :], 4)\n",
    "print(example.shape)\n",
    "example"
   ]
  },
  {
   "cell_type": "markdown",
   "id": "abad6f37",
   "metadata": {},
   "source": [
    "Now, let's implement the positional encoding. We have to use the sine equation when $i$ is an even number and the cosine equation when $i$ is an odd number."
   ]
  },
  {
   "cell_type": "code",
   "execution_count": 9,
   "id": "9c540b85",
   "metadata": {},
   "outputs": [],
   "source": [
    "def positional_encoding(positions, d):\n",
    "    \"\"\"\n",
    "    Precomputes a matrix with all the positional encodings \n",
    "    \n",
    "    Arguments:\n",
    "        positions (int) -- Maximum number of positions to be encoded \n",
    "        d (int) -- Encoding size \n",
    "    \n",
    "    Returns:\n",
    "        pos_encoding -- (1, position, d_model) A matrix with the positional encodings\n",
    "    \"\"\"\n",
    "    # initialize a matrix angle_rads of all the angles \n",
    "    angle_rads = get_angles(np.arange(positions)[:, np.newaxis],\n",
    "                            np.arange(d)[ np.newaxis,:],\n",
    "                            d)\n",
    "      \n",
    "    # -> angle_rads has dim (positions,d)\n",
    "    \n",
    "    # apply sin to even indices in the array; 2i\n",
    "    angle_rads[:, 0::2] = np.sin(angle_rads[:, 0::2])\n",
    "  \n",
    "    # apply cos to odd indices in the array; 2i+1\n",
    "    angle_rads[:, 1::2] = np.cos(angle_rads[:, 1::2])\n",
    "\n",
    "    # #  add an extra dimension at the beginning of the array, \n",
    "    # so the final shape of pos_encoding becomes (1, positions, d)\n",
    "    pos_encoding = angle_rads[np.newaxis, ...]\n",
    "    \n",
    "    return tf.cast(pos_encoding, dtype=tf.float32)"
   ]
  },
  {
   "cell_type": "markdown",
   "id": "7d1e10d5",
   "metadata": {},
   "source": [
    "**Note.**. Let's talk a little bit more about the line \"pos_encoding = angle_rads[np.newaxis, ...]\". The purpose of np.newaxis is to add an extra dimension at the beginning of the array, so the final shape of pos_encoding becomes (1, positions, d). This means the positional encoding has an additional dimension at the start, representing a \"batch\" of size 1 (this is typical in TensorFlow and other deep learning frameworks).\n",
    "\n",
    "For example, if positions = 3 and d = 4, the shape of pos_encoding will be (1, 3, 4).\n",
    "\n",
    "- 1 represents the batch size (in this case, just one sequence set).\n",
    "- 3 is the number of positions in the sequence.\n",
    "- 4 is the size of the embedding vectors.\n",
    "\n",
    "To retrieve the positional encoding for the positions, you can take pos_encoding[0], which selects the matrix with dimensions (3, 4). This is the positional encoding to be added to your input embeddings, representing the application of positional encoding to your input sequence."
   ]
  },
  {
   "cell_type": "markdown",
   "id": "b8b607f1",
   "metadata": {},
   "source": [
    "Let's try our function."
   ]
  },
  {
   "cell_type": "code",
   "execution_count": 10,
   "id": "b8e8a447",
   "metadata": {},
   "outputs": [
    {
     "data": {
      "text/plain": [
       "<tf.Tensor: shape=(1, 8, 3), dtype=float32, numpy=\n",
       "array([[[ 0.   ,  1.   ,  0.   ],\n",
       "        [ 0.841,  0.54 ,  0.002],\n",
       "        [ 0.909, -0.416,  0.004],\n",
       "        [ 0.141, -0.99 ,  0.006],\n",
       "        [-0.757, -0.654,  0.009],\n",
       "        [-0.959,  0.284,  0.011],\n",
       "        [-0.279,  0.96 ,  0.013],\n",
       "        [ 0.657,  0.754,  0.015]]], dtype=float32)>"
      ]
     },
     "execution_count": 10,
     "metadata": {},
     "output_type": "execute_result"
    }
   ],
   "source": [
    "# 8 positions with an embedding size of 3\n",
    "example = positional_encoding(8, 3)\n",
    "example"
   ]
  },
  {
   "cell_type": "code",
   "execution_count": 11,
   "id": "8468ff0d",
   "metadata": {},
   "outputs": [
    {
     "data": {
      "text/plain": [
       "<tf.Tensor: shape=(8, 3), dtype=float32, numpy=\n",
       "array([[ 0.   ,  1.   ,  0.   ],\n",
       "       [ 0.841,  0.54 ,  0.002],\n",
       "       [ 0.909, -0.416,  0.004],\n",
       "       [ 0.141, -0.99 ,  0.006],\n",
       "       [-0.757, -0.654,  0.009],\n",
       "       [-0.959,  0.284,  0.011],\n",
       "       [-0.279,  0.96 ,  0.013],\n",
       "       [ 0.657,  0.754,  0.015]], dtype=float32)>"
      ]
     },
     "execution_count": 11,
     "metadata": {},
     "output_type": "execute_result"
    }
   ],
   "source": [
    "example[0]"
   ]
  },
  {
   "cell_type": "markdown",
   "id": "43604db5",
   "metadata": {},
   "source": [
    "Let's plot our positional encodings."
   ]
  },
  {
   "cell_type": "code",
   "execution_count": 12,
   "id": "7e2888e1",
   "metadata": {},
   "outputs": [
    {
     "name": "stdout",
     "output_type": "stream",
     "text": [
      "(1, 50, 512)\n"
     ]
    },
    {
     "data": {
      "image/png": "[encoded data removed]",
      "text/plain": [
       "<Figure size 640x480 with 2 Axes>"
      ]
     },
     "metadata": {},
     "output_type": "display_data"
    }
   ],
   "source": [
    "num_positions = 50\n",
    "d = 512\n",
    "\n",
    "pos_encoding = positional_encoding(num_positions, d)\n",
    "\n",
    "print (pos_encoding.shape)\n",
    "\n",
    "plt.pcolormesh(pos_encoding[0], cmap='RdBu') # we take pos_encoding[0] (we remove batch dimension)\n",
    "plt.xlabel('d')\n",
    "plt.xlim((0, d))\n",
    "plt.ylabel('Position')\n",
    "plt.colorbar()\n",
    "plt.show()"
   ]
  },
  {
   "cell_type": "markdown",
   "id": "b014364d",
   "metadata": {},
   "source": [
    "Each row represents a positional encoding - notice how none of the rows are identical! We have created a unique positional encoding for each of the words."
   ]
  },
  {
   "cell_type": "markdown",
   "id": "64d29500",
   "metadata": {},
   "source": [
    "Finally, let's look at an example where we add the positional encoding to the word embeddings.\n",
    "\n",
    "<img src=\"images/PosEncoding.png\"/>"
   ]
  },
  {
   "cell_type": "code",
   "execution_count": 13,
   "id": "95c679e0",
   "metadata": {},
   "outputs": [
    {
     "name": "stdout",
     "output_type": "stream",
     "text": [
      "\u001b[1mInput embedding:\u001b[0m\n",
      "tf.Tensor(\n",
      "[[0.1 0.2 0.3 0.4]\n",
      " [0.5 0.6 0.7 0.8]\n",
      " [0.9 1.  1.1 1.2]], shape=(3, 4), dtype=float32)\n",
      "\u001b[1m\n",
      "Positional Encoding:\u001b[0m\n",
      "tf.Tensor(\n",
      "[[[ 0.     1.     0.     1.   ]\n",
      "  [ 0.841  0.54   0.01   1.   ]\n",
      "  [ 0.909 -0.416  0.02   1.   ]]], shape=(1, 3, 4), dtype=float32)\n",
      "\u001b[1m\n",
      "Sum of the embedding with positional encoding:\u001b[0m\n",
      "tf.Tensor(\n",
      "[[0.1   1.2   0.3   1.4  ]\n",
      " [1.341 1.14  0.71  1.8  ]\n",
      " [1.809 0.584 1.12  2.2  ]], shape=(3, 4), dtype=float32)\n"
     ]
    }
   ],
   "source": [
    "# Let' say that we have an embedding with 3 tokens and 4 dimensions\n",
    "\n",
    "\n",
    "# input text: \"I am happy\"\n",
    "embedding = np.array([[0.1, 0.2, 0.3, 0.4], # corresponds to \"I\"\n",
    "                     [0.5, 0.6, 0.7, 0.8],  # corresponds to \"am\"\n",
    "                     [0.9, 1.0, 1.1, 1.2]]) # corresponds to \"happy\"\n",
    "\n",
    "embedding = tf.constant(embedding, dtype=tf.float32)\n",
    "\n",
    "# Positional encoding for a sequence of length 3 and embedding size 4\n",
    "pos_encoding = positional_encoding(3, 4)\n",
    "\n",
    "# sum of embedding with positional encoding\n",
    "encoded_input = embedding + pos_encoding[0]\n",
    "\n",
    "# Results\n",
    "print(\"\\033[1mInput embedding:\\033[0m\")\n",
    "print(embedding)\n",
    "\n",
    "print(\"\\033[1m\\nPositional Encoding:\\033[0m\")\n",
    "print(pos_encoding)\n",
    "\n",
    "print(\"\\033[1m\\nSum of the embedding with positional encoding:\\033[0m\")\n",
    "print(encoded_input)\n"
   ]
  },
  {
   "cell_type": "markdown",
   "id": "c2e5b752",
   "metadata": {},
   "source": [
    "<a name=\"4\"></a>\n",
    "## <font color='red'> <b>  4. Masking </b> </font>\n",
    "\n",
    "There are two types of masks that are useful when building your Transformer network: \n",
    "\n",
    "- The *padding mask*\n",
    "- The *look-ahead mask*\n",
    "\n",
    "Both help the softmax computation give the appropriate weights to the words in your input sentence. "
   ]
  },
  {
   "cell_type": "markdown",
   "id": "54a71e83",
   "metadata": {},
   "source": [
    "<a name=\"4.1\"></a>\n",
    "### <font color='orange'> <b> 4.1. Padding mask </b> </font>"
   ]
  },
  {
   "cell_type": "markdown",
   "id": "d991f41c",
   "metadata": {},
   "source": [
    "Oftentimes your input sequence will exceed the maximum length of a sequence your network can process. Let's say the maximum length of your model is five, it is fed the following sequences:\n",
    "\n",
    "    [[\"Do\", \"you\", \"know\", \"when\", \"Jane\", \"is\", \"going\", \"to\", \"visit\", \"Africa\"], \n",
    "     [\"Jane\", \"visits\", \"Africa\", \"in\", \"September\" ],\n",
    "     [\"Exciting\", \"!\"]\n",
    "    ]\n",
    "\n",
    "which might get vectorized as:\n",
    "\n",
    "    [[ 71, 121, 4, 56, 99, 2344, 345, 1284, 15],\n",
    "     [ 56, 1285, 15, 181, 545],\n",
    "     [ 87, 600]\n",
    "    ]\n",
    "    \n",
    "When passing sequences into a transformer model, it is important that they are of uniform length. You can achieve this by padding the sequence with zeros, and truncating sentences that exceed the maximum length of your model:\n",
    "\n",
    "    [[ 71, 121, 4, 56, 99],\n",
    "     [ 2344, 345, 1284, 15, 0],\n",
    "     [ 56, 1285, 15, 181, 545],\n",
    "     [ 87, 600, 0, 0, 0],\n",
    "    ]\n",
    "    \n",
    "Sequences longer than the maximum length of five will be truncated, and zeros will be added to the truncated sequence to achieve uniform length. Similarly, for sequences shorter than the maximum length, they zeros will also be added for padding. However, these zeros will affect the softmax calculation - this is when a padding mask comes in handy! By multiplying a padding mask by a small negative number (for example -1e9) and adding it to your sequence, you mask out the zeros by setting them to close to negative infinity.\n",
    "\n",
    "After masking, your input should go from `[87, 600, 0, 0, 0]` to `[87, 600, -1e9, -1e9, -1e9]`, so that when you take the softmax, the zeros don't affect the score."
   ]
  },
  {
   "cell_type": "markdown",
   "id": "f283a014",
   "metadata": {},
   "source": [
    "Let's remember that in in a softmax function, when x approach to -infinity, the value tends to 0.\n",
    "\n",
    "<img src=\"images/softmax.png\"/>"
   ]
  },
  {
   "cell_type": "markdown",
   "id": "f87c2a64",
   "metadata": {},
   "source": [
    "We will use [tf.math.equal](https://www.tensorflow.org/api_docs/python/tf/math/equal)"
   ]
  },
  {
   "cell_type": "code",
   "execution_count": 14,
   "id": "db8e4a2f",
   "metadata": {},
   "outputs": [
    {
     "name": "stdout",
     "output_type": "stream",
     "text": [
      "Original data:\n",
      " [[1 0 3]\n",
      " [4 0 6]]\n",
      "\n",
      " Mask:\n",
      " [[False  True False]\n",
      " [False  True False]]\n",
      "\n",
      " Mask Float:\n",
      " [[0. 1. 0.]\n",
      " [0. 1. 0.]]\n"
     ]
    }
   ],
   "source": [
    "# Example sequence\n",
    "seq = tf.constant([[1, 0, 3], [4, 0, 6]])\n",
    "print(f\"Original data:\\n {seq}\")\n",
    "\n",
    "# Check where elements are equal to 0\n",
    "mask = tf.math.equal(seq, 0)  # Result: [[False, True, False], [False, True, False]]\n",
    "print(f\"\\n Mask:\\n {mask}\")\n",
    "\n",
    "# Convert to float32\n",
    "mask_float = tf.cast(mask, tf.float32)  # Result: [[0.0, 1.0, 0.0], [0.0, 1.0, 0.0]]\n",
    "\n",
    "print(f\"\\n Mask Float:\\n {mask_float}\")"
   ]
  },
  {
   "cell_type": "code",
   "execution_count": 15,
   "id": "9c57fc30",
   "metadata": {},
   "outputs": [],
   "source": [
    "def create_padding_mask(seq):\n",
    "    \"\"\"\n",
    "    Creates a matrix mask for the padding cells\n",
    "    \n",
    "    Arguments:\n",
    "        seq -- (n, m) matrix\n",
    "    \n",
    "    Returns:\n",
    "        mask -- (n, 1, 1, m) binary tensor\n",
    "    \"\"\"\n",
    "    seq = tf.cast(tf.math.equal(seq, 0), tf.float32)\n",
    "  \n",
    "    # add extra dimensions to add the padding\n",
    "    # to the attention logits.\n",
    "    return seq[:, tf.newaxis, tf.newaxis, :] # shape (n, 1, 1, m)"
   ]
  },
  {
   "cell_type": "code",
   "execution_count": 16,
   "id": "797089cd",
   "metadata": {},
   "outputs": [
    {
     "name": "stdout",
     "output_type": "stream",
     "text": [
      "tf.Tensor(\n",
      "[[[[0. 0. 1. 1. 0.]]]\n",
      "\n",
      "\n",
      " [[[0. 0. 0. 1. 1.]]]\n",
      "\n",
      "\n",
      " [[[1. 1. 1. 0. 0.]]]], shape=(3, 1, 1, 5), dtype=float32)\n"
     ]
    }
   ],
   "source": [
    "# Let's try our function\n",
    "\n",
    "x = tf.constant([[7., 6., 0., 0., 1.], [1., 2., 3., 0., 0.], [0., 0., 0., 4., 5.]])\n",
    "print(create_padding_mask(x))"
   ]
  },
  {
   "cell_type": "markdown",
   "id": "26c93471",
   "metadata": {},
   "source": [
    "We can see that in every place where there was a number other than 0, it was changed to 0, and in the places where there was a 1, it was changed to 1."
   ]
  },
  {
   "cell_type": "markdown",
   "id": "6618dca1",
   "metadata": {},
   "source": [
    "Let's multiply this by a small number (1e-9 in this example):"
   ]
  },
  {
   "cell_type": "code",
   "execution_count": 17,
   "id": "d592bf53",
   "metadata": {},
   "outputs": [
    {
     "data": {
      "text/plain": [
       "<tf.Tensor: shape=(3, 1, 1, 5), dtype=float32, numpy=\n",
       "array([[[[-0.e+00, -0.e+00, -1.e+09, -1.e+09, -0.e+00]]],\n",
       "\n",
       "\n",
       "       [[[-0.e+00, -0.e+00, -0.e+00, -1.e+09, -1.e+09]]],\n",
       "\n",
       "\n",
       "       [[[-1.e+09, -1.e+09, -1.e+09, -0.e+00, -0.e+00]]]], dtype=float32)>"
      ]
     },
     "execution_count": 17,
     "metadata": {},
     "output_type": "execute_result"
    }
   ],
   "source": [
    "create_padding_mask(x) * -1.0e9"
   ]
  },
  {
   "cell_type": "markdown",
   "id": "bb306f16",
   "metadata": {},
   "source": [
    "We will now see that the difference between the softmax of x and that of x added to this mask is very small."
   ]
  },
  {
   "cell_type": "code",
   "execution_count": 18,
   "id": "ed902c1f",
   "metadata": {},
   "outputs": [
    {
     "data": {
      "text/plain": [
       "<tf.Tensor: shape=(3, 5), dtype=float32, numpy=\n",
       "array([[7.288e-01, 2.681e-01, 6.645e-04, 6.645e-04, 1.806e-03],\n",
       "       [8.444e-02, 2.295e-01, 6.239e-01, 3.106e-02, 3.106e-02],\n",
       "       [4.854e-03, 4.854e-03, 4.854e-03, 2.650e-01, 7.204e-01]],\n",
       "      dtype=float32)>"
      ]
     },
     "execution_count": 18,
     "metadata": {},
     "output_type": "execute_result"
    }
   ],
   "source": [
    "tf.keras.activations.softmax(x) "
   ]
  },
  {
   "cell_type": "code",
   "execution_count": 19,
   "id": "44b8030c",
   "metadata": {},
   "outputs": [
    {
     "data": {
      "text/plain": [
       "<tf.Tensor: shape=(3, 1, 3, 5), dtype=float32, numpy=\n",
       "array([[[[7.297e-01, 2.685e-01, 0.000e+00, 0.000e+00, 1.809e-03],\n",
       "         [2.447e-01, 6.652e-01, 0.000e+00, 0.000e+00, 9.003e-02],\n",
       "         [6.648e-03, 6.648e-03, 0.000e+00, 0.000e+00, 9.867e-01]]],\n",
       "\n",
       "\n",
       "       [[[7.306e-01, 2.688e-01, 6.662e-04, 0.000e+00, 0.000e+00],\n",
       "         [9.003e-02, 2.447e-01, 6.652e-01, 0.000e+00, 0.000e+00],\n",
       "         [3.333e-01, 3.333e-01, 3.333e-01, 0.000e+00, 0.000e+00]]],\n",
       "\n",
       "\n",
       "       [[[0.000e+00, 0.000e+00, 0.000e+00, 2.689e-01, 7.311e-01],\n",
       "         [0.000e+00, 0.000e+00, 0.000e+00, 5.000e-01, 5.000e-01],\n",
       "         [0.000e+00, 0.000e+00, 0.000e+00, 2.689e-01, 7.311e-01]]]],\n",
       "      dtype=float32)>"
      ]
     },
     "execution_count": 19,
     "metadata": {},
     "output_type": "execute_result"
    }
   ],
   "source": [
    "tf.keras.activations.softmax(x + create_padding_mask(x) * -1.0e9, axis=-1)"
   ]
  },
  {
   "cell_type": "markdown",
   "id": "28af314c",
   "metadata": {},
   "source": [
    "**Summary**\n",
    "\n",
    "- Padding Mask\n",
    "    - A mask that indicates which elements in the sequence are padding and which are not.\n",
    "- Usage in Attention.\n",
    "    - It ensures that padding values do not affect the attention scores and, therefore, the result of the softmax.\n",
    "- Effect: \n",
    "    - Padding values do not influence the calculation of the output representations, allowing the model to focus only on the relevant parts of the sequence.\n",
    "This is crucial for proper training and for preventing the model from being \"confused\" by the artificially added zeros."
   ]
  },
  {
   "cell_type": "markdown",
   "id": "903e3e34",
   "metadata": {},
   "source": [
    "<a name=\"4.2\"></a>\n",
    "### <font color='orange'> <b> 4.2. Look-ahead mask </b> </font>"
   ]
  },
  {
   "cell_type": "markdown",
   "id": "fbe8e4c7",
   "metadata": {},
   "source": [
    "The look-ahead mask (or causal mask) is a special type of mask used in the Transformer, especially in the context of the decoder. Its main function is to prevent the model from using future information when predicting the next word or token in a sequence, ensuring that the model is autoregressive.\n",
    "\n",
    "Why is it used? The purpose of the look-ahead mask is to prevent the model from seeing the future when generating an output sequence. This means that when the model is predicting the token at position i, it should not \"see\" tokens at later positions (i+1, i+2, ...). This is crucial during both training and inference because, during inference, the model does not have access to future sequence information.\n",
    "\n",
    "How does it work? The look-ahead mask is a lower triangular matrix (with 1s in the lower part and 0s in the upper part), which is applied to the attention scores. This mask ensures that the attention values corresponding to future tokens in the sequence are masked.\n",
    "\n",
    "During the attention calculation, the attention scores for elements at future positions are set to a very negative value (e.g., negative infinity), so that after applying softmax, these positions do not influence the probability calculation."
   ]
  },
  {
   "cell_type": "markdown",
   "id": "ec7997dd",
   "metadata": {},
   "source": [
    "For example, if the expected correct output is `[1, 2, 3]` and you wanted to see if given that the model correctly predicted the first value it could predict the second value, you would mask out the second and third values. So you would input the masked sequence `[1, -1e9, -1e9]` and see if it could generate `[1, 2, -1e9]`."
   ]
  },
  {
   "cell_type": "markdown",
   "id": "765213c1",
   "metadata": {},
   "source": [
    "For the implementation we will use [tf.linalg.band_part](https://www.tensorflow.org/api_docs/python/tf/linalg/band_part).\n",
    "\n",
    "More specifically:\n",
    "\n",
    "tf.linalg.band_part(matrix, -1, 0):\n",
    "\n",
    "This is a function that extracts the lower triangular part of a matrix, with the specific options given:\n",
    "\n",
    "- matrix: The matrix to extract from, which is the matrix of ones in this case.\n",
    "\n",
    "- -1: The number of diagonals to include below the main diagonal. A value of -1 means all diagonals below the main diagonal.\n",
    "\n",
    "- 0: The number of diagonals to include above the main diagonal. A value of 0 means no diagonals above the main diagonal are included.\n",
    "\n",
    "So, it creates a lower triangular matrix, meaning it keeps the elements below and on the main diagonal, and sets all the elements above the main diagonal to 0."
   ]
  },
  {
   "cell_type": "code",
   "execution_count": 20,
   "id": "c5f2b8bc",
   "metadata": {},
   "outputs": [],
   "source": [
    "def create_look_ahead_mask(size):\n",
    "    \"\"\"\n",
    "    Returns an upper triangular matrix filled with ones\n",
    "    \n",
    "    Arguments:\n",
    "        size -- matrix size\n",
    "    \n",
    "    Returns:\n",
    "        mask -- (size, size) tensor\n",
    "    \"\"\"\n",
    "    mask = tf.linalg.band_part(tf.ones((size, size)), -1, 0)\n",
    "    return mask "
   ]
  },
  {
   "cell_type": "code",
   "execution_count": 21,
   "id": "4c27b245",
   "metadata": {},
   "outputs": [
    {
     "data": {
      "text/plain": [
       "<tf.Tensor: shape=(3, 3), dtype=float32, numpy=\n",
       "array([[1., 0., 0.],\n",
       "       [1., 1., 0.],\n",
       "       [1., 1., 1.]], dtype=float32)>"
      ]
     },
     "execution_count": 21,
     "metadata": {},
     "output_type": "execute_result"
    }
   ],
   "source": [
    "# Let's try\n",
    "x = tf.random.uniform((1, 3))\n",
    "temp = create_look_ahead_mask(x.shape[1])\n",
    "\n",
    "temp"
   ]
  },
  {
   "cell_type": "markdown",
   "id": "7a71b172",
   "metadata": {},
   "source": [
    "**Summary**\n",
    "\n",
    "- Look-ahead mask: \n",
    "    - A mask used in the decoder to prevent the model from seeing future tokens when making predictions in a sequence. \n",
    "\n",
    "- Purpose: \n",
    "    - Ensure that the model is autoregressive and generates tokens in sequential order, without accessing future information."
   ]
  },
  {
   "cell_type": "markdown",
   "id": "d45e22d2",
   "metadata": {},
   "source": [
    "<a name=\"5\"></a>\n",
    "## <font color='red'> <b>  5. Attention</b> </font>"
   ]
  },
  {
   "cell_type": "markdown",
   "id": "38dd9cd1",
   "metadata": {},
   "source": [
    "<a name=\"5.1\"></a>\n",
    "### <font color='orange'> <b> 5.1. Types of Attention </b> </font>\n",
    "\n",
    "The 3 main types of attention in the transformer model are:\n",
    "\n",
    "- Encoder-decoder attention.\n",
    "- Self-Attention\n",
    "- Masked Self-Attention"
   ]
  },
  {
   "cell_type": "markdown",
   "id": "41af0693",
   "metadata": {},
   "source": [
    "### Encoder decoder-attention"
   ]
  },
  {
   "cell_type": "markdown",
   "id": "48295983",
   "metadata": {},
   "source": [
    "The words in one sentence attend to all other words in another one. \n",
    "\n",
    "That is, the <font color='blue'> queries</font> come from one sentence while the <font color='red'>keys </font> and <font color='#5b2c6f'> values </font> come from another.\n",
    "\n",
    "It is crucial for tasks like translation, where the decoder generates words based on the source sentence."
   ]
  },
  {
   "cell_type": "markdown",
   "id": "d4ffa698",
   "metadata": {},
   "source": [
    "<img src=\"images/encoder_decoeder_attention.png\"/>"
   ]
  },
  {
   "cell_type": "markdown",
   "id": "704b0f61",
   "metadata": {},
   "source": [
    "### Self-attention\n",
    "\n",
    "**The queries, keys, and values come from the same sentence.**\n",
    "\n",
    "Every word attends to every other word in the sequence. \n",
    "\n",
    "This type of attention lets you get contextual representations of your words. In other terms, self-attention gives you a representation of the meaning of each word within the sentence.\n",
    "\n"
   ]
  },
  {
   "cell_type": "markdown",
   "id": "bac48e00",
   "metadata": {},
   "source": [
    "<img src=\"images/self_attention.png\"/>"
   ]
  },
  {
   "cell_type": "markdown",
   "id": "8183d57c",
   "metadata": {},
   "source": [
    "### Masked self-attention\n",
    "\n",
    "Queries, keys and values also come from the same sentence, but **each query cannot attend to keys on future positions.**\n",
    "\n",
    "This attention mechanism is present in the decoder from the transformer model and ensures that predictions at each position depend only on the known outputs. \n"
   ]
  },
  {
   "cell_type": "markdown",
   "id": "c22d38f3",
   "metadata": {},
   "source": [
    "- The scale dot-product attention requires the calculation of the softmax of the scaled products between the queries and the transpose of the key matrix. Then for mask self-attention, you add a mask matrix within the softmax. \n",
    "    - The mask has a zero on all of its positions, except for the elements above the diagonal, which are set to minus infinity (or, in practice, a huge negative number).\n",
    "- After taking the softmax, this addition ensures that the elements in the weights matrix are 0 for all the keys and the subsequent positions to the query.\n",
    "- In the end, as with the other types of attention, you multiply the weights matrix by the value matrix to get the context vector for each query.\n"
   ]
  },
  {
   "cell_type": "markdown",
   "id": "da77ff48",
   "metadata": {},
   "source": [
    "<img src=\"images/masked_self_attention.png\"/>"
   ]
  },
  {
   "cell_type": "markdown",
   "id": "f2cd9a19",
   "metadata": {},
   "source": [
    "<a name=\"5.2\"></a>\n",
    "### <font color='orange'> <b> 5.2. Scaled dot-product attention </b> </font>"
   ]
  },
  {
   "cell_type": "markdown",
   "id": "dd5c4195",
   "metadata": {},
   "source": [
    "In scale dot-products attention:\n",
    "\n",
    "- We have queries, keys and values.\n",
    "- The attention layer outputs context vectors for each query.\n",
    "     - The context vectors are weighted sums of the values where the similarity between the queries and keys determines the weights assigned to each value.\n",
    "- The softmax ensures that the weights add up to 1.\n",
    "- The division by the square roots of the dimension of the key factors is used to improve performance.\n",
    "\n",
    "\n",
    "Mathematically:\n",
    "\n",
    "$$\n",
    "\\text { Attention }(Q, K, V)=\\operatorname{softmax}\\left(\\frac{Q K^{T}}{\\sqrt{d_{k}}}\\right) V\\tag{4}\\\n",
    "$$\n",
    "\n",
    "* $Q$ is the matrix of queries \n",
    "* $K$ is the matrix of keys\n",
    "* $V$ is the matrix of values\n",
    "* ${d_k}$ is the dimension of the keys, which is used to scale everything down so the softmax doesn't explode.\n",
    "\n",
    "\n",
    "The scale dot-product attention mechanism is very efficient since it relies only on matrix multiplication and a softmax. Additionally, we can implement this attention mechanism to run on GPUs or TPUs to speed up training.\n"
   ]
  },
  {
   "cell_type": "markdown",
   "id": "b01d4450",
   "metadata": {},
   "source": [
    "To get the query, key and value matrices, you must first transform the words in your sequences toward embeddings.\n",
    "\n",
    "- Let 's take the sentence \"Soy feliz\" as the source for the queries. \n",
    "    - You'll need to get the embedding vector for the words \"Soy\" and \"feliz\".\n",
    "    - The query matrix will contain all of these embedding vectors as rows.\n",
    "    - The matrix size is given by the size of the word embeddings and the length of the sequence. \n",
    "        - If the word embbedimgs size is for example d=4, then, in this example, the size will be 4x2 (because the length of our sequence (\"Soy feliz\") is 2).\n",
    "- To get the key matrix, let's use the sentence “I am happy”. You will get the embedding for each word in the sentence and stack them together to form the key matrix.\n",
    "    - The size will be: sequence length of the keys x dimension of the embedding (3 x 4 in this example).\n",
    "\n",
    "You will generally use the same vectors used for the key matrix for the value matrix. But you could also transform them first.\n",
    "\n",
    "Note that the number of vectors used to form the key and value matrix must be the same. \n",
    "\n",
    "\n",
    "\n"
   ]
  },
  {
   "cell_type": "markdown",
   "id": "70bcfaf8",
   "metadata": {},
   "source": [
    "<img src=\"images/scaled_dot_product.png\"/>"
   ]
  },
  {
   "cell_type": "markdown",
   "id": "451b88fa",
   "metadata": {},
   "source": [
    "Now, we can implement the formula.\n",
    "\n",
    "- First, you compute the matrix products between the query and the transpose of the key matrix. You scale it by the inverse of the square of the dimension of the key vectors, dk and calculate the softmax. \n",
    "    - This computation will give you a matrix with the weights for each key per query. Therefore the weight matrix will have a total number of elements equal to the number of queries times the number of keys.\n",
    "        - For example, the third element in the second row would correspond to the weights assigned to the third key for the second query.\n",
    "- After the computation of the weights matrix, you can multiply it with the value matrix to get a matrix that has rows and the context vector corresponding to each query. \n",
    "    - The number of columns on this matrix is equal to the size of the value vectors, which is often the same as the embedding size.\n",
    "\n"
   ]
  },
  {
   "cell_type": "markdown",
   "id": "7ba115e3",
   "metadata": {},
   "source": [
    "<img src=\"images/math_scd.png\"/>"
   ]
  },
  {
   "cell_type": "code",
   "execution_count": 22,
   "id": "3a52c794",
   "metadata": {},
   "outputs": [],
   "source": [
    "def scaled_dot_product_attention_v0(q, k, v):\n",
    "    \"\"\"\n",
    "    Calculate the attention weights.\n",
    "      q, k, v must have matching leading dimensions.\n",
    "      k, v must have matching penultimate dimension, i.e.: seq_len_k = seq_len_v.\n",
    "      The mask has different shapes depending on its type(padding or look ahead) \n",
    "      but it must be broadcastable for addition.\n",
    "\n",
    "    Arguments:\n",
    "        q -- query shape == (..., seq_len_q, depth)\n",
    "        k -- key shape == (..., seq_len_k, depth)\n",
    "        v -- value shape == (..., seq_len_v, depth_v)\n",
    "\n",
    "    Returns:\n",
    "        output -- attention_weights\n",
    "    \"\"\"\n",
    "    \n",
    "    # Q*K'\n",
    "    matmul_qk = tf.matmul(q, k, transpose_b=True)\n",
    "\n",
    "    # scale matmul_qk\n",
    "    dk = tf.cast(tf.shape(k)[-1], tf.float32)\n",
    "    scaled_attention_logits = matmul_qk / tf.math.sqrt(dk)\n",
    "\n",
    "    # softmax is normalized on the last axis (seq_len_k) so that the scores\n",
    "    # add up to 1.\n",
    "    attention_weights = tf.nn.softmax(scaled_attention_logits, axis=-1)  # (..., seq_len_q, seq_len_k)\n",
    "    \n",
    "    # attention_weights * V\n",
    "    output = tf.matmul(attention_weights, v)   # (..., seq_len_q, depth_v)\n",
    "    \n",
    "    return output, attention_weights"
   ]
  },
  {
   "cell_type": "markdown",
   "id": "c0306cc0",
   "metadata": {},
   "source": [
    "**Note.** About the ellipsis in the docstring.\n",
    "\n",
    "The ... (ellipsis) represents the batch dimensions and any additional dimensions (e.g., for multi-head attention or hierarchical models). In simpler cases, this is just the batch size. For example:\n",
    "\n",
    "- In a single-head attention scenario, the shape might be (batch_size,).\n",
    "- In a multi-head attention scenario, the shape might be (batch_size, num_heads).\n",
    "\n"
   ]
  },
  {
   "cell_type": "code",
   "execution_count": 23,
   "id": "2bb019ca",
   "metadata": {},
   "outputs": [
    {
     "name": "stdout",
     "output_type": "stream",
     "text": [
      "\u001b[1mQuery shape:\u001b[0m (2, 3, 5)\n",
      "\u001b[1mKey shape:\u001b[0m (2, 4, 5)\n",
      "\u001b[1mValue shape:\u001b[0m (2, 4, 6)\n",
      "\u001b[1mOutput shape:\u001b[0m (2, 3, 6)\n",
      "\u001b[1mAttention weights shape:\u001b[0m (2, 3, 4)\n",
      "\n",
      "\u001b[1mAttention Weights:\u001b[0m\n",
      " tf.Tensor(\n",
      "[[[0.259 0.257 0.217 0.266]\n",
      "  [0.25  0.215 0.209 0.326]\n",
      "  [0.274 0.267 0.188 0.272]]\n",
      "\n",
      " [[0.289 0.262 0.24  0.209]\n",
      "  [0.28  0.29  0.24  0.19 ]\n",
      "  [0.29  0.25  0.239 0.221]]], shape=(2, 3, 4), dtype=float32)\n",
      "\n",
      "\u001b[1mOutput:\u001b[0m\n",
      " tf.Tensor(\n",
      "[[[0.556 0.206 0.584 0.392 0.253 0.557]\n",
      "  [0.532 0.189 0.579 0.375 0.248 0.602]\n",
      "  [0.573 0.205 0.582 0.372 0.238 0.548]]\n",
      "\n",
      " [[0.36  0.586 0.605 0.499 0.489 0.295]\n",
      "  [0.363 0.594 0.611 0.501 0.47  0.301]\n",
      "  [0.359 0.581 0.604 0.502 0.499 0.291]]], shape=(2, 3, 6), dtype=float32)\n"
     ]
    }
   ],
   "source": [
    "# Example: Query, Key, Value tensors\n",
    "batch_size = 2  # Number of sequences in the batch\n",
    "seq_len_q = 3   # Length of the query sequence\n",
    "seq_len_kv = 4  # Length of the key and value sequences\n",
    "depth = 5       # Embedding size for query/key\n",
    "depth_v = 6     # Embedding size for value\n",
    "\n",
    "# Generate random tensors for q, k, v\n",
    "q = tf.random.uniform((batch_size, seq_len_q, depth))   # Shape: (2, 3, 5)\n",
    "k = tf.random.uniform((batch_size, seq_len_kv, depth))  # Shape: (2, 4, 5)\n",
    "v = tf.random.uniform((batch_size, seq_len_kv, depth_v))  # Shape: (2, 4, 6)\n",
    "\n",
    "# Apply scaled dot-product attention\n",
    "output, attention_weights = scaled_dot_product_attention_v0(q, k, v)\n",
    "\n",
    "# Print shapes and results\n",
    "print(\"\\033[1mQuery shape:\\033[0m\", q.shape)\n",
    "print(\"\\033[1mKey shape:\\033[0m\", k.shape)\n",
    "print(\"\\033[1mValue shape:\\033[0m\", v.shape)\n",
    "print(\"\\033[1mOutput shape:\\033[0m\", output.shape)  # Should match (batch_size, seq_len_q, depth_v)\n",
    "print(\"\\033[1mAttention weights shape:\\033[0m\", attention_weights.shape)  # Should match (batch_size, seq_len_q, seq_len_kv)\n",
    "\n",
    "# Print the tensors (optional)\n",
    "print(\"\\n\\033[1mAttention Weights:\\033[0m\\n\", attention_weights)\n",
    "print(\"\\n\\033[1mOutput:\\033[0m\\n\", output)\n"
   ]
  },
  {
   "cell_type": "markdown",
   "id": "c81a9771",
   "metadata": {},
   "source": [
    "Now, let's generalize the previous function to include an optional mask that will allow us to implement masked self-attention.\n",
    "\n",
    "Mathematicaly:\n",
    "\n",
    "$$\n",
    "\\text { Attention }(Q, K, V)=\\operatorname{softmax}\\left(\\frac{Q K^{T}}{\\sqrt{d_{k}}}+{M}\\right) V\\tag{4}\\\n",
    "$$\n",
    "\n",
    "* $Q$ is the matrix of queries \n",
    "* $K$ is the matrix of keys\n",
    "* $V$ is the matrix of values\n",
    "* $M$ is the optional mask you choose to apply \n",
    "* ${d_k}$ is the dimension of the keys, which is used to scale everything down so the softmax doesn't explode.\n"
   ]
  },
  {
   "cell_type": "markdown",
   "id": "4df77c5c",
   "metadata": {},
   "source": [
    "<img src=\"images/math_scdt_mask.png\"/>"
   ]
  },
  {
   "cell_type": "code",
   "execution_count": 24,
   "id": "5fe40ee4",
   "metadata": {},
   "outputs": [],
   "source": [
    "def scaled_dot_product_attention(q, k, v, mask):\n",
    "    \"\"\"\n",
    "    Calculate the attention weights.\n",
    "      q, k, v must have matching leading dimensions.\n",
    "      k, v must have matching penultimate dimension, i.e.: seq_len_k = seq_len_v.\n",
    "      The mask has different shapes depending on its type(padding or look ahead) \n",
    "      but it must be broadcastable for addition.\n",
    "\n",
    "    Arguments:\n",
    "        q -- query shape == (..., seq_len_q, depth)\n",
    "        k -- key shape == (..., seq_len_k, depth)\n",
    "        v -- value shape == (..., seq_len_v, depth_v)\n",
    "        mask: Float tensor with shape broadcastable \n",
    "              to (..., seq_len_q, seq_len_k). Defaults to None.\n",
    "\n",
    "    Returns:\n",
    "        output -- attention_weights\n",
    "    \"\"\"\n",
    "    \n",
    "    # Q*K'\n",
    "    matmul_qk = tf.matmul(q, k, transpose_b=True)\n",
    "\n",
    "    # scale matmul_qk\n",
    "    dk = tf.cast(tf.shape(k)[-1], tf.float32)\n",
    "    scaled_attention_logits = matmul_qk / tf.math.sqrt(dk)\n",
    "\n",
    "    # add the mask to the scaled tensor.\n",
    "    if mask is not None:\n",
    "        scaled_attention_logits += (mask * -1e9)\n",
    "\n",
    "    # softmax is normalized on the last axis (seq_len_k) so that the scores\n",
    "    # add up to 1.\n",
    "    attention_weights = tf.nn.softmax(scaled_attention_logits, axis=-1)  # (..., seq_len_q, seq_len_k)\n",
    "    # attention_weights * V\n",
    "    output = tf.matmul(attention_weights, v)   # (..., seq_len_q, depth_v)\n",
    "\n",
    "    return output, attention_weights"
   ]
  },
  {
   "cell_type": "code",
   "execution_count": 25,
   "id": "c85e37a7",
   "metadata": {},
   "outputs": [
    {
     "name": "stdout",
     "output_type": "stream",
     "text": [
      "\u001b[1mQuery shape:\u001b[0m (2, 3, 5)\n",
      "\u001b[1mKey shape:\u001b[0m (2, 4, 5)\n",
      "\u001b[1mValue shape:\u001b[0m (2, 4, 6)\n",
      "\u001b[1mMask shape:\u001b[0m (2, 1, 1, 4)\n",
      "\u001b[1mOutput shape:\u001b[0m (2, 2, 3, 6)\n",
      "\u001b[1mAttention weights shape:\u001b[0m (2, 2, 3, 4)\n",
      "\n",
      "\u001b[1mAttention Weights:\u001b[0m\n",
      " tf.Tensor(\n",
      "[[[[0.314 0.457 0.229 0.   ]\n",
      "   [0.329 0.433 0.238 0.   ]\n",
      "   [0.252 0.548 0.2   0.   ]]\n",
      "\n",
      "  [[0.307 0.309 0.384 0.   ]\n",
      "   [0.297 0.306 0.397 0.   ]\n",
      "   [0.335 0.272 0.393 0.   ]]]\n",
      "\n",
      "\n",
      " [[[0.339 0.    0.248 0.413]\n",
      "   [0.332 0.    0.24  0.427]\n",
      "   [0.301 0.    0.239 0.46 ]]\n",
      "\n",
      "  [[0.327 0.    0.408 0.265]\n",
      "   [0.324 0.    0.433 0.242]\n",
      "   [0.349 0.    0.41  0.241]]]], shape=(2, 2, 3, 4), dtype=float32)\n",
      "\n",
      "\u001b[1mOutput:\u001b[0m\n",
      " tf.Tensor(\n",
      "[[[[0.444 0.679 0.782 0.446 0.248 0.502]\n",
      "   [0.461 0.675 0.781 0.454 0.25  0.493]\n",
      "   [0.377 0.698 0.784 0.414 0.24  0.538]]\n",
      "\n",
      "  [[0.273 0.261 0.646 0.733 0.605 0.488]\n",
      "   [0.273 0.265 0.646 0.736 0.612 0.492]\n",
      "   [0.261 0.26  0.668 0.719 0.601 0.51 ]]]\n",
      "\n",
      "\n",
      " [[[0.782 0.568 0.713 0.368 0.426 0.58 ]\n",
      "   [0.782 0.566 0.712 0.362 0.431 0.586]\n",
      "   [0.78  0.568 0.705 0.337 0.441 0.614]]\n",
      "\n",
      "  [[0.338 0.319 0.688 0.503 0.531 0.63 ]\n",
      "   [0.324 0.321 0.697 0.52  0.546 0.638]\n",
      "   [0.323 0.312 0.701 0.512 0.532 0.633]]]], shape=(2, 2, 3, 6), dtype=float32)\n"
     ]
    }
   ],
   "source": [
    "# Example: Query, Key, Value tensors and Mask\n",
    "batch_size = 2  # Number of sequences in the batch\n",
    "seq_len_q = 3   # Length of the query sequence\n",
    "seq_len_kv = 4  # Length of the key and value sequences\n",
    "depth = 5       # Embedding size for query/key\n",
    "depth_v = 6     # Embedding size for value\n",
    "\n",
    "# Generate random tensors for q, k, v\n",
    "q = tf.random.uniform((batch_size, seq_len_q, depth))   # Shape: (2, 3, 5)\n",
    "k = tf.random.uniform((batch_size, seq_len_kv, depth))  # Shape: (2, 4, 5)\n",
    "v = tf.random.uniform((batch_size, seq_len_kv, depth_v))  # Shape: (2, 4, 6)\n",
    "\n",
    "# Generate a mask (e.g., padding mask)\n",
    "mask = tf.constant([[0, 0, 0, 1], [0, 1, 0, 0]], dtype=tf.float32)  # Shape: (2, 4)\n",
    "mask = tf.reshape(mask, (batch_size, 1, 1, seq_len_kv))  # Reshape to broadcast shape\n",
    "\n",
    "# Apply scaled dot-product attention with masking\n",
    "output, attention_weights = scaled_dot_product_attention(q, k, v, mask)\n",
    "\n",
    "# Print shapes and results\n",
    "print(\"\\033[1mQuery shape:\\033[0m\", q.shape)\n",
    "print(\"\\033[1mKey shape:\\033[0m\", k.shape)\n",
    "print(\"\\033[1mValue shape:\\033[0m\", v.shape)\n",
    "print(\"\\033[1mMask shape:\\033[0m\", mask.shape)\n",
    "print(\"\\033[1mOutput shape:\\033[0m\", output.shape)  # Should match (batch_size, seq_len_q, depth_v)\n",
    "print(\"\\033[1mAttention weights shape:\\033[0m\", attention_weights.shape)  # Should match (batch_size, seq_len_q, seq_len_kv)\n",
    "\n",
    "# Print the tensors (optional)\n",
    "print(\"\\n\\033[1mAttention Weights:\\033[0m\\n\", attention_weights)\n",
    "print(\"\\n\\033[1mOutput:\\033[0m\\n\", output)"
   ]
  },
  {
   "cell_type": "markdown",
   "id": "c1f192f3",
   "metadata": {},
   "source": [
    "<a name=\"5.3\"></a>\n",
    "### <font color='orange'> <b> 5.3. Multi-head Attention </b> </font>\n",
    "\n",
    "You can think of as computing the self-attention several times to detect different features."
   ]
  },
  {
   "cell_type": "markdown",
   "id": "d3ed0072",
   "metadata": {},
   "source": [
    "- You need word embeddings for the query, key and value matrices and scale dot-product attention. \n",
    "- In multi-head attention, you apply in parallel the attention mechanism to multiple sets of these matrices that you can get by transforming the original embeddings.\n",
    "- In multi-head attention, the number of times that you apply the attention mechanism is the **number of heads** in the model. \n",
    "    - For instance, you will need two sets of queries, keys, and values, in a model with two heads.The first head would use one set of representations, and the second head would use a different set.\n",
    "- In the transformer model, you get different representations by linearly transforming the original embeddings by using a set of matrices, WQ, WK and WV for each head in the model. Using different sets of representations allow your model to learn multiple relationships between the words from the query and key matrices."
   ]
  },
  {
   "cell_type": "markdown",
   "id": "1f5a421c",
   "metadata": {},
   "source": [
    "It works this way:\n",
    "\n",
    "- The inputs to multi-head attention are the value key and query matrices. \n",
    "- First, you transform each of these matrices into multiple vector spaces. \n",
    "    - The number of transformations for each matrix is equal to the number of heads in the model. \n",
    "- Then, you will apply the scale dot-product attention mechanism to every set of value, key and query transformations. \n",
    "    - The number of sets is equal to the number of heads and the model.\n",
    "- After that, you concatenate the results from each head in the model into a single matrix.\n",
    "- Finally, you transform the resulting matrix to get the output context vectors.\n",
    "\n",
    "Note that every linear transformation in multi-headed attention contains a set of learnable parameters.\n"
   ]
  },
  {
   "cell_type": "markdown",
   "id": "abef90da",
   "metadata": {},
   "source": [
    "<img src=\"images/MultiHead.png\"/>"
   ]
  },
  {
   "cell_type": "markdown",
   "id": "5c3a634b",
   "metadata": {},
   "source": [
    "For the MultiHeadAttention layer, we will use the [tf.keras.layers.MultiHeadAttention](https://www.tensorflow.org/api_docs/python/tf/keras/layers/MultiHeadAttention)."
   ]
  },
  {
   "cell_type": "code",
   "execution_count": 26,
   "id": "474e04d7",
   "metadata": {},
   "outputs": [
    {
     "name": "stdout",
     "output_type": "stream",
     "text": [
      "(3, 5, 5)\n",
      "Attention Output (attn1): (3, 5, 4)\n",
      "Attention Weights (attn_weights): (3, 2, 5, 5)\n"
     ]
    },
    {
     "data": {
      "text/plain": [
       "(<tf.Tensor: shape=(3, 5, 4), dtype=float32, numpy=\n",
       " array([[[-0.11 , -0.003, -0.206,  0.349],\n",
       "         [ 0.007,  0.064, -0.195,  0.46 ],\n",
       "         [ 0.024,  0.068, -0.237,  0.51 ],\n",
       "         [-0.028,  0.052, -0.269,  0.525],\n",
       "         [-0.015,  0.059, -0.263,  0.532]],\n",
       " \n",
       "        [[-0.115,  0.012, -0.315,  0.794],\n",
       "         [-0.042,  0.041, -0.281,  0.511],\n",
       "         [-0.016,  0.069, -0.183,  0.512],\n",
       "         [-0.036,  0.057, -0.236,  0.572],\n",
       "         [-0.08 ,  0.036, -0.274,  0.635]],\n",
       " \n",
       "        [[-0.284, -0.07 , -0.477,  0.555],\n",
       "         [-0.253, -0.044, -0.468,  0.688],\n",
       "         [-0.147,  0.016, -0.323,  0.609],\n",
       "         [-0.098,  0.034, -0.333,  0.618],\n",
       "         [-0.083,  0.055, -0.317,  0.644]]], dtype=float32)>,\n",
       " <tf.Tensor: shape=(3, 2, 5, 5), dtype=float32, numpy=\n",
       " array([[[[1.   , 0.   , 0.   , 0.   , 0.   ],\n",
       "          [0.494, 0.506, 0.   , 0.   , 0.   ],\n",
       "          [0.333, 0.335, 0.332, 0.   , 0.   ],\n",
       "          [0.246, 0.253, 0.255, 0.247, 0.   ],\n",
       "          [0.197, 0.201, 0.201, 0.2  , 0.201]],\n",
       " \n",
       "         [[1.   , 0.   , 0.   , 0.   , 0.   ],\n",
       "          [0.539, 0.461, 0.   , 0.   , 0.   ],\n",
       "          [0.353, 0.312, 0.335, 0.   , 0.   ],\n",
       "          [0.259, 0.234, 0.247, 0.259, 0.   ],\n",
       "          [0.211, 0.184, 0.196, 0.216, 0.193]]],\n",
       " \n",
       " \n",
       "        [[[1.   , 0.   , 0.   , 0.   , 0.   ],\n",
       "          [0.489, 0.511, 0.   , 0.   , 0.   ],\n",
       "          [0.346, 0.327, 0.327, 0.   , 0.   ],\n",
       "          [0.256, 0.24 , 0.247, 0.256, 0.   ],\n",
       "          [0.207, 0.187, 0.19 , 0.208, 0.208]],\n",
       " \n",
       "         [[1.   , 0.   , 0.   , 0.   , 0.   ],\n",
       "          [0.485, 0.515, 0.   , 0.   , 0.   ],\n",
       "          [0.322, 0.366, 0.312, 0.   , 0.   ],\n",
       "          [0.236, 0.29 , 0.224, 0.251, 0.   ],\n",
       "          [0.187, 0.238, 0.178, 0.199, 0.198]]],\n",
       " \n",
       " \n",
       "        [[[1.   , 0.   , 0.   , 0.   , 0.   ],\n",
       "          [0.488, 0.512, 0.   , 0.   , 0.   ],\n",
       "          [0.333, 0.341, 0.326, 0.   , 0.   ],\n",
       "          [0.249, 0.252, 0.252, 0.248, 0.   ],\n",
       "          [0.198, 0.203, 0.194, 0.204, 0.201]],\n",
       " \n",
       "         [[1.   , 0.   , 0.   , 0.   , 0.   ],\n",
       "          [0.54 , 0.46 , 0.   , 0.   , 0.   ],\n",
       "          [0.363, 0.328, 0.309, 0.   , 0.   ],\n",
       "          [0.281, 0.25 , 0.224, 0.245, 0.   ],\n",
       "          [0.236, 0.203, 0.183, 0.195, 0.184]]]], dtype=float32)>)"
      ]
     },
     "execution_count": 26,
     "metadata": {},
     "output_type": "execute_result"
    }
   ],
   "source": [
    "# Define the MultiHeadAttention layer\n",
    "mha = tf.keras.layers.MultiHeadAttention(num_heads=2, key_dim=4)\n",
    "\n",
    "# Create dummy input tensor with shape (batch_size, seq_len, d_model)\n",
    "x = np.random.rand(3, 5, 4).astype(np.float32)  # Batch size = 3, Seq_len = 5, d_model = 4\n",
    "\n",
    "# Create a look-ahead mask (in this example, it is a simple upper-triangular matrix)\n",
    "look_ahead_mask = create_look_ahead_mask(5) # (5,5)\n",
    "\n",
    "# Add batch dimension to the mask\n",
    "look_ahead_mask = look_ahead_mask[tf.newaxis, :, :]  # Shape (1, 5, 5)\n",
    "look_ahead_mask = tf.tile(look_ahead_mask, [3, 1, 1])  # Tile to match the batch size: shape (3, 5, 5)\n",
    "\n",
    "\n",
    "print(look_ahead_mask.shape)\n",
    "\n",
    "# Call the MHA layer\n",
    "attn1, attn_weights = mha(x, x, x, attention_mask=look_ahead_mask, return_attention_scores=True)\n",
    "\n",
    "# Print the results\n",
    "print(\"Attention Output (attn1):\", attn1.shape)  # Should be (3, 5, 4)\n",
    "print(\"Attention Weights (attn_weights):\", attn_weights.shape)  # Should be (3, 2, 5, 5)\n",
    "\n",
    "attn1, attn_weights"
   ]
  },
  {
   "cell_type": "markdown",
   "id": "c9af501b",
   "metadata": {},
   "source": [
    "**Explanation of the Example:**\n",
    "\n",
    "- x\n",
    "    - The input tensor with shape (3, 5, 4) is a batch of 3 sequences, each of length 5 and with a model dimension of 4.\n",
    "\n",
    "- look_ahead_mask: \n",
    "    - A mask is created to prevent looking ahead. The mask is (5, 5) for each sequence and is tiled across the batch dimension, making it (3, 5, 5).\n",
    "\n",
    "- mha(x, x, x, attention_mask=look_ahead_mask, return_attention_scores=True):\n",
    "    - This computes the self-attention for each of the sequences, applies the mask to prevent looking ahead, and returns both the attention output (attn1) and the attention weights (attn_weights_block1).\n",
    "\n",
    "- Output:\n",
    "    - attn1.shape: The output of the attention mechanism after applying the weights will have the shape (batch_size, seq_len, d_model). In this case, (3, 5, 4) because we have 3 sequences, each with 5 tokens, and a model dimension of 4.\n",
    "    - attn_weights_block1.shape: This shows how each token in the sequence attends to every other token. Since we have 2 attention heads, the shape of the attention weights will be (3, 2, 5, 5).\n",
    "\n",
    "\n",
    "**Conclusion:**\n",
    "\n",
    "- The query, key, and value tensors are passed to the MHA layer.\n",
    "- The look_ahead_mask is applied to prevent attending to future tokens in the decoder.\n",
    "- The attention mechanism computes how much each token attends to other tokens, and the results are returned as both the attention output and the attention weights.\n"
   ]
  },
  {
   "cell_type": "markdown",
   "id": "aebd9289",
   "metadata": {},
   "source": [
    "<a name=\"6\"></a>\n",
    "## <font color='red'> <b>  6. Feed Forward Network </b> </font>\n",
    "\n",
    "I will contain 2 Dense layers."
   ]
  },
  {
   "cell_type": "code",
   "execution_count": 27,
   "id": "77c26b33",
   "metadata": {},
   "outputs": [],
   "source": [
    "def FullyConnected(embedding_dim, fully_connected_dim):\n",
    "    return tf.keras.Sequential([\n",
    "        tf.keras.layers.Dense(fully_connected_dim, activation='relu'),  # (batch_size, seq_len, dff)\n",
    "        tf.keras.layers.Dense(embedding_dim)  # (batch_size, seq_len, d_model)\n",
    "    ])"
   ]
  },
  {
   "cell_type": "markdown",
   "id": "77041a87",
   "metadata": {},
   "source": [
    "<a name=\"7\"></a>\n",
    "## <font color='red'> <b>  7. Encoder </b> </font>"
   ]
  },
  {
   "cell_type": "markdown",
   "id": "b061a899",
   "metadata": {},
   "source": [
    "The Transformer Encoder layer pairs self-attention and convolutional neural network style of processing to improve the speed of training and passes K and V matrices to the Decoder, which you'll build later in the assignment. You will implement the Encoder by pairing multi-head attention and a feed forward neural network.\n",
    "\n",
    "\n",
    "<img src=\"images/EncoderLayerV2.png\"/>\n",
    "\n",
    "    \n",
    "Your input sentence first passes through a *multi-head attention layer*, where the encoder looks at other words in the input sentence as it encodes a specific word. The outputs of the multi-head attention layer are then fed to a *feed forward neural network*. The exact same feed forward network is independently applied to each position.\n"
   ]
  },
  {
   "cell_type": "markdown",
   "id": "20305f22",
   "metadata": {},
   "source": [
    "<a name=\"7.1\"></a>\n",
    "### <font color='orange'> <b> 7.1. Encoder Layer </b> </font>\n",
    "\n",
    "Now you can pair multi-head attention and feed forward neural network together in an encoder layer! You will also use residual connections and layer normalization to help speed up training.\n",
    "\n",
    "The function call() should perform the following steps: \n",
    "1. You will pass the Q, V, K matrices and a boolean mask to a multi-head attention layer. Remember that to compute *self*-attention Q, V and K should be the same.\n",
    "2. Next, you will pass the output of the multi-head attention layer to a dropout layer. Don't forget to use the `training` parameter to set the mode of your model. \n",
    "3. Now add a skip connection by adding your original input `x` and the output of the dropout layer. \n",
    "4. After adding the skip connection, pass the output through the first layer normalization.\n",
    "5. Finally, repeat steps 1-4 but with the feed forward neural network instead of the multi-head attention layer.\n"
   ]
  },
  {
   "cell_type": "code",
   "execution_count": 28,
   "id": "3581794b",
   "metadata": {},
   "outputs": [],
   "source": [
    "class EncoderLayer(tf.keras.layers.Layer):\n",
    "    \"\"\"\n",
    "    The encoder layer is composed by a multi-head self-attention mechanism,\n",
    "    followed by a simple, positionwise fully connected feed-forward network. \n",
    "    This archirecture includes a residual connection around each of the two \n",
    "    sub-layers, followed by layer normalization.\n",
    "    \"\"\"\n",
    "    def __init__(self, embedding_dim, num_heads, fully_connected_dim, dropout_rate=0.1, layernorm_eps=1e-6):\n",
    "        super(EncoderLayer, self).__init__()\n",
    "\n",
    "        self.mha = MultiHeadAttention(num_heads=num_heads,\n",
    "                                      key_dim=embedding_dim)\n",
    "\n",
    "        self.ffn = FullyConnected(embedding_dim=embedding_dim,\n",
    "                                  fully_connected_dim=fully_connected_dim)\n",
    "\n",
    "        self.layernorm1 = LayerNormalization(epsilon=layernorm_eps)\n",
    "        self.layernorm2 = LayerNormalization(epsilon=layernorm_eps)\n",
    "\n",
    "        self.dropout1 = Dropout(dropout_rate)\n",
    "        self.dropout2 = Dropout(dropout_rate)\n",
    "    \n",
    "    def call(self, x, training, mask):\n",
    "        \"\"\"\n",
    "        Forward pass for the Encoder Layer\n",
    "        \n",
    "        Arguments:\n",
    "            x -- Tensor of shape (batch_size, input_seq_len, embedding_dim)\n",
    "            training -- Boolean, set to true to activate\n",
    "                        the training mode for dropout layers\n",
    "            mask -- Boolean mask to ensure that the padding is not \n",
    "                    treated as part of the input\n",
    "        Returns:\n",
    "            out2 -- Tensor of shape (batch_size, input_seq_len, embedding_dim)\n",
    "        \"\"\"\n",
    "        # calculate self-attention using mha\n",
    "        #-> To compute self-attention Q, V and K should be the same (x)\n",
    "        self_attn_output = self.mha(x, x, x, mask) # Self attention (batch_size, input_seq_len, embedding_dim)\n",
    "        \n",
    "        # apply dropout layer to the self-attention output\n",
    "        self_attn_output = self.dropout1(self_attn_output, training=training)\n",
    "        \n",
    "        # apply layer normalization on sum of the input and the attention output to get the  \n",
    "        # output of the multi-head attention layer\n",
    "        mult_attn_out = self.layernorm1(x + self_attn_output)  # (batch_size, input_seq_len, embedding_dim)\n",
    "\n",
    "        # pass the output of the multi-head attention layer through a ffn\n",
    "        ffn_output = self.ffn(mult_attn_out)  # (batch_size, input_seq_len, embedding_dim)\n",
    "        \n",
    "        # apply dropout layer to ffn output\n",
    "        ffn_output = self.dropout2(ffn_output, training=training)\n",
    "        \n",
    "        # apply layer normalization on sum of the output from multi-head attention and ffn output to get the\n",
    "        # output of the encoder layer\n",
    "        encoder_layer_out = self.layernorm2(ffn_output + mult_attn_out)  # (batch_size, input_seq_len, embedding_dim)\n",
    "        \n",
    "        return encoder_layer_out"
   ]
  },
  {
   "cell_type": "markdown",
   "id": "d4ea4f9d",
   "metadata": {},
   "source": [
    "Let's try this class."
   ]
  },
  {
   "cell_type": "code",
   "execution_count": 29,
   "id": "3a745953",
   "metadata": {},
   "outputs": [
    {
     "name": "stdout",
     "output_type": "stream",
     "text": [
      "\u001b[1;90m\u001b[1mOriginal Input\u001b[0m\n",
      "['This is a test sentence.', \"Another example sentence for testing. It's just a simple sentence\", 'The model should process text correctly.']\n",
      "\n",
      "\n",
      "\u001b[1;90m\u001b[1mTokenized Input\u001b[0m\n",
      "[[4, 5, 3, 6, 2], [7, 8, 2, 9, 10, 11, 12, 3, 13, 2], [14, 15, 16, 17, 18, 19]]\n",
      "\n",
      "\n",
      "\u001b[1;90m\u001b[1mPadded Sequences\u001b[0m\n",
      "[[ 4  5  3  6  2  0  0  0  0  0  0  0  0  0  0  0  0  0  0  0  0  0  0  0\n",
      "   0  0  0  0  0  0  0  0  0  0  0  0  0  0  0  0  0  0  0  0  0  0  0  0\n",
      "   0  0]\n",
      " [ 7  8  2  9 10 11 12  3 13  2  0  0  0  0  0  0  0  0  0  0  0  0  0  0\n",
      "   0  0  0  0  0  0  0  0  0  0  0  0  0  0  0  0  0  0  0  0  0  0  0  0\n",
      "   0  0]\n",
      " [14 15 16 17 18 19  0  0  0  0  0  0  0  0  0  0  0  0  0  0  0  0  0  0\n",
      "   0  0  0  0  0  0  0  0  0  0  0  0  0  0  0  0  0  0  0  0  0  0  0  0\n",
      "   0  0]]\n",
      "\n",
      "\n",
      "\u001b[1;90m\u001b[1mInput Tensor\u001b[0m\n",
      "tf.Tensor(\n",
      "[[ 4.  5.  3.  6.  2.  0.  0.  0.  0.  0.  0.  0.  0.  0.  0.  0.  0.  0.\n",
      "   0.  0.  0.  0.  0.  0.  0.  0.  0.  0.  0.  0.  0.  0.  0.  0.  0.  0.\n",
      "   0.  0.  0.  0.  0.  0.  0.  0.  0.  0.  0.  0.  0.  0.]\n",
      " [ 7.  8.  2.  9. 10. 11. 12.  3. 13.  2.  0.  0.  0.  0.  0.  0.  0.  0.\n",
      "   0.  0.  0.  0.  0.  0.  0.  0.  0.  0.  0.  0.  0.  0.  0.  0.  0.  0.\n",
      "   0.  0.  0.  0.  0.  0.  0.  0.  0.  0.  0.  0.  0.  0.]\n",
      " [14. 15. 16. 17. 18. 19.  0.  0.  0.  0.  0.  0.  0.  0.  0.  0.  0.  0.\n",
      "   0.  0.  0.  0.  0.  0.  0.  0.  0.  0.  0.  0.  0.  0.  0.  0.  0.  0.\n",
      "   0.  0.  0.  0.  0.  0.  0.  0.  0.  0.  0.  0.  0.  0.]], shape=(3, 50), dtype=float32)\n",
      " Shape: (3, 50)\n",
      "\n",
      "\n",
      "\u001b[1m Embedded input \u001b[0m\n",
      "tf.Tensor(\n",
      "[[[-3.651e-02 -3.662e-02  2.339e-02 ...  2.637e-02  4.827e-02  5.742e-03]\n",
      "  [-3.822e-02 -3.534e-03  3.663e-02 ...  6.075e-03 -1.228e-02  1.634e-02]\n",
      "  [ 4.040e-02 -1.030e-02 -4.029e-02 ... -4.519e-02 -4.894e-03  4.192e-02]\n",
      "  ...\n",
      "  [ 5.015e-03  2.830e-02  6.788e-04 ... -3.724e-02  2.105e-02 -1.181e-02]\n",
      "  [ 5.015e-03  2.830e-02  6.788e-04 ... -3.724e-02  2.105e-02 -1.181e-02]\n",
      "  [ 5.015e-03  2.830e-02  6.788e-04 ... -3.724e-02  2.105e-02 -1.181e-02]]\n",
      "\n",
      " [[ 5.409e-03 -9.045e-03 -2.808e-02 ... -2.107e-02 -2.939e-02  2.404e-02]\n",
      "  [-3.278e-02 -4.092e-02 -4.832e-02 ...  2.716e-02 -2.853e-02 -3.673e-02]\n",
      "  [-3.384e-02  1.383e-02 -2.426e-05 ... -4.105e-02 -2.196e-02 -2.025e-02]\n",
      "  ...\n",
      "  [ 5.015e-03  2.830e-02  6.788e-04 ... -3.724e-02  2.105e-02 -1.181e-02]\n",
      "  [ 5.015e-03  2.830e-02  6.788e-04 ... -3.724e-02  2.105e-02 -1.181e-02]\n",
      "  [ 5.015e-03  2.830e-02  6.788e-04 ... -3.724e-02  2.105e-02 -1.181e-02]]\n",
      "\n",
      " [[ 1.569e-02 -4.494e-03  3.124e-02 ... -6.345e-03  2.890e-02  1.255e-04]\n",
      "  [-4.593e-02 -4.393e-02  4.694e-02 ... -2.376e-02  2.097e-02  1.641e-03]\n",
      "  [-3.152e-02 -2.553e-02  4.184e-02 ... -4.851e-02  1.866e-02  2.033e-02]\n",
      "  ...\n",
      "  [ 5.015e-03  2.830e-02  6.788e-04 ... -3.724e-02  2.105e-02 -1.181e-02]\n",
      "  [ 5.015e-03  2.830e-02  6.788e-04 ... -3.724e-02  2.105e-02 -1.181e-02]\n",
      "  [ 5.015e-03  2.830e-02  6.788e-04 ... -3.724e-02  2.105e-02 -1.181e-02]]], shape=(3, 50, 128), dtype=float32)\n",
      "\n",
      "\n",
      "\u001b[1m Positional Encoding \u001b[0m\n",
      "tf.Tensor(\n",
      "[[[ 0.000e+00  1.000e+00  0.000e+00 ...  1.000e+00  0.000e+00  1.000e+00]\n",
      "  [ 8.415e-01  5.403e-01  7.617e-01 ...  1.000e+00  1.155e-04  1.000e+00]\n",
      "  [ 9.093e-01 -4.161e-01  9.870e-01 ...  1.000e+00  2.310e-04  1.000e+00]\n",
      "  ...\n",
      "  [ 1.236e-01 -9.923e-01  1.399e-01 ...  1.000e+00  5.427e-03  1.000e+00]\n",
      "  [-7.683e-01 -6.401e-01 -6.636e-01 ...  1.000e+00  5.543e-03  1.000e+00]\n",
      "  [-9.538e-01  3.006e-01 -9.998e-01 ...  1.000e+00  5.658e-03  1.000e+00]]], shape=(1, 50, 128), dtype=float32)\n",
      "\n",
      "\n",
      "\u001b[1;90m\u001b[1mEmbedded Input with Positional Encoding\u001b[0m\n",
      "tf.Tensor(\n",
      "[[[-0.037  0.963  0.023 ...  1.026  0.048  1.006]\n",
      "  [ 0.803  0.537  0.798 ...  1.006 -0.012  1.016]\n",
      "  [ 0.95  -0.426  0.947 ...  0.955 -0.005  1.042]\n",
      "  ...\n",
      "  [ 0.129 -0.964  0.141 ...  0.963  0.026  0.988]\n",
      "  [-0.763 -0.612 -0.663 ...  0.963  0.027  0.988]\n",
      "  [-0.949  0.329 -0.999 ...  0.963  0.027  0.988]]\n",
      "\n",
      " [[ 0.005  0.991 -0.028 ...  0.979 -0.029  1.024]\n",
      "  [ 0.809  0.499  0.713 ...  1.027 -0.028  0.963]\n",
      "  [ 0.875 -0.402  0.987 ...  0.959 -0.022  0.98 ]\n",
      "  ...\n",
      "  [ 0.129 -0.964  0.141 ...  0.963  0.026  0.988]\n",
      "  [-0.763 -0.612 -0.663 ...  0.963  0.027  0.988]\n",
      "  [-0.949  0.329 -0.999 ...  0.963  0.027  0.988]]\n",
      "\n",
      " [[ 0.016  0.996  0.031 ...  0.994  0.029  1.   ]\n",
      "  [ 0.796  0.496  0.809 ...  0.976  0.021  1.002]\n",
      "  [ 0.878 -0.442  1.029 ...  0.951  0.019  1.02 ]\n",
      "  ...\n",
      "  [ 0.129 -0.964  0.141 ...  0.963  0.026  0.988]\n",
      "  [-0.763 -0.612 -0.663 ...  0.963  0.027  0.988]\n",
      "  [-0.949  0.329 -0.999 ...  0.963  0.027  0.988]]], shape=(3, 50, 128), dtype=float32)\n",
      "\n",
      "\n",
      "\u001b[1;90m\u001b[1mMask\u001b[0m\n",
      "tf.Tensor(\n",
      "[[[[0. 0. 0. 0. 0. 1. 1. 1. 1. 1. 1. 1. 1. 1. 1. 1. 1. 1. 1. 1. 1. 1.\n",
      "    1. 1. 1. 1. 1. 1. 1. 1. 1. 1. 1. 1. 1. 1. 1. 1. 1. 1. 1. 1. 1. 1.\n",
      "    1. 1. 1. 1. 1. 1.]]]\n",
      "\n",
      "\n",
      " [[[0. 0. 0. 0. 0. 0. 0. 0. 0. 0. 1. 1. 1. 1. 1. 1. 1. 1. 1. 1. 1. 1.\n",
      "    1. 1. 1. 1. 1. 1. 1. 1. 1. 1. 1. 1. 1. 1. 1. 1. 1. 1. 1. 1. 1. 1.\n",
      "    1. 1. 1. 1. 1. 1.]]]\n",
      "\n",
      "\n",
      " [[[0. 0. 0. 0. 0. 0. 1. 1. 1. 1. 1. 1. 1. 1. 1. 1. 1. 1. 1. 1. 1. 1.\n",
      "    1. 1. 1. 1. 1. 1. 1. 1. 1. 1. 1. 1. 1. 1. 1. 1. 1. 1. 1. 1. 1. 1.\n",
      "    1. 1. 1. 1. 1. 1.]]]], shape=(3, 1, 1, 50), dtype=float32)\n",
      "\n",
      "\n",
      "\u001b[1;90m\u001b[1mOutput of the Encoder Layer\u001b[0m\n",
      "tf.Tensor(\n",
      "[[[-0.91   0.152 -0.658 ...  0.956  0.088  1.368]\n",
      "  [ 0.341 -0.582  0.513 ...  1.166 -0.104  1.323]\n",
      "  [ 0.274 -1.657  0.489 ...  1.097 -0.092  1.206]\n",
      "  ...\n",
      "  [ 0.261 -1.806  0.143 ...  0.877  0.296  1.221]\n",
      "  [-1.12  -1.471 -0.949 ...  0.698 -0.304  1.291]\n",
      "  [-1.57   0.233 -1.151 ...  0.546  0.263  1.1  ]]\n",
      "\n",
      " [[-0.888  0.223 -0.938 ...  0.961 -0.047  1.47 ]\n",
      "  [ 0.396 -0.606  0.137 ...  1.237 -0.135  1.152]\n",
      "  [ 0.055 -2.323  0.468 ...  1.076 -0.173  1.018]\n",
      "  ...\n",
      "  [ 0.258 -1.768  0.025 ...  0.906  0.276  1.282]\n",
      "  [-1.164 -1.33  -1.009 ...  0.681  0.378  1.264]\n",
      "  [-1.533  0.244 -1.348 ...  0.546  0.263  1.155]]\n",
      "\n",
      " [[-0.794  0.192 -0.66  ...  0.904  0.098  0.914]\n",
      "  [ 0.305 -0.702  0.35  ...  1.243  0.059  1.24 ]\n",
      "  [ 0.171 -2.429  0.602 ...  1.067 -0.112  1.041]\n",
      "  ...\n",
      "  [ 0.238 -1.83  -0.013 ...  0.866  0.261  1.235]\n",
      "  [-1.133 -1.298 -0.983 ...  0.68   0.392  1.272]\n",
      "  [-1.532  0.196 -1.297 ...  0.564  0.43   1.138]]], shape=(3, 50, 128), dtype=float32)\n",
      "\n",
      "\n"
     ]
    }
   ],
   "source": [
    "from tensorflow.keras.layers import Embedding\n",
    "from tensorflow.keras.preprocessing.text import Tokenizer\n",
    "from tensorflow.keras.utils import pad_sequences\n",
    "\n",
    "# Define parameters for the Encoder Layer\n",
    "embedding_dim = 128\n",
    "num_heads = 8\n",
    "fully_connected_dim = 512\n",
    "dropout_rate = 0.1\n",
    "layernorm_eps = 1e-6\n",
    "input_vocab_size = 1000  # Define a vocabulary size for the tokenizer\n",
    "\n",
    "\n",
    "\n",
    "# Example text data\n",
    "text_data = [\n",
    "    \"This is a test sentence.\",\n",
    "    \"Another example sentence for testing. It's just a simple sentence\",\n",
    "    \"The model should process text correctly.\"\n",
    "]\n",
    "\n",
    "print(f\"\\033[1;90m\\033[1mOriginal Input\\033[0m\")\n",
    "print(text_data)\n",
    "print(\"\\n\")\n",
    "\n",
    "# Tokenizer setup\n",
    "tokenizer = Tokenizer(num_words=input_vocab_size, oov_token=\"<OOV>\")\n",
    "tokenizer.fit_on_texts(text_data)\n",
    "\n",
    "# Convert text to sequences\n",
    "sequences = tokenizer.texts_to_sequences(text_data)\n",
    "\n",
    "print(f\"\\033[1;90m\\033[1mTokenized Input\\033[0m\")\n",
    "print(sequences)\n",
    "print(\"\\n\")\n",
    "\n",
    "# Pad sequences to ensure consistent length\n",
    "max_length = 50  # Matches input_seq_len for the model\n",
    "padded_sequences = pad_sequences(sequences, maxlen=max_length, padding='post', truncating='post')\n",
    "\n",
    "print(f\"\\033[1;90m\\033[1mPadded Sequences\\033[0m\")\n",
    "print(padded_sequences)\n",
    "print(\"\\n\")\n",
    "\n",
    "# Convert to Tensor\n",
    "input_tensor = tf.convert_to_tensor(padded_sequences, dtype=tf.float32)\n",
    "\n",
    "print(f\"\\033[1;90m\\033[1mInput Tensor\\033[0m\")\n",
    "print(input_tensor)\n",
    "print(f\" Shape: {input_tensor.shape}\")  # 3x50; 3 sentences with max_length 50\n",
    "print(\"\\n\")\n",
    "\n",
    "# Create an Embedding layer to convert tokens to dense vectors\n",
    "embedding_layer = Embedding(input_dim=input_vocab_size, output_dim=embedding_dim)\n",
    "\n",
    "# Embed the input sequences\n",
    "embedded_input = embedding_layer(input_tensor)  # Shape: (batch_size, max_length, embedding_dim)\n",
    "        # Example: (3, 50, 128) for 3 sentences in a batch, each with a maximum length of 50, \n",
    "        # and an embedding dimension of 128. \n",
    "\n",
    "\n",
    "print(f\"\\033[1m Embedded input \\033[0m\")\n",
    "print(embedded_input)\n",
    "print(\"\\n\")\n",
    "\n",
    "# Add positional encoding\n",
    "positions = max_length\n",
    "pos_encoding = positional_encoding(positions, embedding_dim)\n",
    "\n",
    "print(f\"\\033[1m Positional Encoding \\033[0m\")\n",
    "print(pos_encoding) # shape: (1, max_length, embedding_dim)\n",
    "print(\"\\n\")\n",
    "\n",
    "\n",
    "#\n",
    "embedded_with_positional_encoding = embedded_input + pos_encoding\n",
    "\n",
    "print(f\"\\033[1;90m\\033[1mEmbedded Input with Positional Encoding\\033[0m\")\n",
    "print(embedded_with_positional_encoding)\n",
    "print(\"\\n\")\n",
    "\n",
    "# Create a padding mask for the input\n",
    "mask = create_padding_mask(input_tensor)\n",
    "#mask = tf.cast(tf.not_equal(input_tensor, 0), tf.float32)[:, tf.newaxis, tf.newaxis, :]\n",
    "\n",
    "\n",
    "print(f\"\\033[1;90m\\033[1mMask\\033[0m\")\n",
    "print(mask)\n",
    "print(\"\\n\")\n",
    "\n",
    "# Instantiate the EncoderLayer\n",
    "encoder_layer = EncoderLayer(\n",
    "    embedding_dim=embedding_dim,\n",
    "    num_heads=num_heads,\n",
    "    fully_connected_dim=fully_connected_dim,\n",
    "    dropout_rate=dropout_rate,\n",
    "    layernorm_eps=layernorm_eps\n",
    ")\n",
    "\n",
    "# Test the EncoderLayer\n",
    "output = encoder_layer(embedded_with_positional_encoding, training=True, mask=mask)\n",
    "\n",
    "# Print the output\n",
    "print(f\"\\033[1;90m\\033[1mOutput of the Encoder Layer\\033[0m\")\n",
    "print(output)\n",
    "print(\"\\n\")\n"
   ]
  },
  {
   "cell_type": "markdown",
   "id": "91a74950",
   "metadata": {},
   "source": [
    "<a name=\"7.2\"></a>\n",
    "### <font color='orange'> <b> 7.2. Full Encoder </b> </font>"
   ]
  },
  {
   "cell_type": "markdown",
   "id": "7c1c6ada",
   "metadata": {},
   "source": [
    "Now you're ready to build the full Transformer Encoder, where you will embedd your input and add the positional encodings you calculated. You will then feed your encoded embeddings to a stack of Encoder layers. \n",
    "\n",
    "<img src=\"images/FullEncoder.png\" alt=\"Encoder\" width=\"750\"/>\n",
    "\n",
    "\n",
    "\n",
    "\n",
    "You will initialize your Encoder with an Embedding layer, positional encoding, and multiple EncoderLayers. Your `call()` method will perform the following steps: \n",
    "1. Pass your input through the Embedding layer.\n",
    "2. Scale your embedding by multiplying it by the square root of your embedding dimension. Remember to cast the embedding dimension to data type `tf.float32` before computing the square root.\n",
    "3. Add the position encoding: self.pos_encoding `[:, :seq_len, :]` to your embedding.\n",
    "4. Pass the encoded embedding through a dropout layer, remembering to use the `training` parameter to set the model training mode. \n",
    "5. Pass the output of the dropout layer through the stack of encoding layers using a for loop."
   ]
  },
  {
   "cell_type": "markdown",
   "id": "2bd6f368",
   "metadata": {},
   "source": [
    "<img src=\"images/encoder.png\"/>"
   ]
  },
  {
   "cell_type": "code",
   "execution_count": 30,
   "id": "4d59b3ae",
   "metadata": {},
   "outputs": [],
   "source": [
    "class Encoder(tf.keras.layers.Layer):\n",
    "    \"\"\"\n",
    "    The entire Encoder starts by passing the input to an embedding layer \n",
    "    and using positional encoding to then pass the output through a stack of\n",
    "    encoder Layers\n",
    "        \n",
    "    \"\"\"   \n",
    "    def __init__(self, num_layers, embedding_dim, num_heads, fully_connected_dim, input_vocab_size,\n",
    "               maximum_position_encoding, dropout_rate=0.1, layernorm_eps=1e-6):\n",
    "        super(Encoder, self).__init__()\n",
    "\n",
    "        self.embedding_dim = embedding_dim\n",
    "        self.num_layers = num_layers\n",
    "\n",
    "        self.embedding = Embedding(input_vocab_size, self.embedding_dim)\n",
    "        self.pos_encoding = positional_encoding(maximum_position_encoding, \n",
    "                                                self.embedding_dim)\n",
    "\n",
    "\n",
    "        self.enc_layers = [EncoderLayer(embedding_dim=self.embedding_dim,\n",
    "                                        num_heads=num_heads,\n",
    "                                        fully_connected_dim=fully_connected_dim,\n",
    "                                        dropout_rate=dropout_rate,\n",
    "                                        layernorm_eps=layernorm_eps) \n",
    "                           for _ in range(self.num_layers)]\n",
    "\n",
    "        self.dropout = Dropout(dropout_rate)\n",
    "        \n",
    "    def call(self, x, training, mask):\n",
    "        \"\"\"\n",
    "        Forward pass for the Encoder\n",
    "        \n",
    "        Arguments:\n",
    "            x -- Tensor of shape (batch_size, input_seq_len)\n",
    "            training -- Boolean, set to true to activate\n",
    "                        the training mode for dropout layers\n",
    "            mask -- Boolean mask to ensure that the padding is not \n",
    "                    treated as part of the input\n",
    "        Returns:\n",
    "            out2 -- Tensor of shape (batch_size, input_seq_len, embedding_dim)\n",
    "        \"\"\"\n",
    "\n",
    "        seq_len = tf.shape(x)[1]\n",
    "        \n",
    "\n",
    "        # Pass input through the Embedding layer\n",
    "        x = self.embedding(x)  # (batch_size, input_seq_len, embedding_dim)\n",
    "        # Scale embedding by multiplying it by the square root of the embedding dimension\n",
    "        x *= tf.math.sqrt(tf.cast(self.embedding_dim,tf.float32))\n",
    "        # Add the position encoding to embedding\n",
    "        x += self.pos_encoding[:, :seq_len, :]\n",
    "        # Pass the encoded embedding through a dropout layer\n",
    "        x = self.dropout(x, training=training)\n",
    "        # Pass the output through the stack of encoding layers \n",
    "        for i in range(self.num_layers):\n",
    "            x = self.enc_layers[i](x,training, mask)\n",
    "\n",
    "\n",
    "        return x  # (batch_size, input_seq_len, embedding_dim)"
   ]
  },
  {
   "cell_type": "markdown",
   "id": "cc409a6b",
   "metadata": {},
   "source": [
    "Let's try."
   ]
  },
  {
   "cell_type": "code",
   "execution_count": 31,
   "id": "3d523abe",
   "metadata": {},
   "outputs": [
    {
     "name": "stdout",
     "output_type": "stream",
     "text": [
      "\u001b[1m Input tensor:\u001b[0m\n",
      "tf.Tensor(\n",
      "[[ 3  4  5  6  2  0  0  0  0  0  0  0  0  0  0  0  0  0  0  0  0  0  0  0\n",
      "   0  0  0  0  0  0  0  0  0  0  0  0  0  0  0  0  0  0  0  0  0  0  0  0\n",
      "   0  0]\n",
      " [ 7  8  2  9 10  0  0  0  0  0  0  0  0  0  0  0  0  0  0  0  0  0  0  0\n",
      "   0  0  0  0  0  0  0  0  0  0  0  0  0  0  0  0  0  0  0  0  0  0  0  0\n",
      "   0  0]\n",
      " [11 12 13 14 15 16  0  0  0  0  0  0  0  0  0  0  0  0  0  0  0  0  0  0\n",
      "   0  0  0  0  0  0  0  0  0  0  0  0  0  0  0  0  0  0  0  0  0  0  0  0\n",
      "   0  0]], shape=(3, 50), dtype=int32)\n",
      "\n",
      "\n",
      "\u001b[1mEncoder Output:\u001b[0m (3, 50, 128)\n",
      "tf.Tensor(\n",
      "[[[ 6.222e-02  8.392e-01  3.714e-01 ...  2.900e+00 -5.785e-01  1.452e+00]\n",
      "  [ 8.274e-01  3.232e-01  3.000e+00 ...  2.425e+00 -1.398e-01 -1.206e+00]\n",
      "  [ 2.261e+00  6.924e-02  1.419e+00 ...  1.822e+00 -9.670e-01 -9.161e-01]\n",
      "  ...\n",
      "  [ 4.066e-01 -1.257e+00  7.381e-01 ...  1.372e+00  9.401e-01 -3.576e-01]\n",
      "  [ 8.756e-01 -2.218e+00  2.820e-02 ...  4.745e-01  1.643e+00 -2.017e-01]\n",
      "  [-8.921e-01 -6.914e-01 -1.169e+00 ...  1.691e+00  1.462e+00  1.136e-01]]\n",
      "\n",
      " [[ 1.634e+00  1.064e+00  3.224e-01 ...  2.484e+00 -3.431e-01  8.705e-01]\n",
      "  [ 1.967e+00  3.436e-01  3.463e-01 ...  1.938e+00 -7.841e-01  1.388e+00]\n",
      "  [ 1.244e+00 -6.123e-01  1.481e+00 ...  1.649e+00  9.671e-02  5.757e-01]\n",
      "  ...\n",
      "  [ 1.730e+00 -1.265e+00 -5.425e-01 ...  5.281e-01  1.355e+00 -9.276e-01]\n",
      "  [ 2.793e-01 -1.219e+00  4.292e-01 ...  4.288e-01  1.228e+00 -3.345e-01]\n",
      "  [-3.549e-01 -5.565e-01 -1.562e+00 ...  1.027e+00  1.034e+00 -2.084e-01]]\n",
      "\n",
      " [[ 6.646e-01  2.823e-01  7.134e-01 ...  5.243e-01 -2.924e-02  8.468e-01]\n",
      "  [ 2.102e+00  1.918e-01  1.645e+00 ...  2.844e+00 -5.252e-01 -2.352e-01]\n",
      "  [ 1.323e+00 -1.639e+00 -1.454e-01 ...  2.494e+00 -5.064e-01  1.093e+00]\n",
      "  ...\n",
      "  [ 1.592e+00 -2.282e+00  5.746e-01 ...  2.386e+00  1.835e+00 -4.179e-01]\n",
      "  [ 4.344e-01 -1.371e+00 -1.899e-01 ...  1.610e+00  1.213e+00  2.264e-01]\n",
      "  [-5.385e-01 -2.880e-04  4.423e-01 ...  1.920e+00  9.340e-01 -1.025e+00]]], shape=(3, 50, 128), dtype=float32)\n"
     ]
    }
   ],
   "source": [
    "# Sample text data\n",
    "text_data = [\n",
    "    \"This is a test sentence.\",\n",
    "    \"Another example sentence for testing.\",\n",
    "    \"The model should process text correctly.\"\n",
    "]\n",
    "\n",
    "# Hyperparameters\n",
    "num_layers = 4\n",
    "embedding_dim = 128\n",
    "num_heads = 8\n",
    "fully_connected_dim = 512\n",
    "input_vocab_size = 1000\n",
    "maximum_position_encoding = 50\n",
    "dropout_rate = 0.1\n",
    "layernorm_eps = 1e-6\n",
    "max_length = 50  # Matches maximum_position_encoding\n",
    "\n",
    "# Tokenizer setup\n",
    "tokenizer = Tokenizer(num_words=input_vocab_size, oov_token=\"<OOV>\")\n",
    "tokenizer.fit_on_texts(text_data)\n",
    "\n",
    "# Convert text to sequences\n",
    "sequences = tokenizer.texts_to_sequences(text_data)\n",
    "\n",
    "# Pad sequences to ensure consistent length\n",
    "padded_sequences = pad_sequences(sequences, maxlen=max_length, padding='post', truncating='post')\n",
    "\n",
    "\n",
    "# Convert padded sequences to tensor\n",
    "input_tensor = tf.convert_to_tensor(padded_sequences)\n",
    "\n",
    "print(\"\\033[1m Input tensor:\\033[0m\")\n",
    "print(input_tensor)\n",
    "print(\"\\n\")\n",
    "\n",
    "# Padding mask\n",
    "mask = create_padding_mask(input_tensor)\n",
    "\n",
    "\n",
    "# Instantiate the Encoder\n",
    "encoder = Encoder(\n",
    "    num_layers=num_layers,\n",
    "    embedding_dim=embedding_dim,\n",
    "    num_heads=num_heads,\n",
    "    fully_connected_dim=fully_connected_dim,\n",
    "    input_vocab_size=input_vocab_size,\n",
    "    maximum_position_encoding=maximum_position_encoding,\n",
    "    dropout_rate=dropout_rate,\n",
    "    layernorm_eps=layernorm_eps\n",
    ")\n",
    "\n",
    "# Forward pass\n",
    "encoder_output = encoder(input_tensor, training=True, mask=mask)\n",
    "\n",
    "# Display the output\n",
    "print(\"\\033[1mEncoder Output:\\033[0m\", encoder_output.shape)\n",
    "print(encoder_output)\n"
   ]
  },
  {
   "cell_type": "markdown",
   "id": "10296e93",
   "metadata": {},
   "source": [
    "<a name=\"8\"></a>\n",
    "## <font color='red'> <b>  8. Decoder </b> </font>"
   ]
  },
  {
   "cell_type": "markdown",
   "id": "6cee3068",
   "metadata": {},
   "source": [
    "The Decoder layer takes the K and V matrices generated by the Encoder and in computes the second multi-head attention layer with the Q matrix from the output:\n",
    "\n",
    "<img src=\"images/Decoder.png\"/>\n",
    "\n"
   ]
  },
  {
   "cell_type": "markdown",
   "id": "b0a1075e",
   "metadata": {},
   "source": [
    "<a name=\"8.1\"></a>\n",
    "### <font color='orange'> <b> 8.1. Decoder Layer </b> </font>\n",
    "\n",
    "Again, you'll pair multi-head attention with a feed forward neural network, but this time you'll implement two multi-head attention layers. You will also use residual connections and layer normalization to help speed up training .\n",
    "\n",
    "Implement `DecoderLayer()` using the `call()` method\n",
    "    \n",
    "1. Block 1 is a multi-head attention layer with a residual connection, dropout layer, and look-ahead mask.\n",
    "\n",
    "2. Block 2 will take into account the output of the Encoder, so the multi-head attention layer will receive K and V from the encoder, and Q from the Block 1. You will then apply a dropout layer, layer normalization and a residual connection, just like you've done before. \n",
    "\n",
    "3. Block 3 is a feed forward neural network with dropout and normalization layers and a residual connection."
   ]
  },
  {
   "cell_type": "code",
   "execution_count": 32,
   "id": "95126964",
   "metadata": {},
   "outputs": [],
   "source": [
    "class DecoderLayer(tf.keras.layers.Layer):\n",
    "    \"\"\"\n",
    "    The decoder layer is composed by two multi-head attention blocks, \n",
    "    one that takes the new input and uses self-attention, and the other \n",
    "    one that combines it with the output of the encoder, followed by a\n",
    "    fully connected block. \n",
    "    \"\"\"\n",
    "    def __init__(self, embedding_dim, num_heads, fully_connected_dim, dropout_rate=0.1, layernorm_eps=1e-6):\n",
    "        super(DecoderLayer, self).__init__()\n",
    "\n",
    "        self.mha1 = MultiHeadAttention(num_heads=num_heads,\n",
    "                                      key_dim=embedding_dim)\n",
    "\n",
    "        self.mha2 = MultiHeadAttention(num_heads=num_heads,\n",
    "                                      key_dim=embedding_dim)\n",
    "\n",
    "        self.ffn = FullyConnected(embedding_dim=embedding_dim,\n",
    "                                  fully_connected_dim=fully_connected_dim)\n",
    "\n",
    "        self.layernorm1 = LayerNormalization(epsilon=layernorm_eps)\n",
    "        self.layernorm2 = LayerNormalization(epsilon=layernorm_eps)\n",
    "        self.layernorm3 = LayerNormalization(epsilon=layernorm_eps)\n",
    "\n",
    "        self.dropout1 = Dropout(dropout_rate)\n",
    "        self.dropout2 = Dropout(dropout_rate)\n",
    "        self.dropout3 = Dropout(dropout_rate)\n",
    "    \n",
    "    def call(self, x, enc_output, training, look_ahead_mask, padding_mask):\n",
    "        \"\"\"\n",
    "        Forward pass for the Decoder Layer\n",
    "        \n",
    "        Arguments:\n",
    "            x -- Tensor of shape (batch_size, target_seq_len, embedding_dim)\n",
    "            enc_output --  Tensor of shape(batch_size, input_seq_len, embedding_dim)\n",
    "            training -- Boolean, set to true to activate\n",
    "                        the training mode for dropout layers\n",
    "            look_ahead_mask -- Boolean mask for the target_input\n",
    "            padding_mask -- Boolean mask for the second multihead attention layer\n",
    "        Returns:\n",
    "            out3 -- Tensor of shape (batch_size, target_seq_len, embedding_dim)\n",
    "            attn_weights_block1 -- Tensor of shape(batch_size, num_heads, target_seq_len, input_seq_len)\n",
    "            attn_weights_block2 -- Tensor of shape(batch_size, num_heads, target_seq_len, input_seq_len)\n",
    "        \"\"\"\n",
    "        \n",
    "        # enc_output.shape == (batch_size, input_seq_len, embedding_dim)\n",
    "        \n",
    "        #x = tf.cast(x, tf.float32)\n",
    "        \n",
    "        # BLOCK 1\n",
    "        # calculate self-attention and return attention scores as attn_weights_block1 (~1 line)\n",
    "        attn1, attn_weights_block1 = self.mha1(x, x, x,look_ahead_mask, return_attention_scores=True)  # (batch_size, target_seq_len, d_model)\n",
    "        \n",
    "        \n",
    "        # apply dropout layer on the attention output (~1 line)\n",
    "        attn1 = self.dropout1(attn1, training = training)\n",
    "        \n",
    "        # apply layer normalization to the sum of the attention output and the input (~1 line)\n",
    "        out1 = self.layernorm1(attn1 + x)\n",
    "\n",
    "        # BLOCK 2\n",
    "        # calculate self-attention using the Q from the first block and K and V from the encoder output.\n",
    "        # MultiHeadAttention's call takes input (Query, Value, Key, attention_mask, return_attention_scores, training)\n",
    "        # Return attention scores as attn_weights_block2 (~1 line)\n",
    "        attn2, attn_weights_block2 = self.mha2( out1,enc_output, enc_output, padding_mask, return_attention_scores=True)  # (batch_size, target_seq_len, d_model)\n",
    "        \n",
    "        # apply dropout layer on the attention output (~1 line)\n",
    "        attn2 = self.dropout2(attn2, training=training)\n",
    "        \n",
    "        # apply layer normalization to the sum of the attention output and the output of the first block (~1 line)\n",
    "        out2 = self.layernorm2(attn2 + out1)  # (batch_size, target_seq_len, embedding_dim)\n",
    "        \n",
    "        #BLOCK 3\n",
    "        # pass the output of the second block through a ffn\n",
    "        ffn_output = self.ffn(out2) # (batch_size, target_seq_len, embedding_dim)\n",
    "        \n",
    "        # apply a dropout layer to the ffn output\n",
    "        ffn_output = self.dropout3(ffn_output, training=training)\n",
    "        \n",
    "        # apply layer normalization to the sum of the ffn output and the output of the second block\n",
    "        out3 =  self.layernorm3(ffn_output + out2) # (batch_size, target_seq_len, embedding_dim)\n",
    "\n",
    "        return out3, attn_weights_block1, attn_weights_block2\n",
    "    "
   ]
  },
  {
   "cell_type": "code",
   "execution_count": 33,
   "id": "c0c1c5f2",
   "metadata": {},
   "outputs": [
    {
     "name": "stdout",
     "output_type": "stream",
     "text": [
      "Output shape: (2, 15, 64)\n",
      "Attention weights block 1 shape: (2, 4, 15, 15)\n",
      "Attention weights block 2 shape: (2, 4, 15, 15)\n"
     ]
    },
    {
     "data": {
      "text/plain": [
       "<tf.Tensor: shape=(2, 15, 64), dtype=float32, numpy=\n",
       "array([[[-1.954,  0.069, -0.78 , ...,  0.59 , -0.406,  0.768],\n",
       "        [-0.657, -0.195, -1.372, ..., -0.243, -1.091,  0.467],\n",
       "        [-1.113, -0.641, -0.384, ..., -1.154,  0.462,  1.47 ],\n",
       "        ...,\n",
       "        [-0.366,  1.158, -0.297, ...,  1.094,  1.011, -0.164],\n",
       "        [-0.368,  1.137, -0.323, ...,  1.071,  0.992, -0.233],\n",
       "        [-0.307,  1.109, -0.265, ...,  1.161,  0.787, -0.177]],\n",
       "\n",
       "       [[-0.647, -1.08 ,  0.911, ..., -0.761,  1.967, -0.525],\n",
       "        [-0.942,  0.577,  0.269, ..., -1.648, -0.143, -1.17 ],\n",
       "        [-0.514,  1.08 , -0.708, ...,  0.964,  0.815, -0.183],\n",
       "        ...,\n",
       "        [-0.385,  1.132, -0.29 , ...,  1.151,  1.035, -0.22 ],\n",
       "        [-0.371,  1.028, -0.261, ...,  1.176,  1.087, -0.178],\n",
       "        [-0.396,  1.039, -0.342, ...,  1.054,  0.984,  0.255]]],\n",
       "      dtype=float32)>"
      ]
     },
     "execution_count": 33,
     "metadata": {},
     "output_type": "execute_result"
    }
   ],
   "source": [
    "# Tokenizer and example sentences\n",
    "input_text = [\"This is a test.\", \"How are you?\"]\n",
    "target_text = [\"Esto es una prueba.\", \"¿Cómo estás?\"]\n",
    "\n",
    "# Define tokenizer\n",
    "tokenizer = tf.keras.preprocessing.text.Tokenizer(filters='', lower=False)\n",
    "tokenizer.fit_on_texts(input_text + target_text)\n",
    "\n",
    "# Parameters\n",
    "embedding_dim = 64\n",
    "num_heads = 4\n",
    "fully_connected_dim = 256\n",
    "dropout_rate = 0.1\n",
    "layernorm_eps = 1e-6\n",
    "max_seq_len = 15  # Maximum sequence length for padding\n",
    "batch_size = len(input_text)\n",
    "\n",
    "# Tokenize and pad sequences\n",
    "input_sequences = tokenizer.texts_to_sequences(input_text)\n",
    "target_sequences = tokenizer.texts_to_sequences(target_text)\n",
    "\n",
    "input_sequences = tf.keras.preprocessing.sequence.pad_sequences(\n",
    "    input_sequences, maxlen=max_seq_len, padding='post'\n",
    ")\n",
    "target_sequences = tf.keras.preprocessing.sequence.pad_sequences(\n",
    "    target_sequences, maxlen=max_seq_len, padding='post'\n",
    ")\n",
    "\n",
    "# Embedding layer to simulate word embeddings\n",
    "embedding_layer = tf.keras.layers.Embedding(\n",
    "    input_dim=len(tokenizer.word_index) + 1, output_dim=embedding_dim\n",
    ")\n",
    "\n",
    "# Inputs to the model\n",
    "encoder_output = embedding_layer(input_sequences)  # Simulated encoder output\n",
    "decoder_input = embedding_layer(target_sequences)  # Target sequence embeddings\n",
    "\n",
    "\n",
    "\"\"\"\n",
    "# Masks\n",
    "def create_look_ahead_mask(size):\n",
    "    mask = 1 - tf.linalg.band_part(tf.ones((size, size)), -1, 0)\n",
    "    return mask  # Shape: (size, size)\n",
    "\n",
    "def create_padding_mask(seq):\n",
    "    seq = tf.cast(tf.math.equal(seq, 0), tf.float32)\n",
    "    return seq[:, tf.newaxis, tf.newaxis, :]  # Shape: (batch_size, 1, 1, seq_len)\n",
    "\"\"\"\n",
    "\n",
    "\n",
    "look_ahead_mask = create_look_ahead_mask(max_seq_len)\n",
    "padding_mask = create_padding_mask(input_sequences)\n",
    "\n",
    "# Initialize DecoderLayer\n",
    "decoder_layer = DecoderLayer(\n",
    "    embedding_dim=embedding_dim,\n",
    "    num_heads=num_heads,\n",
    "    fully_connected_dim=fully_connected_dim,\n",
    "    dropout_rate=dropout_rate,\n",
    "    layernorm_eps=layernorm_eps\n",
    ")\n",
    "\n",
    "# Forward pass through the DecoderLayer\n",
    "out3, attn_weights_block1, attn_weights_block2 = decoder_layer(\n",
    "    decoder_input, encoder_output, training=True, look_ahead_mask=look_ahead_mask, padding_mask=padding_mask\n",
    ")\n",
    "\n",
    "# Results\n",
    "print(\"Output shape:\", out3.shape)\n",
    "print(\"Attention weights block 1 shape:\", attn_weights_block1.shape)\n",
    "print(\"Attention weights block 2 shape:\", attn_weights_block2.shape)\n",
    "\n",
    "\n",
    "out3"
   ]
  },
  {
   "cell_type": "markdown",
   "id": "570a3586",
   "metadata": {},
   "source": [
    "<a name=\"8.2\"></a>\n",
    "### <font color='orange'> <b> 8.2. Full Decoder </b> </font>\n",
    "\n",
    "You will embedd your output and add positional encodings. You will then feed your encoded embeddings to a stack of Decoder layers. \n",
    "\n",
    "<img src=\"images/FullDecoder.png\"/>\n"
   ]
  },
  {
   "cell_type": "markdown",
   "id": "d3c38426",
   "metadata": {},
   "source": [
    "Implement `Decoder()` using the `call()` method to embed your output, add positional encoding, and implement multiple decoder layers\n",
    " \n",
    "You will initialize your Decoder with an Embedding layer, positional encoding, and multiple DecoderLayers. Your `call()` method will perform the following steps: \n",
    "\n",
    "1. Pass your generated output through the Embedding layer.\n",
    "2. Scale your embedding by multiplying it by the square root of your embedding dimension.\n",
    "3. Add the position encoding: self.pos_encoding `[:, :seq_len, :]` to your embedding.\n",
    "4. Pass the encoded embedding through a dropout layer, remembering to use the `training` parameter to set the model training mode. \n",
    "5. Pass the output of the dropout layer through the stack of Decoding layers."
   ]
  },
  {
   "cell_type": "code",
   "execution_count": 34,
   "id": "601fa501",
   "metadata": {},
   "outputs": [],
   "source": [
    "class Decoder(tf.keras.layers.Layer):\n",
    "    \"\"\"\n",
    "    The entire Encoder is starts by passing the target input to an embedding layer \n",
    "    and using positional encoding to then pass the output through a stack of\n",
    "    decoder Layers\n",
    "        \n",
    "    \"\"\" \n",
    "    def __init__(self, num_layers, embedding_dim, num_heads, fully_connected_dim, target_vocab_size,\n",
    "               maximum_position_encoding, dropout_rate=0.1, layernorm_eps=1e-6):\n",
    "        super(Decoder, self).__init__()\n",
    "\n",
    "        self.embedding_dim = embedding_dim\n",
    "        self.num_layers = num_layers\n",
    "\n",
    "        self.embedding = Embedding(target_vocab_size, self.embedding_dim)\n",
    "        self.pos_encoding = positional_encoding(maximum_position_encoding, self.embedding_dim)\n",
    "\n",
    "        self.dec_layers = [DecoderLayer(embedding_dim=self.embedding_dim,\n",
    "                                        num_heads=num_heads,\n",
    "                                        fully_connected_dim=fully_connected_dim,\n",
    "                                        dropout_rate=dropout_rate,\n",
    "                                        layernorm_eps=layernorm_eps) \n",
    "                           for _ in range(self.num_layers)]\n",
    "        self.dropout = Dropout(dropout_rate)\n",
    "    \n",
    "    def call(self, x, enc_output, training, \n",
    "           look_ahead_mask, padding_mask):\n",
    "        \"\"\"\n",
    "        Forward  pass for the Decoder\n",
    "        \n",
    "        Arguments:\n",
    "            x -- Tensor of shape (batch_size, target_seq_len, embedding_dim)\n",
    "            enc_output --  Tensor of shape(batch_size, input_seq_len, embedding_dim)\n",
    "            training -- Boolean, set to true to activate\n",
    "                        the training mode for dropout layers\n",
    "            look_ahead_mask -- Boolean mask for the target_input\n",
    "            padding_mask -- Boolean mask for the second multihead attention layer\n",
    "        Returns:\n",
    "            x -- Tensor of shape (batch_size, target_seq_len, embedding_dim)\n",
    "            attention_weights - Dictionary of tensors containing all the attention weights\n",
    "                                each of shape Tensor of shape (batch_size, num_heads, target_seq_len, input_seq_len)\n",
    "        \"\"\"\n",
    "\n",
    "        seq_len = tf.shape(x)[1]\n",
    "        attention_weights = {}\n",
    "\n",
    "        # create word embeddings \n",
    "        x = self.embedding(x)  # (batch_size, target_seq_len, embedding_dim)\n",
    "        \n",
    "        # scale embeddings by multiplying by the square root of their dimension\n",
    "        x *= tf.math.sqrt(tf.cast(self.embedding_dim, tf.float32))\n",
    "        \n",
    "        # calculate positional encodings and add to word embedding\n",
    "        x += self.pos_encoding[:, :seq_len, :]\n",
    "        \n",
    "        # apply a dropout layer to x\n",
    "        x = self.dropout(x, training=training)\n",
    "\n",
    "        # use a for loop to pass x through a stack of decoder layers and update attention_weights (~4 lines total)\n",
    "        for i in range(self.num_layers):\n",
    "            # pass x and the encoder output through a stack of decoder layers and save the attention weights\n",
    "            # of block 1 and 2\n",
    "            x, block1, block2 = self.dec_layers[i](x, enc_output, training, look_ahead_mask, padding_mask)\n",
    "\n",
    "            #update attention_weights dictionary with the attention weights of block 1 and block 2\n",
    "            attention_weights['decoder_layer{}_block1_self_att'.format(i+1)] = block1\n",
    "            attention_weights['decoder_layer{}_block2_decenc_att'.format(i+1)] = block2\n",
    "\n",
    "        \n",
    "        # x.shape == (batch_size, target_seq_len, embedding_dim)\n",
    "        return x, attention_weights"
   ]
  },
  {
   "cell_type": "code",
   "execution_count": 35,
   "id": "cb1678ad",
   "metadata": {},
   "outputs": [
    {
     "name": "stdout",
     "output_type": "stream",
     "text": [
      "Decoder output shape: (2, 15, 64)\n",
      "decoder_layer1_block1_self_att shape: (2, 4, 15, 15)\n",
      "decoder_layer1_block2_decenc_att shape: (2, 4, 15, 15)\n",
      "decoder_layer2_block1_self_att shape: (2, 4, 15, 15)\n",
      "decoder_layer2_block2_decenc_att shape: (2, 4, 15, 15)\n",
      "decoder_layer3_block1_self_att shape: (2, 4, 15, 15)\n",
      "decoder_layer3_block2_decenc_att shape: (2, 4, 15, 15)\n"
     ]
    },
    {
     "data": {
      "text/plain": [
       "<tf.Tensor: shape=(2, 15, 64), dtype=float32, numpy=\n",
       "array([[[ 1.058e+00,  1.346e+00, -5.090e-01, ..., -1.852e-01,\n",
       "         -1.106e+00,  5.112e-01],\n",
       "        [ 4.595e-01,  9.560e-01, -6.160e-01, ..., -8.296e-01,\n",
       "         -1.024e+00,  1.054e+00],\n",
       "        [-4.885e-01, -1.668e+00,  1.413e+00, ...,  2.886e-01,\n",
       "         -9.335e-02,  5.451e-01],\n",
       "        ...,\n",
       "        [-8.727e-01,  4.817e-01,  1.129e+00, ...,  5.764e-01,\n",
       "         -5.469e-01,  8.673e-02],\n",
       "        [ 1.145e+00,  9.164e-01, -7.235e-01, ...,  1.595e-01,\n",
       "         -1.957e-01, -1.427e+00],\n",
       "        [ 2.037e+00, -8.225e-01, -1.217e+00, ...,  4.961e-01,\n",
       "         -3.399e-01, -1.160e-01]],\n",
       "\n",
       "       [[ 9.116e-01,  7.945e-01, -1.768e+00, ..., -4.350e-01,\n",
       "         -4.551e-01, -7.759e-01],\n",
       "        [ 5.105e-01,  6.132e-01, -1.179e-01, ..., -1.171e+00,\n",
       "         -5.238e-01,  1.111e+00],\n",
       "        [ 5.228e-01, -9.927e-02,  2.643e-02, ...,  8.525e-01,\n",
       "         -1.007e+00,  7.368e-01],\n",
       "        ...,\n",
       "        [ 2.295e-01,  1.000e+00,  1.048e-01, ...,  3.975e-01,\n",
       "         -6.071e-01, -4.430e-01],\n",
       "        [ 3.810e-01,  1.444e+00, -2.292e-01, ...,  4.804e-01,\n",
       "          8.015e-02, -5.446e-01],\n",
       "        [ 2.120e+00,  1.559e-04, -1.123e+00, ...,  6.477e-01,\n",
       "         -2.491e-02, -5.564e-01]]], dtype=float32)>"
      ]
     },
     "execution_count": 35,
     "metadata": {},
     "output_type": "execute_result"
    }
   ],
   "source": [
    "# Example sentences for translation\n",
    "input_text = [\"This is a test.\", \"How are you?\"]\n",
    "target_text = [\"Esto es una prueba.\", \"¿Cómo estás?\"]\n",
    "\n",
    "# Tokenizer setup\n",
    "tokenizer = tf.keras.preprocessing.text.Tokenizer(filters='', lower=False)\n",
    "tokenizer.fit_on_texts(input_text + target_text)\n",
    "\n",
    "# Parameters\n",
    "num_layers = 3\n",
    "embedding_dim = 64\n",
    "num_heads = 4\n",
    "fully_connected_dim = 256\n",
    "dropout_rate = 0.1\n",
    "layernorm_eps = 1e-6\n",
    "max_seq_len = 15\n",
    "target_vocab_size = len(tokenizer.word_index) + 1\n",
    "maximum_position_encoding = max_seq_len\n",
    "batch_size = len(input_text)\n",
    "\n",
    "# Tokenize and pad sequences\n",
    "input_sequences = tokenizer.texts_to_sequences(input_text)\n",
    "target_sequences = tokenizer.texts_to_sequences(target_text)\n",
    "\n",
    "input_sequences = tf.keras.preprocessing.sequence.pad_sequences(\n",
    "    input_sequences, maxlen=max_seq_len, padding='post'\n",
    ")\n",
    "target_sequences = tf.keras.preprocessing.sequence.pad_sequences(\n",
    "    target_sequences, maxlen=max_seq_len, padding='post'\n",
    ")\n",
    "\n",
    "# Embedding layer to simulate encoder output\n",
    "embedding_layer = tf.keras.layers.Embedding(\n",
    "    input_dim=len(tokenizer.word_index) + 1, output_dim=embedding_dim\n",
    ")\n",
    "\n",
    "# Simulated encoder output\n",
    "encoder_output = embedding_layer(input_sequences)\n",
    "\n",
    "# masks\n",
    "look_ahead_mask = create_look_ahead_mask(max_seq_len)\n",
    "padding_mask = create_padding_mask(input_sequences)\n",
    "\n",
    "\n",
    "# Initialize Decoder\n",
    "decoder = Decoder(\n",
    "    num_layers=num_layers,\n",
    "    embedding_dim=embedding_dim,\n",
    "    num_heads=num_heads,\n",
    "    fully_connected_dim=fully_connected_dim,\n",
    "    target_vocab_size=target_vocab_size,\n",
    "    maximum_position_encoding=maximum_position_encoding,\n",
    "    dropout_rate=dropout_rate,\n",
    "    layernorm_eps=layernorm_eps\n",
    ")\n",
    "\n",
    "# Forward pass through the Decoder\n",
    "decoder_input = tf.convert_to_tensor(target_sequences)\n",
    "out, attention_weights = decoder(\n",
    "    decoder_input, encoder_output, training=True,\n",
    "    look_ahead_mask=look_ahead_mask, padding_mask=padding_mask\n",
    ")\n",
    "\n",
    "# Results\n",
    "print(\"Decoder output shape:\", out.shape)\n",
    "for key, value in attention_weights.items():\n",
    "    print(f\"{key} shape: {value.shape}\")\n",
    "\n",
    "out"
   ]
  },
  {
   "cell_type": "markdown",
   "id": "b06667e6",
   "metadata": {},
   "source": [
    "<a name=\"9\"></a>\n",
    "## <font color='red'> <b>  9. TRANSFORMER </b> </font>\n",
    "\n",
    "<a name=\"9.1\"></a>\n",
    "### <font color='orange'> <b> 9.1. Model </b> </font>"
   ]
  },
  {
   "cell_type": "markdown",
   "id": "343f8c5a",
   "metadata": {},
   "source": [
    "<img src=\"images/TRANSFORMER.png\"/>"
   ]
  },
  {
   "cell_type": "code",
   "execution_count": 36,
   "id": "457cdb39",
   "metadata": {},
   "outputs": [],
   "source": [
    "class Transformer(tf.keras.Model):\n",
    "    \"\"\"\n",
    "    Complete transformer with an Encoder and a Decoder\n",
    "    \"\"\"\n",
    "    def __init__(self, num_layers, embedding_dim, num_heads, fully_connected_dim, input_vocab_size, \n",
    "               target_vocab_size, max_positional_encoding_input,\n",
    "               max_positional_encoding_target, dropout_rate=0.1, layernorm_eps=1e-6):\n",
    "        super(Transformer, self).__init__()\n",
    "\n",
    "        self.encoder = Encoder(num_layers=num_layers,\n",
    "                               embedding_dim=embedding_dim,\n",
    "                               num_heads=num_heads,\n",
    "                               fully_connected_dim=fully_connected_dim,\n",
    "                               input_vocab_size=input_vocab_size,\n",
    "                               maximum_position_encoding=max_positional_encoding_input,\n",
    "                               dropout_rate=dropout_rate,\n",
    "                               layernorm_eps=layernorm_eps)\n",
    "\n",
    "        self.decoder = Decoder(num_layers=num_layers, \n",
    "                               embedding_dim=embedding_dim,\n",
    "                               num_heads=num_heads,\n",
    "                               fully_connected_dim=fully_connected_dim,\n",
    "                               target_vocab_size=target_vocab_size, \n",
    "                               maximum_position_encoding=max_positional_encoding_target,\n",
    "                               dropout_rate=dropout_rate,\n",
    "                               layernorm_eps=layernorm_eps)\n",
    "\n",
    "        self.final_layer = Dense(target_vocab_size, activation='softmax')\n",
    "    \n",
    "    def call(self, inp, tar, training, enc_padding_mask, look_ahead_mask, dec_padding_mask):\n",
    "        \"\"\"\n",
    "        Forward pass for the entire Transformer\n",
    "        Arguments:\n",
    "            inp -- Tensor of shape (batch_size, input_seq_len, fully_connected_dim)\n",
    "            tar -- Tensor of shape (batch_size, target_seq_len, fully_connected_dim)\n",
    "            training -- Boolean, set to true to activate\n",
    "                        the training mode for dropout layers\n",
    "            enc_padding_mask -- Boolean mask to ensure that the padding is not \n",
    "                    treated as part of the input\n",
    "            look_ahead_mask -- Boolean mask for the target_input\n",
    "            padding_mask -- Boolean mask for the second multihead attention layer\n",
    "        Returns:\n",
    "            final_output -- Describe me\n",
    "            attention_weights - Dictionary of tensors containing all the attention weights for the decoder\n",
    "                                each of shape Tensor of shape (batch_size, num_heads, target_seq_len, input_seq_len)\n",
    "        \n",
    "        \"\"\"\n",
    "        # call self.encoder with the appropriate arguments to get the encoder output\n",
    "        enc_output = self.encoder(inp,training,enc_padding_mask) # (batch_size, inp_seq_len, fully_connected_dim)\n",
    "        \n",
    "        # call self.decoder with the appropriate arguments to get the decoder output\n",
    "        # dec_output.shape == (batch_size, tar_seq_len, fully_connected_dim)\n",
    "        dec_output, attention_weights = self.decoder(tar, enc_output, training, look_ahead_mask, dec_padding_mask)\n",
    "        \n",
    "        # pass decoder output through a linear layer and softmax\n",
    "        final_output = self.final_layer(dec_output)  # (batch_size, tar_seq_len, target_vocab_size)\n",
    "\n",
    "        return final_output, attention_weights"
   ]
  },
  {
   "cell_type": "markdown",
   "id": "c043f92a",
   "metadata": {},
   "source": [
    "Let's try it:"
   ]
  },
  {
   "cell_type": "code",
   "execution_count": 37,
   "id": "f93beb90",
   "metadata": {},
   "outputs": [
    {
     "name": "stdout",
     "output_type": "stream",
     "text": [
      "tf.Tensor([0.033 0.019 0.033 0.023 0.029 0.02  0.022 0.046], shape=(8,), dtype=float32)\n"
     ]
    }
   ],
   "source": [
    "num_layers = 6\n",
    "embedding_dim = 4\n",
    "num_heads = 4\n",
    "fully_connected_dim = 8\n",
    "input_vocab_size = 30\n",
    "target_vocab_size = 35\n",
    "max_positional_encoding_input = 1000\n",
    "max_positional_encoding_target = 1000\n",
    "\n",
    "# Define tokenizer parameters\n",
    "vocab_size = 10000\n",
    "max_seq_len_input = 100\n",
    "max_seq_len_target = 100\n",
    "\n",
    "# Original sentences (before tokenization)\n",
    "original_text_lang_a = \"The quick brown fox jumps over the lazy dog\"\n",
    "original_text_lang_b = \"El rápido zorro marrón salta sobre el perro perezoso\"\n",
    "\n",
    "# Create tokenizers\n",
    "tokenizer_lang_a = Tokenizer(num_words=vocab_size, oov_token=\"<OOV>\")\n",
    "tokenizer_lang_b = Tokenizer(num_words=vocab_size, oov_token=\"<OOV>\")\n",
    "\n",
    "# Fit tokenizers on the respective text\n",
    "tokenizer_lang_a.fit_on_texts([original_text_lang_a])\n",
    "tokenizer_lang_b.fit_on_texts([original_text_lang_b])\n",
    "\n",
    "# Tokenize and pad sequences\n",
    "sentence_lang_a = tokenizer_lang_a.texts_to_sequences([original_text_lang_a])\n",
    "sentence_lang_b = tokenizer_lang_b.texts_to_sequences([original_text_lang_b])\n",
    "\n",
    "sentence_lang_a = pad_sequences(sentence_lang_a, maxlen=max_seq_len_input, padding='post')\n",
    "sentence_lang_b = pad_sequences(sentence_lang_b, maxlen=max_seq_len_target, padding='post')\n",
    "\n",
    "# Generate padding and look-ahead masks\n",
    "enc_padding_mask = create_padding_mask(sentence_lang_a)\n",
    "dec_padding_mask = create_padding_mask(sentence_lang_b)\n",
    "look_ahead_mask = create_look_ahead_mask(sentence_lang_b.shape[1])\n",
    "\n",
    "\n",
    "\n",
    "trans = Transformer(num_layers, \n",
    "                    embedding_dim, \n",
    "                    num_heads, \n",
    "                    fully_connected_dim, \n",
    "                    input_vocab_size, \n",
    "                    target_vocab_size, \n",
    "                    max_positional_encoding_input,\n",
    "                    max_positional_encoding_target)\n",
    "\n",
    "\n",
    "# Translate using the transformer\n",
    "translation, weights = trans(\n",
    "    sentence_lang_a,\n",
    "    sentence_lang_b,\n",
    "    training=True,\n",
    "    enc_padding_mask=enc_padding_mask,\n",
    "    look_ahead_mask=look_ahead_mask,\n",
    "    dec_padding_mask=dec_padding_mask\n",
    ")\n",
    "\n",
    "# Print part of the translation output for inspection\n",
    "print(translation[0, 0, 0:8])\n"
   ]
  },
  {
   "cell_type": "markdown",
   "id": "ceadbae6",
   "metadata": {},
   "source": [
    "<a name=\"9.2\"></a>\n",
    "### <font color='orange'> <b> 9.2. Training and predictions </b> </font>"
   ]
  },
  {
   "cell_type": "markdown",
   "id": "e03fb3b2",
   "metadata": {},
   "source": [
    "Now we will train our model on a very small fictitious dataset."
   ]
  },
  {
   "cell_type": "code",
   "execution_count": 38,
   "id": "be1394cd",
   "metadata": {},
   "outputs": [],
   "source": [
    "from tensorflow.keras.optimizers import Adam"
   ]
  },
  {
   "cell_type": "code",
   "execution_count": 39,
   "id": "c745fbb5",
   "metadata": {},
   "outputs": [],
   "source": [
    "# Define a small dataset of input-output sentence pairs\n",
    "input_texts = [\n",
    "    \"The quick brown fox.\",\n",
    "    \"The lazy dog.\",\n",
    "    \"I love programming.\",\n",
    "    \"Transformers are powerful.\",\n",
    "    \"AI is the future.\",\n",
    "    \"I am powerful.\",\n",
    "    \"Transformers are interesting.\",\n",
    "]\n",
    "target_texts = [\n",
    "    \"El rápido zorro marrón.\",\n",
    "    \"El perro perezoso.\",\n",
    "    \"Amo programar.\",\n",
    "    \"Los transformadores son poderosos.\",\n",
    "    \"La inteligencia artificial es el futuro.\",\n",
    "    \"Soy poderoso.\",\n",
    "    \"Los transformadores son interesantes.\",\n",
    "]"
   ]
  },
  {
   "cell_type": "code",
   "execution_count": 40,
   "id": "b067ea8d",
   "metadata": {},
   "outputs": [],
   "source": [
    "# Hyperparameters\n",
    "num_layers = 2\n",
    "embedding_dim = 16\n",
    "num_heads = 2\n",
    "fully_connected_dim = 32\n",
    "input_vocab_size = 10000\n",
    "target_vocab_size = 10000\n",
    "max_positional_encoding_input = 100\n",
    "max_positional_encoding_target = 100\n",
    "max_seq_len_input = 20\n",
    "max_seq_len_target = 20\n",
    "batch_size = 2\n",
    "epochs = 10"
   ]
  },
  {
   "cell_type": "markdown",
   "id": "eec39679",
   "metadata": {},
   "source": [
    "### Preprocessing"
   ]
  },
  {
   "cell_type": "code",
   "execution_count": 41,
   "id": "5db5b9ad",
   "metadata": {},
   "outputs": [],
   "source": [
    "# Create and fit tokenizers\n",
    "tokenizer_lang_a = Tokenizer(num_words=input_vocab_size, oov_token=\"<OOV>\")\n",
    "tokenizer_lang_b = Tokenizer(num_words=target_vocab_size, oov_token=\"<OOV>\")\n",
    "\n",
    "tokenizer_lang_a.fit_on_texts(input_texts)\n",
    "tokenizer_lang_b.fit_on_texts(target_texts)\n",
    "\n",
    "# Tokenize and pad sequences\n",
    "input_sequences = tokenizer_lang_a.texts_to_sequences(input_texts)\n",
    "target_sequences = tokenizer_lang_b.texts_to_sequences(target_texts)\n",
    "\n",
    "input_sequences = pad_sequences(input_sequences, maxlen=max_seq_len_input, padding='post')\n",
    "target_sequences = pad_sequences(target_sequences, maxlen=max_seq_len_target, padding='post')\n",
    "\n",
    "# Split target sequences into decoder input and expected output\n",
    "decoder_input = target_sequences[:, :-1]  # Exclude the last token for input\n",
    "decoder_target = target_sequences[:, 1:]  # Exclude the first token for target"
   ]
  },
  {
   "cell_type": "markdown",
   "id": "5ca5a73a",
   "metadata": {},
   "source": [
    "### Model instantiation"
   ]
  },
  {
   "cell_type": "code",
   "execution_count": 42,
   "id": "2a6ff047",
   "metadata": {},
   "outputs": [],
   "source": [
    "# Initialize Transformer\n",
    "trans = Transformer(num_layers, \n",
    "                    embedding_dim, \n",
    "                    num_heads, \n",
    "                    fully_connected_dim, \n",
    "                    input_vocab_size, \n",
    "                    target_vocab_size, \n",
    "                    max_positional_encoding_input,\n",
    "                    max_positional_encoding_target)"
   ]
  },
  {
   "cell_type": "markdown",
   "id": "7e3cba65",
   "metadata": {},
   "source": [
    "### Training"
   ]
  },
  {
   "cell_type": "code",
   "execution_count": 43,
   "id": "4ff24b9d",
   "metadata": {},
   "outputs": [
    {
     "name": "stderr",
     "output_type": "stream",
     "text": [
      "/home/marcos/.local/lib/python3.10/site-packages/keras/src/backend.py:5727: UserWarning: \"`sparse_categorical_crossentropy` received `from_logits=True`, but the `output` argument was produced by a Softmax activation and thus does not represent logits. Was this intended?\n",
      "  output, from_logits = _get_logits(\n"
     ]
    },
    {
     "name": "stdout",
     "output_type": "stream",
     "text": [
      "Epoch 1/10, Loss: 3.6402\n",
      "Epoch 2/10, Loss: 3.6138\n",
      "Epoch 3/10, Loss: 3.5920\n",
      "Epoch 4/10, Loss: 3.5679\n",
      "Epoch 5/10, Loss: 3.5414\n",
      "Epoch 6/10, Loss: 3.5174\n",
      "Epoch 7/10, Loss: 3.4934\n",
      "Epoch 8/10, Loss: 3.4638\n",
      "Epoch 9/10, Loss: 3.4340\n",
      "Epoch 10/10, Loss: 3.4016\n"
     ]
    }
   ],
   "source": [
    "# Optimizer and loss\n",
    "optimizer = Adam()\n",
    "loss_object = tf.keras.losses.SparseCategoricalCrossentropy(from_logits=True, reduction='none')\n",
    "\n",
    "def loss_function(y_true, y_pred):\n",
    "    mask = tf.cast(tf.math.not_equal(y_true, 0), tf.float32)\n",
    "    loss = loss_object(y_true, y_pred)\n",
    "    return tf.reduce_mean(loss * mask)\n",
    "\n",
    "# Training step\n",
    "@tf.function\n",
    "def train_step(inp, tar_inp, tar_real, trans, optimizer):\n",
    "    enc_padding_mask = create_padding_mask(inp)\n",
    "    dec_padding_mask = create_padding_mask(inp)\n",
    "    look_ahead_mask = create_look_ahead_mask(tar_inp.shape[1])\n",
    "    \n",
    "    with tf.GradientTape() as tape:\n",
    "        predictions, _ = trans(inp, tar_inp, True, enc_padding_mask, look_ahead_mask, dec_padding_mask)\n",
    "        loss = loss_function(tar_real, predictions)\n",
    "\n",
    "    gradients = tape.gradient(loss, trans.trainable_variables)\n",
    "    optimizer.apply_gradients(zip(gradients, trans.trainable_variables))\n",
    "\n",
    "    return loss\n",
    "\n",
    "# Prepare dataset\n",
    "dataset = tf.data.Dataset.from_tensor_slices((input_sequences, decoder_input, decoder_target))\n",
    "dataset = dataset.batch(batch_size, drop_remainder=True)\n",
    "\n",
    "# Training loop\n",
    "for epoch in range(epochs):\n",
    "    total_loss = 0\n",
    "    for batch, (inp, tar_inp, tar_real) in enumerate(dataset):\n",
    "        batch_loss = train_step(inp, tar_inp, tar_real, trans, optimizer)\n",
    "        total_loss += batch_loss\n",
    "\n",
    "    print(f\"Epoch {epoch + 1}/{epochs}, Loss: {total_loss.numpy():.4f}\")\n"
   ]
  },
  {
   "cell_type": "markdown",
   "id": "caf6c818",
   "metadata": {},
   "source": [
    "### Predictions"
   ]
  },
  {
   "cell_type": "code",
   "execution_count": 44,
   "id": "fadc16ac",
   "metadata": {},
   "outputs": [
    {
     "name": "stdout",
     "output_type": "stream",
     "text": [
      "Translated Text: son son son son son son son son son son son son son son son son son son son\n"
     ]
    }
   ],
   "source": [
    "# Evaluate model with an input\n",
    "test_input = \"Transformers are powerful.\"\n",
    "test_input_seq = tokenizer_lang_a.texts_to_sequences([test_input])\n",
    "test_input_seq = pad_sequences(test_input_seq, maxlen=max_seq_len_input, padding='post')\n",
    "\n",
    "start_token = tokenizer_lang_b.word_index[\"<OOV>\"]\n",
    "end_token = tokenizer_lang_b.word_index.get(\".\")\n",
    "\n",
    "test_target_seq = [start_token]\n",
    "for _ in range(max_seq_len_target - 1):\n",
    "    target_seq = pad_sequences([test_target_seq], maxlen=max_seq_len_target, padding='post')\n",
    "    enc_padding_mask = create_padding_mask(test_input_seq)\n",
    "    look_ahead_mask = create_look_ahead_mask(len(target_seq[0]))\n",
    "    dec_padding_mask = create_padding_mask(target_seq)\n",
    "    \n",
    "    predictions, _ = trans(\n",
    "        test_input_seq, target_seq, False, enc_padding_mask, look_ahead_mask, dec_padding_mask\n",
    "    )\n",
    "    next_word = tf.argmax(predictions[:, -1, :], axis=-1).numpy()[0]\n",
    "    \n",
    "    if next_word == end_token:\n",
    "        break\n",
    "    test_target_seq.append(next_word)\n",
    "\n",
    "translated_text = \" \".join(\n",
    "    [tokenizer_lang_b.index_word.get(word, \"<OOV>\") for word in test_target_seq[1:]]\n",
    ")\n",
    "print(f\"Translated Text: {translated_text}\")"
   ]
  },
  {
   "cell_type": "markdown",
   "id": "e487096a",
   "metadata": {},
   "source": [
    "Our translation is not good, but we have trained our model with a minimal dataset. Remember that the goal was to show how the implemented transformer could be trained."
   ]
  },
  {
   "cell_type": "markdown",
   "id": "d3c81618",
   "metadata": {},
   "source": [
    "<a name=\"annex\"></a>\n",
    "## <font color='red'> <b>  ANNEX </b> </font>\n",
    "\n",
    "<a name=\"custom_training\"></a>\n",
    "### <font color='orange'> <b> Custom Training in TF </b> </font>"
   ]
  },
  {
   "cell_type": "code",
   "execution_count": 45,
   "id": "07ea8f70",
   "metadata": {},
   "outputs": [],
   "source": [
    "# Generate a simple dataset\n",
    "x_train = np.random.randint(0, 100, size=(1000, 2)).astype(np.float32)\n",
    "y_train = np.sum(x_train, axis=1, keepdims=True).astype(np.float32)\n",
    "\n",
    "x_val = np.random.randint(0, 100, size=(200, 2)).astype(np.float32)\n",
    "y_val = np.sum(x_val, axis=1, keepdims=True).astype(np.float32)"
   ]
  },
  {
   "cell_type": "markdown",
   "id": "fd75e742",
   "metadata": {},
   "source": [
    "#### Define a simple model\n",
    "\n",
    "- The `__init__` method creates all the layers that will be accesed by the the `call` method. Wherever you want to use a layer defined inside  the `__init__`  method you will have to use the syntax `self.[insert layer name]`. \n",
    "\n",
    "\n",
    "- In the\"call\" method we define how the input flows through the model (forward pass)."
   ]
  },
  {
   "cell_type": "code",
   "execution_count": 46,
   "id": "3ab82cc1",
   "metadata": {},
   "outputs": [],
   "source": [
    "# Define a simple custom model\n",
    "class SumModel(tf.keras.Model):\n",
    "    def __init__(self):\n",
    "        super(SumModel, self).__init__()\n",
    "        self.dense1 = tf.keras.layers.Dense(16, activation='relu')\n",
    "        self.dense2 = tf.keras.layers.Dense(1)  # Single output for the sum\n",
    "\n",
    "    def call(self, inputs):\n",
    "        x = self.dense1(inputs)\n",
    "        return self.dense2(x)\n",
    "    \n",
    "model = SumModel()"
   ]
  },
  {
   "cell_type": "markdown",
   "id": "c797aa08",
   "metadata": {},
   "source": [
    "### Training"
   ]
  },
  {
   "cell_type": "code",
   "execution_count": 47,
   "id": "87f0ec04",
   "metadata": {},
   "outputs": [
    {
     "name": "stdout",
     "output_type": "stream",
     "text": [
      "Epoch 1/20, Loss: 34243.1719, Val Loss: 313.8351\n",
      "Epoch 6/20, Loss: 23.3643, Val Loss: 3.4290\n",
      "Epoch 11/20, Loss: 6.2386, Val Loss: 1.0130\n",
      "Epoch 16/20, Loss: 3.5554, Val Loss: 0.7106\n"
     ]
    }
   ],
   "source": [
    "# Define optimizer and loss function\n",
    "optimizer = tf.keras.optimizers.Adam(learning_rate=0.01)\n",
    "loss_object = tf.keras.losses.MeanSquaredError()\n",
    "\n",
    "# Define a training step\n",
    "@tf.function\n",
    "def train_step(x, y):\n",
    "    with tf.GradientTape() as tape:\n",
    "        predictions = model(x)\n",
    "        loss = loss_object(y, predictions)\n",
    "    gradients = tape.gradient(loss, model.trainable_variables)\n",
    "    optimizer.apply_gradients(zip(gradients, model.trainable_variables))\n",
    "    return loss\n",
    "\n",
    "# Define a validation step\n",
    "@tf.function\n",
    "def validate_step(x, y):\n",
    "    predictions = model(x)\n",
    "    loss = loss_object(y, predictions)\n",
    "    return loss\n",
    "\n",
    "# Training loop\n",
    "epochs = 20\n",
    "batch_size = 32\n",
    "\n",
    "for epoch in range(epochs):\n",
    "    # Shuffle and batch the training data\n",
    "    dataset = tf.data.Dataset.from_tensor_slices((x_train, y_train)).shuffle(1000).batch(batch_size)\n",
    "    val_dataset = tf.data.Dataset.from_tensor_slices((x_val, y_val)).batch(batch_size)\n",
    "\n",
    "    # Train\n",
    "    total_loss = 0\n",
    "    for x_batch, y_batch in dataset:\n",
    "        batch_loss = train_step(x_batch, y_batch)\n",
    "        total_loss += batch_loss\n",
    "\n",
    "    # Validate\n",
    "    val_loss = 0\n",
    "    for x_batch, y_batch in val_dataset:\n",
    "        batch_val_loss = validate_step(x_batch, y_batch)\n",
    "        val_loss += batch_val_loss\n",
    "\n",
    "    if (epoch%5==0):\n",
    "        print(f\"Epoch {epoch + 1}/{epochs}, Loss: {total_loss.numpy():.4f}, Val Loss: {val_loss.numpy():.4f}\")"
   ]
  },
  {
   "cell_type": "markdown",
   "id": "b21be68f",
   "metadata": {},
   "source": [
    "### Predictions"
   ]
  },
  {
   "cell_type": "code",
   "execution_count": 48,
   "id": "7f75199f",
   "metadata": {},
   "outputs": [
    {
     "name": "stdout",
     "output_type": "stream",
     "text": [
      "Test Input: [25. 75.], Prediction: 100.53\n"
     ]
    }
   ],
   "source": [
    "test_input = np.array([[25, 75]], dtype=np.float32)\n",
    "prediction = model(test_input)\n",
    "print(f\"Test Input: {test_input[0]}, Prediction: {prediction.numpy()[0][0]:.2f}\")"
   ]
  },
  {
   "cell_type": "markdown",
   "id": "b0a6f4d3",
   "metadata": {},
   "source": [
    "<a name=\"references\"></a>\n",
    "## <font color='red'> <b>  References </b> </font>"
   ]
  },
  {
   "cell_type": "markdown",
   "id": "34f48dd6",
   "metadata": {},
   "source": [
    "- [Attention is all you need](https://arxiv.org/abs/1706.03762)\n",
    "\n",
    "- [Deep Learning Specialization](https://www.coursera.org/specializations/deep-learning)\n",
    "\n",
    "- [NLP Specialization](https://www.coursera.org/specializations/natural-language-processing)"
   ]
  },
  {
   "cell_type": "code",
   "execution_count": null,
   "id": "9bafa5b5",
   "metadata": {},
   "outputs": [],
   "source": []
  }
 ],
 "metadata": {
  "kernelspec": {
   "display_name": "Python 3 (ipykernel)",
   "language": "python",
   "name": "python3"
  },
  "language_info": {
   "codemirror_mode": {
    "name": "ipython",
    "version": 3
   },
   "file_extension": ".py",
   "mimetype": "text/x-python",
   "name": "python",
   "nbconvert_exporter": "python",
   "pygments_lexer": "ipython3",
   "version": "3.10.12"
  }
 },
 "nbformat": 4,
 "nbformat_minor": 5
}
